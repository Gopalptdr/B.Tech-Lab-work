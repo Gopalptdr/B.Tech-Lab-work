{
  "nbformat": 4,
  "nbformat_minor": 0,
  "metadata": {
    "colab": {
      "name": "PC Lab work (V semester)",
      "provenance": [],
      "collapsed_sections": [],
      "include_colab_link": true
    },
    "kernelspec": {
      "name": "python3",
      "display_name": "Python 3"
    },
    "language_info": {
      "name": "python"
    }
  },
  "cells": [
    {
      "cell_type": "markdown",
      "metadata": {
        "id": "view-in-github",
        "colab_type": "text"
      },
      "source": [
        "<a href=\"https://colab.research.google.com/github/Gopalptdr/B.Tech-Lab-work/blob/main/PC_Lab_work_(V_semester).ipynb\" target=\"_parent\"><img src=\"https://colab.research.google.com/assets/colab-badge.svg\" alt=\"Open In Colab\"/></a>"
      ]
    },
    {
      "cell_type": "markdown",
      "metadata": {
        "id": "m7NYAlQScM_W"
      },
      "source": [
        "**Lab-1 (25/08/2021)**\n"
      ]
    },
    {
      "cell_type": "markdown",
      "metadata": {
        "id": "dJDew3O_JBza"
      },
      "source": [
        "**Object-1:-Write a program to fetch the dataset from google drive**\n"
      ]
    },
    {
      "cell_type": "code",
      "metadata": {
        "id": "RWQ69o21Q22l",
        "colab": {
          "base_uri": "https://localhost:8080/"
        },
        "outputId": "d24645dd-09a7-465e-e9fb-66c86bcb739c"
      },
      "source": [
        "from google.colab import drive\n",
        "drive.mount('/content/drive', force_remount=True)"
      ],
      "execution_count": null,
      "outputs": [
        {
          "output_type": "stream",
          "name": "stdout",
          "text": [
            "Mounted at /content/drive\n"
          ]
        }
      ]
    },
    {
      "cell_type": "code",
      "metadata": {
        "colab": {
          "base_uri": "https://localhost:8080/"
        },
        "id": "MfTcQ9G2NTId",
        "outputId": "dd485470-a554-4e61-c376-a8d8049dfe5c"
      },
      "source": [
        "import pandas as pd\n",
        "data = pd.read_csv('/content/drive/MyDrive/Colab Notebooks/spam_ham_dataset.csv')\n",
        "print(data)"
      ],
      "execution_count": null,
      "outputs": [
        {
          "output_type": "stream",
          "name": "stdout",
          "text": [
            "      Unnamed: 0  ... label_num\n",
            "0            605  ...         0\n",
            "1           2349  ...         0\n",
            "2           3624  ...         0\n",
            "3           4685  ...         1\n",
            "4           2030  ...         0\n",
            "...          ...  ...       ...\n",
            "5166        1518  ...         0\n",
            "5167         404  ...         0\n",
            "5168        2933  ...         0\n",
            "5169        1409  ...         0\n",
            "5170        4807  ...         1\n",
            "\n",
            "[5171 rows x 4 columns]\n"
          ]
        }
      ]
    },
    {
      "cell_type": "code",
      "metadata": {
        "colab": {
          "base_uri": "https://localhost:8080/",
          "height": 206
        },
        "id": "K67372UJNyTr",
        "outputId": "a0437112-f352-4fff-ecf7-827cae54e12b"
      },
      "source": [
        "# Show the top 5 data\n",
        "data.head()"
      ],
      "execution_count": null,
      "outputs": [
        {
          "output_type": "execute_result",
          "data": {
            "text/html": [
              "<div>\n",
              "<style scoped>\n",
              "    .dataframe tbody tr th:only-of-type {\n",
              "        vertical-align: middle;\n",
              "    }\n",
              "\n",
              "    .dataframe tbody tr th {\n",
              "        vertical-align: top;\n",
              "    }\n",
              "\n",
              "    .dataframe thead th {\n",
              "        text-align: right;\n",
              "    }\n",
              "</style>\n",
              "<table border=\"1\" class=\"dataframe\">\n",
              "  <thead>\n",
              "    <tr style=\"text-align: right;\">\n",
              "      <th></th>\n",
              "      <th>Unnamed: 0</th>\n",
              "      <th>label</th>\n",
              "      <th>text</th>\n",
              "      <th>label_num</th>\n",
              "    </tr>\n",
              "  </thead>\n",
              "  <tbody>\n",
              "    <tr>\n",
              "      <th>0</th>\n",
              "      <td>605</td>\n",
              "      <td>ham</td>\n",
              "      <td>Subject: enron methanol ; meter # : 988291\\r\\n...</td>\n",
              "      <td>0</td>\n",
              "    </tr>\n",
              "    <tr>\n",
              "      <th>1</th>\n",
              "      <td>2349</td>\n",
              "      <td>ham</td>\n",
              "      <td>Subject: hpl nom for january 9 , 2001\\r\\n( see...</td>\n",
              "      <td>0</td>\n",
              "    </tr>\n",
              "    <tr>\n",
              "      <th>2</th>\n",
              "      <td>3624</td>\n",
              "      <td>ham</td>\n",
              "      <td>Subject: neon retreat\\r\\nho ho ho , we ' re ar...</td>\n",
              "      <td>0</td>\n",
              "    </tr>\n",
              "    <tr>\n",
              "      <th>3</th>\n",
              "      <td>4685</td>\n",
              "      <td>spam</td>\n",
              "      <td>Subject: photoshop , windows , office . cheap ...</td>\n",
              "      <td>1</td>\n",
              "    </tr>\n",
              "    <tr>\n",
              "      <th>4</th>\n",
              "      <td>2030</td>\n",
              "      <td>ham</td>\n",
              "      <td>Subject: re : indian springs\\r\\nthis deal is t...</td>\n",
              "      <td>0</td>\n",
              "    </tr>\n",
              "  </tbody>\n",
              "</table>\n",
              "</div>"
            ],
            "text/plain": [
              "   Unnamed: 0  ... label_num\n",
              "0         605  ...         0\n",
              "1        2349  ...         0\n",
              "2        3624  ...         0\n",
              "3        4685  ...         1\n",
              "4        2030  ...         0\n",
              "\n",
              "[5 rows x 4 columns]"
            ]
          },
          "metadata": {},
          "execution_count": 33
        }
      ]
    },
    {
      "cell_type": "code",
      "metadata": {
        "colab": {
          "base_uri": "https://localhost:8080/",
          "height": 206
        },
        "id": "rVKEUDVyOQb2",
        "outputId": "4a225867-5732-43a8-80ce-82538bc04ca0"
      },
      "source": [
        "# Show the top 5 data\n",
        "data.tail()"
      ],
      "execution_count": null,
      "outputs": [
        {
          "output_type": "execute_result",
          "data": {
            "text/html": [
              "<div>\n",
              "<style scoped>\n",
              "    .dataframe tbody tr th:only-of-type {\n",
              "        vertical-align: middle;\n",
              "    }\n",
              "\n",
              "    .dataframe tbody tr th {\n",
              "        vertical-align: top;\n",
              "    }\n",
              "\n",
              "    .dataframe thead th {\n",
              "        text-align: right;\n",
              "    }\n",
              "</style>\n",
              "<table border=\"1\" class=\"dataframe\">\n",
              "  <thead>\n",
              "    <tr style=\"text-align: right;\">\n",
              "      <th></th>\n",
              "      <th>Unnamed: 0</th>\n",
              "      <th>label</th>\n",
              "      <th>text</th>\n",
              "      <th>label_num</th>\n",
              "    </tr>\n",
              "  </thead>\n",
              "  <tbody>\n",
              "    <tr>\n",
              "      <th>5166</th>\n",
              "      <td>1518</td>\n",
              "      <td>ham</td>\n",
              "      <td>Subject: put the 10 on the ft\\r\\nthe transport...</td>\n",
              "      <td>0</td>\n",
              "    </tr>\n",
              "    <tr>\n",
              "      <th>5167</th>\n",
              "      <td>404</td>\n",
              "      <td>ham</td>\n",
              "      <td>Subject: 3 / 4 / 2000 and following noms\\r\\nhp...</td>\n",
              "      <td>0</td>\n",
              "    </tr>\n",
              "    <tr>\n",
              "      <th>5168</th>\n",
              "      <td>2933</td>\n",
              "      <td>ham</td>\n",
              "      <td>Subject: calpine daily gas nomination\\r\\n&gt;\\r\\n...</td>\n",
              "      <td>0</td>\n",
              "    </tr>\n",
              "    <tr>\n",
              "      <th>5169</th>\n",
              "      <td>1409</td>\n",
              "      <td>ham</td>\n",
              "      <td>Subject: industrial worksheets for august 2000...</td>\n",
              "      <td>0</td>\n",
              "    </tr>\n",
              "    <tr>\n",
              "      <th>5170</th>\n",
              "      <td>4807</td>\n",
              "      <td>spam</td>\n",
              "      <td>Subject: important online banking alert\\r\\ndea...</td>\n",
              "      <td>1</td>\n",
              "    </tr>\n",
              "  </tbody>\n",
              "</table>\n",
              "</div>"
            ],
            "text/plain": [
              "      Unnamed: 0  ... label_num\n",
              "5166        1518  ...         0\n",
              "5167         404  ...         0\n",
              "5168        2933  ...         0\n",
              "5169        1409  ...         0\n",
              "5170        4807  ...         1\n",
              "\n",
              "[5 rows x 4 columns]"
            ]
          },
          "metadata": {},
          "execution_count": 14
        }
      ]
    },
    {
      "cell_type": "markdown",
      "metadata": {
        "id": "yHVRwwMQjGZU"
      },
      "source": [
        "Class Assignment-1\n",
        "\n",
        "**Object-2**"
      ]
    },
    {
      "cell_type": "markdown",
      "metadata": {
        "id": "wBQuig6_OoVm"
      },
      "source": [
        "**Q1.What is pandas Library.** \n",
        "\n",
        "Ans. Pandas is a Python library for data analysis.Pandas is built on top of two core Python libraries—matplotlib for data visualization and NumPy for mathematical operations. Pandas acts as a wrapper over these libraries, allowing you to access many of matplotlib's and NumPy's methods with less code. For instance, pandas' .plot() combines multiple matplotlib methods into a single method, enabling you to plot a chart in a few lines."
      ]
    },
    {
      "cell_type": "markdown",
      "metadata": {
        "id": "m2k14IJgQuT0"
      },
      "source": [
        "**Q2. Explian all the data types in python?**\n",
        "\n",
        "Ans: Every value in Python has a datatype. Since everything is an object in Python programming, data types are actually classes and variables are instance (object) of these classes.\n",
        "\n",
        " \n",
        "These are the basic built-in datatypes in pythn.\n",
        "\n",
        "Text Type: str\n",
        "\n",
        "Numeric Types: int, float, complex\n",
        "\n",
        "Sequence Types: list, tuple, range\n",
        "\n",
        "Mapping Type: dict\n",
        "\n",
        "Set Types: set, frozenset\n",
        "Boolean Type: bool\n",
        "\n",
        "Binary Types: bytes, bytearray, memoryview\n",
        "\n",
        "Other datatypes in python are:\n",
        "\n",
        "numpy.array, pandas.Series, pandas.DataFrame. Tensors, etc.\n",
        "\n"
      ]
    },
    {
      "cell_type": "markdown",
      "metadata": {
        "id": "IngtoZdNReFZ"
      },
      "source": [
        "**Q3. What is the TPU? explian.**\n",
        "\n",
        "Ans: Tensor Processing Units (TPUs) are Google's custom-developed application-specific integrated circuits (ASICs) used to accelerate machine learning workloads. TPUs are designed from the ground up with the benefit of Google's deep experience and leadership in machine learning. Cloud TPUs are available in a base configuration with 8 cores and also in larger configurations called “TPU pods” of up to 2048 cores. The extra hardware can be used to accelerate training by increasing the training batch size.\n",
        "\n",
        "Advantages of TPUs: Cloud TPU resources accelerate the performance of linear algebra computation, which is used heavily in machine learning applications. TPUs minimize the time-to-accuracy when you train large, complex neural network models. Models that previously took weeks to train on other hardware platforms can converge in hours on TPUs."
      ]
    },
    {
      "cell_type": "markdown",
      "metadata": {
        "id": "6NfHcBRlR3_y"
      },
      "source": [
        "**Q4. Write a program to create series with scaler values by using the pandas library? [ ]**"
      ]
    },
    {
      "cell_type": "code",
      "metadata": {
        "colab": {
          "base_uri": "https://localhost:8080/"
        },
        "id": "JjvVNN7rSCEH",
        "outputId": "8b031b21-774e-4adc-868e-20dabb136f80"
      },
      "source": [
        "import pandas as pd\n",
        "import numpy as np\n",
        "\n",
        "# Create an empty pandas Series\n",
        "ser = pd.Series(dtype='float64')\n",
        "print(\"Empty pandas series:\") \n",
        "print(ser)\n",
        "\n",
        "# Create a pandas Series\n",
        "ser = pd.Series([0, 10, 20, 30, 40, 50, 60, 70, 80, 90])\n",
        "print('\\npandas Series:')\n",
        "print(ser)\n",
        "\n",
        "# A series from a numpy array\n",
        "arr = np.array([0, 10, 20, 30, 40, 50])\n",
        "ser = pd.Series(arr, dtype = np.double)\n",
        "print('\\nSeries using numpy array:')\n",
        "print(ser)\n",
        "\n",
        "ser = pd.Series([[15, 4], [89, 23.5], [21, 22]])\n",
        "print('\\npandas series object:')\n",
        "print(ser)"
      ],
      "execution_count": null,
      "outputs": [
        {
          "output_type": "stream",
          "name": "stdout",
          "text": [
            "Empty pandas series:\n",
            "Series([], dtype: float64)\n",
            "\n",
            "pandas Series:\n",
            "0     0\n",
            "1    10\n",
            "2    20\n",
            "3    30\n",
            "4    40\n",
            "5    50\n",
            "6    60\n",
            "7    70\n",
            "8    80\n",
            "9    90\n",
            "dtype: int64\n",
            "\n",
            "Series using numpy array:\n",
            "0     0.0\n",
            "1    10.0\n",
            "2    20.0\n",
            "3    30.0\n",
            "4    40.0\n",
            "5    50.0\n",
            "dtype: float64\n",
            "\n",
            "pandas series object:\n",
            "0       [15, 4]\n",
            "1    [89, 23.5]\n",
            "2      [21, 22]\n",
            "dtype: object\n"
          ]
        }
      ]
    },
    {
      "cell_type": "markdown",
      "metadata": {
        "id": "KkXos2SgmPDw"
      },
      "source": [
        "**Lab-2 (01/09/2021)**"
      ]
    },
    {
      "cell_type": "code",
      "metadata": {
        "colab": {
          "base_uri": "https://localhost:8080/"
        },
        "id": "O6NQjafF9sfE",
        "outputId": "1019b45f-c720-42b7-eedc-68eb9b1d4e3e"
      },
      "source": [
        "len(data)"
      ],
      "execution_count": null,
      "outputs": [
        {
          "output_type": "execute_result",
          "data": {
            "text/plain": [
              "5171"
            ]
          },
          "metadata": {},
          "execution_count": 16
        }
      ]
    },
    {
      "cell_type": "code",
      "metadata": {
        "id": "6OtXY1zABF1m",
        "colab": {
          "base_uri": "https://localhost:8080/"
        },
        "outputId": "a9c3767d-c07c-413d-fe54-761364678d49"
      },
      "source": [
        "data.index"
      ],
      "execution_count": null,
      "outputs": [
        {
          "output_type": "execute_result",
          "data": {
            "text/plain": [
              "RangeIndex(start=0, stop=5171, step=1)"
            ]
          },
          "metadata": {},
          "execution_count": 17
        }
      ]
    },
    {
      "cell_type": "code",
      "metadata": {
        "id": "UAWtOq_fBPUz",
        "colab": {
          "base_uri": "https://localhost:8080/",
          "height": 175
        },
        "outputId": "0005a4be-482f-4286-84d8-7bddeb73d3a6"
      },
      "source": [
        "data[0:4]"
      ],
      "execution_count": null,
      "outputs": [
        {
          "output_type": "execute_result",
          "data": {
            "text/html": [
              "<div>\n",
              "<style scoped>\n",
              "    .dataframe tbody tr th:only-of-type {\n",
              "        vertical-align: middle;\n",
              "    }\n",
              "\n",
              "    .dataframe tbody tr th {\n",
              "        vertical-align: top;\n",
              "    }\n",
              "\n",
              "    .dataframe thead th {\n",
              "        text-align: right;\n",
              "    }\n",
              "</style>\n",
              "<table border=\"1\" class=\"dataframe\">\n",
              "  <thead>\n",
              "    <tr style=\"text-align: right;\">\n",
              "      <th></th>\n",
              "      <th>Unnamed: 0</th>\n",
              "      <th>label</th>\n",
              "      <th>text</th>\n",
              "      <th>label_num</th>\n",
              "    </tr>\n",
              "  </thead>\n",
              "  <tbody>\n",
              "    <tr>\n",
              "      <th>0</th>\n",
              "      <td>605</td>\n",
              "      <td>ham</td>\n",
              "      <td>Subject: enron methanol ; meter # : 988291\\r\\n...</td>\n",
              "      <td>0</td>\n",
              "    </tr>\n",
              "    <tr>\n",
              "      <th>1</th>\n",
              "      <td>2349</td>\n",
              "      <td>ham</td>\n",
              "      <td>Subject: hpl nom for january 9 , 2001\\r\\n( see...</td>\n",
              "      <td>0</td>\n",
              "    </tr>\n",
              "    <tr>\n",
              "      <th>2</th>\n",
              "      <td>3624</td>\n",
              "      <td>ham</td>\n",
              "      <td>Subject: neon retreat\\r\\nho ho ho , we ' re ar...</td>\n",
              "      <td>0</td>\n",
              "    </tr>\n",
              "    <tr>\n",
              "      <th>3</th>\n",
              "      <td>4685</td>\n",
              "      <td>spam</td>\n",
              "      <td>Subject: photoshop , windows , office . cheap ...</td>\n",
              "      <td>1</td>\n",
              "    </tr>\n",
              "  </tbody>\n",
              "</table>\n",
              "</div>"
            ],
            "text/plain": [
              "   Unnamed: 0  ... label_num\n",
              "0         605  ...         0\n",
              "1        2349  ...         0\n",
              "2        3624  ...         0\n",
              "3        4685  ...         1\n",
              "\n",
              "[4 rows x 4 columns]"
            ]
          },
          "metadata": {},
          "execution_count": 18
        }
      ]
    },
    {
      "cell_type": "code",
      "metadata": {
        "colab": {
          "base_uri": "https://localhost:8080/",
          "height": 175
        },
        "id": "AcASU4nFROgR",
        "outputId": "237cea20-bdf5-4be9-87ac-865248b1df62"
      },
      "source": [
        "data[1:5]"
      ],
      "execution_count": null,
      "outputs": [
        {
          "output_type": "execute_result",
          "data": {
            "text/html": [
              "<div>\n",
              "<style scoped>\n",
              "    .dataframe tbody tr th:only-of-type {\n",
              "        vertical-align: middle;\n",
              "    }\n",
              "\n",
              "    .dataframe tbody tr th {\n",
              "        vertical-align: top;\n",
              "    }\n",
              "\n",
              "    .dataframe thead th {\n",
              "        text-align: right;\n",
              "    }\n",
              "</style>\n",
              "<table border=\"1\" class=\"dataframe\">\n",
              "  <thead>\n",
              "    <tr style=\"text-align: right;\">\n",
              "      <th></th>\n",
              "      <th>Unnamed: 0</th>\n",
              "      <th>label</th>\n",
              "      <th>text</th>\n",
              "      <th>label_num</th>\n",
              "    </tr>\n",
              "  </thead>\n",
              "  <tbody>\n",
              "    <tr>\n",
              "      <th>1</th>\n",
              "      <td>2349</td>\n",
              "      <td>ham</td>\n",
              "      <td>Subject: hpl nom for january 9 , 2001\\r\\n( see...</td>\n",
              "      <td>0</td>\n",
              "    </tr>\n",
              "    <tr>\n",
              "      <th>2</th>\n",
              "      <td>3624</td>\n",
              "      <td>ham</td>\n",
              "      <td>Subject: neon retreat\\r\\nho ho ho , we ' re ar...</td>\n",
              "      <td>0</td>\n",
              "    </tr>\n",
              "    <tr>\n",
              "      <th>3</th>\n",
              "      <td>4685</td>\n",
              "      <td>spam</td>\n",
              "      <td>Subject: photoshop , windows , office . cheap ...</td>\n",
              "      <td>1</td>\n",
              "    </tr>\n",
              "    <tr>\n",
              "      <th>4</th>\n",
              "      <td>2030</td>\n",
              "      <td>ham</td>\n",
              "      <td>Subject: re : indian springs\\r\\nthis deal is t...</td>\n",
              "      <td>0</td>\n",
              "    </tr>\n",
              "  </tbody>\n",
              "</table>\n",
              "</div>"
            ],
            "text/plain": [
              "   Unnamed: 0  ... label_num\n",
              "1        2349  ...         0\n",
              "2        3624  ...         0\n",
              "3        4685  ...         1\n",
              "4        2030  ...         0\n",
              "\n",
              "[4 rows x 4 columns]"
            ]
          },
          "metadata": {},
          "execution_count": 19
        }
      ]
    },
    {
      "cell_type": "code",
      "metadata": {
        "colab": {
          "base_uri": "https://localhost:8080/"
        },
        "id": "yNHtMcp2RnZj",
        "outputId": "9781d657-2b52-40c1-f4fe-23a041ed5465"
      },
      "source": [
        "type(data)"
      ],
      "execution_count": null,
      "outputs": [
        {
          "output_type": "execute_result",
          "data": {
            "text/plain": [
              "pandas.core.frame.DataFrame"
            ]
          },
          "metadata": {},
          "execution_count": 21
        }
      ]
    },
    {
      "cell_type": "markdown",
      "metadata": {
        "id": "mfqYQMPqRzHL"
      },
      "source": [
        "**Object-3: Program to analysis of covid19 pandemic dataset**\n"
      ]
    },
    {
      "cell_type": "code",
      "metadata": {
        "colab": {
          "base_uri": "https://localhost:8080/",
          "height": 423
        },
        "id": "-6DNFS1DSCxR",
        "outputId": "f66d2e40-280e-4b2e-b47e-7b28d190c269"
      },
      "source": [
        "import pandas as pd\n",
        "\n",
        "data2 = pd.read_csv('/content/drive/MyDrive/Colab Notebooks/covid_19_clean_complete.csv - covid_19_clean_complete.csv')\n",
        "data2"
      ],
      "execution_count": null,
      "outputs": [
        {
          "output_type": "execute_result",
          "data": {
            "text/html": [
              "<div>\n",
              "<style scoped>\n",
              "    .dataframe tbody tr th:only-of-type {\n",
              "        vertical-align: middle;\n",
              "    }\n",
              "\n",
              "    .dataframe tbody tr th {\n",
              "        vertical-align: top;\n",
              "    }\n",
              "\n",
              "    .dataframe thead th {\n",
              "        text-align: right;\n",
              "    }\n",
              "</style>\n",
              "<table border=\"1\" class=\"dataframe\">\n",
              "  <thead>\n",
              "    <tr style=\"text-align: right;\">\n",
              "      <th></th>\n",
              "      <th>Province/State</th>\n",
              "      <th>Country/Region</th>\n",
              "      <th>Lat</th>\n",
              "      <th>Long</th>\n",
              "      <th>Date</th>\n",
              "      <th>Confirmed</th>\n",
              "      <th>Deaths</th>\n",
              "      <th>Recovered</th>\n",
              "    </tr>\n",
              "  </thead>\n",
              "  <tbody>\n",
              "    <tr>\n",
              "      <th>0</th>\n",
              "      <td>NaN</td>\n",
              "      <td>Afghanistan</td>\n",
              "      <td>33.000000</td>\n",
              "      <td>65.000000</td>\n",
              "      <td>1/22/20</td>\n",
              "      <td>0.0</td>\n",
              "      <td>0</td>\n",
              "      <td>0</td>\n",
              "    </tr>\n",
              "    <tr>\n",
              "      <th>1</th>\n",
              "      <td>NaN</td>\n",
              "      <td>Albania</td>\n",
              "      <td>41.153300</td>\n",
              "      <td>20.168300</td>\n",
              "      <td>1/22/20</td>\n",
              "      <td>0.0</td>\n",
              "      <td>0</td>\n",
              "      <td>0</td>\n",
              "    </tr>\n",
              "    <tr>\n",
              "      <th>2</th>\n",
              "      <td>NaN</td>\n",
              "      <td>Algeria</td>\n",
              "      <td>28.033900</td>\n",
              "      <td>1.659600</td>\n",
              "      <td>1/22/20</td>\n",
              "      <td>0.0</td>\n",
              "      <td>0</td>\n",
              "      <td>0</td>\n",
              "    </tr>\n",
              "    <tr>\n",
              "      <th>3</th>\n",
              "      <td>NaN</td>\n",
              "      <td>Andorra</td>\n",
              "      <td>42.506300</td>\n",
              "      <td>1.521800</td>\n",
              "      <td>1/22/20</td>\n",
              "      <td>0.0</td>\n",
              "      <td>0</td>\n",
              "      <td>0</td>\n",
              "    </tr>\n",
              "    <tr>\n",
              "      <th>4</th>\n",
              "      <td>NaN</td>\n",
              "      <td>Angola</td>\n",
              "      <td>-11.202700</td>\n",
              "      <td>17.873900</td>\n",
              "      <td>1/22/20</td>\n",
              "      <td>0.0</td>\n",
              "      <td>0</td>\n",
              "      <td>0</td>\n",
              "    </tr>\n",
              "    <tr>\n",
              "      <th>...</th>\n",
              "      <td>...</td>\n",
              "      <td>...</td>\n",
              "      <td>...</td>\n",
              "      <td>...</td>\n",
              "      <td>...</td>\n",
              "      <td>...</td>\n",
              "      <td>...</td>\n",
              "      <td>...</td>\n",
              "    </tr>\n",
              "    <tr>\n",
              "      <th>24361</th>\n",
              "      <td>Saint Pierre and Miquelon</td>\n",
              "      <td>France</td>\n",
              "      <td>46.885200</td>\n",
              "      <td>-56.315900</td>\n",
              "      <td>4/23/20</td>\n",
              "      <td>1.0</td>\n",
              "      <td>0</td>\n",
              "      <td>0</td>\n",
              "    </tr>\n",
              "    <tr>\n",
              "      <th>24362</th>\n",
              "      <td>NaN</td>\n",
              "      <td>South Sudan</td>\n",
              "      <td>6.877000</td>\n",
              "      <td>31.307000</td>\n",
              "      <td>4/23/20</td>\n",
              "      <td>5.0</td>\n",
              "      <td>0</td>\n",
              "      <td>0</td>\n",
              "    </tr>\n",
              "    <tr>\n",
              "      <th>24363</th>\n",
              "      <td>NaN</td>\n",
              "      <td>Western Sahara</td>\n",
              "      <td>24.215500</td>\n",
              "      <td>-12.885800</td>\n",
              "      <td>4/23/20</td>\n",
              "      <td>6.0</td>\n",
              "      <td>0</td>\n",
              "      <td>5</td>\n",
              "    </tr>\n",
              "    <tr>\n",
              "      <th>24364</th>\n",
              "      <td>NaN</td>\n",
              "      <td>Sao Tome and Principe</td>\n",
              "      <td>0.186360</td>\n",
              "      <td>6.613081</td>\n",
              "      <td>4/23/20</td>\n",
              "      <td>4.0</td>\n",
              "      <td>0</td>\n",
              "      <td>0</td>\n",
              "    </tr>\n",
              "    <tr>\n",
              "      <th>24365</th>\n",
              "      <td>NaN</td>\n",
              "      <td>Yemen</td>\n",
              "      <td>15.552727</td>\n",
              "      <td>48.516388</td>\n",
              "      <td>4/23/20</td>\n",
              "      <td>1.0</td>\n",
              "      <td>0</td>\n",
              "      <td>0</td>\n",
              "    </tr>\n",
              "  </tbody>\n",
              "</table>\n",
              "<p>24366 rows × 8 columns</p>\n",
              "</div>"
            ],
            "text/plain": [
              "                  Province/State         Country/Region  ...  Deaths  Recovered\n",
              "0                            NaN            Afghanistan  ...       0          0\n",
              "1                            NaN                Albania  ...       0          0\n",
              "2                            NaN                Algeria  ...       0          0\n",
              "3                            NaN                Andorra  ...       0          0\n",
              "4                            NaN                 Angola  ...       0          0\n",
              "...                          ...                    ...  ...     ...        ...\n",
              "24361  Saint Pierre and Miquelon                 France  ...       0          0\n",
              "24362                        NaN            South Sudan  ...       0          0\n",
              "24363                        NaN         Western Sahara  ...       0          5\n",
              "24364                        NaN  Sao Tome and Principe  ...       0          0\n",
              "24365                        NaN                  Yemen  ...       0          0\n",
              "\n",
              "[24366 rows x 8 columns]"
            ]
          },
          "metadata": {},
          "execution_count": 4
        }
      ]
    },
    {
      "cell_type": "code",
      "metadata": {
        "colab": {
          "base_uri": "https://localhost:8080/",
          "height": 206
        },
        "id": "jeOIcPclSPE4",
        "outputId": "55d6371d-0368-46fe-dda6-9a278995f85e"
      },
      "source": [
        "data2.head()"
      ],
      "execution_count": null,
      "outputs": [
        {
          "output_type": "execute_result",
          "data": {
            "text/html": [
              "<div>\n",
              "<style scoped>\n",
              "    .dataframe tbody tr th:only-of-type {\n",
              "        vertical-align: middle;\n",
              "    }\n",
              "\n",
              "    .dataframe tbody tr th {\n",
              "        vertical-align: top;\n",
              "    }\n",
              "\n",
              "    .dataframe thead th {\n",
              "        text-align: right;\n",
              "    }\n",
              "</style>\n",
              "<table border=\"1\" class=\"dataframe\">\n",
              "  <thead>\n",
              "    <tr style=\"text-align: right;\">\n",
              "      <th></th>\n",
              "      <th>Province/State</th>\n",
              "      <th>Country/Region</th>\n",
              "      <th>Lat</th>\n",
              "      <th>Long</th>\n",
              "      <th>Date</th>\n",
              "      <th>Confirmed</th>\n",
              "      <th>Deaths</th>\n",
              "      <th>Recovered</th>\n",
              "    </tr>\n",
              "  </thead>\n",
              "  <tbody>\n",
              "    <tr>\n",
              "      <th>0</th>\n",
              "      <td>NaN</td>\n",
              "      <td>Afghanistan</td>\n",
              "      <td>33.0000</td>\n",
              "      <td>65.0000</td>\n",
              "      <td>1/22/20</td>\n",
              "      <td>0.0</td>\n",
              "      <td>0</td>\n",
              "      <td>0</td>\n",
              "    </tr>\n",
              "    <tr>\n",
              "      <th>1</th>\n",
              "      <td>NaN</td>\n",
              "      <td>Albania</td>\n",
              "      <td>41.1533</td>\n",
              "      <td>20.1683</td>\n",
              "      <td>1/22/20</td>\n",
              "      <td>0.0</td>\n",
              "      <td>0</td>\n",
              "      <td>0</td>\n",
              "    </tr>\n",
              "    <tr>\n",
              "      <th>2</th>\n",
              "      <td>NaN</td>\n",
              "      <td>Algeria</td>\n",
              "      <td>28.0339</td>\n",
              "      <td>1.6596</td>\n",
              "      <td>1/22/20</td>\n",
              "      <td>0.0</td>\n",
              "      <td>0</td>\n",
              "      <td>0</td>\n",
              "    </tr>\n",
              "    <tr>\n",
              "      <th>3</th>\n",
              "      <td>NaN</td>\n",
              "      <td>Andorra</td>\n",
              "      <td>42.5063</td>\n",
              "      <td>1.5218</td>\n",
              "      <td>1/22/20</td>\n",
              "      <td>0.0</td>\n",
              "      <td>0</td>\n",
              "      <td>0</td>\n",
              "    </tr>\n",
              "    <tr>\n",
              "      <th>4</th>\n",
              "      <td>NaN</td>\n",
              "      <td>Angola</td>\n",
              "      <td>-11.2027</td>\n",
              "      <td>17.8739</td>\n",
              "      <td>1/22/20</td>\n",
              "      <td>0.0</td>\n",
              "      <td>0</td>\n",
              "      <td>0</td>\n",
              "    </tr>\n",
              "  </tbody>\n",
              "</table>\n",
              "</div>"
            ],
            "text/plain": [
              "  Province/State Country/Region      Lat  ...  Confirmed Deaths  Recovered\n",
              "0            NaN    Afghanistan  33.0000  ...        0.0      0          0\n",
              "1            NaN        Albania  41.1533  ...        0.0      0          0\n",
              "2            NaN        Algeria  28.0339  ...        0.0      0          0\n",
              "3            NaN        Andorra  42.5063  ...        0.0      0          0\n",
              "4            NaN         Angola -11.2027  ...        0.0      0          0\n",
              "\n",
              "[5 rows x 8 columns]"
            ]
          },
          "metadata": {},
          "execution_count": 23
        }
      ]
    },
    {
      "cell_type": "code",
      "metadata": {
        "colab": {
          "base_uri": "https://localhost:8080/",
          "height": 206
        },
        "id": "SVyCg59zSVeK",
        "outputId": "a0e050f4-42e8-4ad6-9418-aec0067f7bd0"
      },
      "source": [
        "data2.tail()"
      ],
      "execution_count": null,
      "outputs": [
        {
          "output_type": "execute_result",
          "data": {
            "text/html": [
              "<div>\n",
              "<style scoped>\n",
              "    .dataframe tbody tr th:only-of-type {\n",
              "        vertical-align: middle;\n",
              "    }\n",
              "\n",
              "    .dataframe tbody tr th {\n",
              "        vertical-align: top;\n",
              "    }\n",
              "\n",
              "    .dataframe thead th {\n",
              "        text-align: right;\n",
              "    }\n",
              "</style>\n",
              "<table border=\"1\" class=\"dataframe\">\n",
              "  <thead>\n",
              "    <tr style=\"text-align: right;\">\n",
              "      <th></th>\n",
              "      <th>Province/State</th>\n",
              "      <th>Country/Region</th>\n",
              "      <th>Lat</th>\n",
              "      <th>Long</th>\n",
              "      <th>Date</th>\n",
              "      <th>Confirmed</th>\n",
              "      <th>Deaths</th>\n",
              "      <th>Recovered</th>\n",
              "    </tr>\n",
              "  </thead>\n",
              "  <tbody>\n",
              "    <tr>\n",
              "      <th>24361</th>\n",
              "      <td>Saint Pierre and Miquelon</td>\n",
              "      <td>France</td>\n",
              "      <td>46.885200</td>\n",
              "      <td>-56.315900</td>\n",
              "      <td>4/23/20</td>\n",
              "      <td>1.0</td>\n",
              "      <td>0</td>\n",
              "      <td>0</td>\n",
              "    </tr>\n",
              "    <tr>\n",
              "      <th>24362</th>\n",
              "      <td>NaN</td>\n",
              "      <td>South Sudan</td>\n",
              "      <td>6.877000</td>\n",
              "      <td>31.307000</td>\n",
              "      <td>4/23/20</td>\n",
              "      <td>5.0</td>\n",
              "      <td>0</td>\n",
              "      <td>0</td>\n",
              "    </tr>\n",
              "    <tr>\n",
              "      <th>24363</th>\n",
              "      <td>NaN</td>\n",
              "      <td>Western Sahara</td>\n",
              "      <td>24.215500</td>\n",
              "      <td>-12.885800</td>\n",
              "      <td>4/23/20</td>\n",
              "      <td>6.0</td>\n",
              "      <td>0</td>\n",
              "      <td>5</td>\n",
              "    </tr>\n",
              "    <tr>\n",
              "      <th>24364</th>\n",
              "      <td>NaN</td>\n",
              "      <td>Sao Tome and Principe</td>\n",
              "      <td>0.186360</td>\n",
              "      <td>6.613081</td>\n",
              "      <td>4/23/20</td>\n",
              "      <td>4.0</td>\n",
              "      <td>0</td>\n",
              "      <td>0</td>\n",
              "    </tr>\n",
              "    <tr>\n",
              "      <th>24365</th>\n",
              "      <td>NaN</td>\n",
              "      <td>Yemen</td>\n",
              "      <td>15.552727</td>\n",
              "      <td>48.516388</td>\n",
              "      <td>4/23/20</td>\n",
              "      <td>1.0</td>\n",
              "      <td>0</td>\n",
              "      <td>0</td>\n",
              "    </tr>\n",
              "  </tbody>\n",
              "</table>\n",
              "</div>"
            ],
            "text/plain": [
              "                  Province/State         Country/Region  ...  Deaths  Recovered\n",
              "24361  Saint Pierre and Miquelon                 France  ...       0          0\n",
              "24362                        NaN            South Sudan  ...       0          0\n",
              "24363                        NaN         Western Sahara  ...       0          5\n",
              "24364                        NaN  Sao Tome and Principe  ...       0          0\n",
              "24365                        NaN                  Yemen  ...       0          0\n",
              "\n",
              "[5 rows x 8 columns]"
            ]
          },
          "metadata": {},
          "execution_count": 24
        }
      ]
    },
    {
      "cell_type": "code",
      "metadata": {
        "colab": {
          "base_uri": "https://localhost:8080/"
        },
        "id": "NS60QR66SbjA",
        "outputId": "314bdf02-13b1-4866-b704-2338a25ba6db"
      },
      "source": [
        "len(data2)"
      ],
      "execution_count": null,
      "outputs": [
        {
          "output_type": "execute_result",
          "data": {
            "text/plain": [
              "24366"
            ]
          },
          "metadata": {},
          "execution_count": 25
        }
      ]
    },
    {
      "cell_type": "code",
      "metadata": {
        "colab": {
          "base_uri": "https://localhost:8080/"
        },
        "id": "ySksFTE5SfXq",
        "outputId": "98960470-0772-453f-c40d-ef7ae4a97620"
      },
      "source": [
        "type(data2)"
      ],
      "execution_count": null,
      "outputs": [
        {
          "output_type": "execute_result",
          "data": {
            "text/plain": [
              "pandas.core.frame.DataFrame"
            ]
          },
          "metadata": {},
          "execution_count": 26
        }
      ]
    },
    {
      "cell_type": "code",
      "metadata": {
        "colab": {
          "base_uri": "https://localhost:8080/",
          "height": 206
        },
        "id": "9WbBurrQSopM",
        "outputId": "f7e2487b-d70d-4a89-8318-b033c35eb058"
      },
      "source": [
        "data2[5:10]"
      ],
      "execution_count": null,
      "outputs": [
        {
          "output_type": "execute_result",
          "data": {
            "text/html": [
              "<div>\n",
              "<style scoped>\n",
              "    .dataframe tbody tr th:only-of-type {\n",
              "        vertical-align: middle;\n",
              "    }\n",
              "\n",
              "    .dataframe tbody tr th {\n",
              "        vertical-align: top;\n",
              "    }\n",
              "\n",
              "    .dataframe thead th {\n",
              "        text-align: right;\n",
              "    }\n",
              "</style>\n",
              "<table border=\"1\" class=\"dataframe\">\n",
              "  <thead>\n",
              "    <tr style=\"text-align: right;\">\n",
              "      <th></th>\n",
              "      <th>Province/State</th>\n",
              "      <th>Country/Region</th>\n",
              "      <th>Lat</th>\n",
              "      <th>Long</th>\n",
              "      <th>Date</th>\n",
              "      <th>Confirmed</th>\n",
              "      <th>Deaths</th>\n",
              "      <th>Recovered</th>\n",
              "    </tr>\n",
              "  </thead>\n",
              "  <tbody>\n",
              "    <tr>\n",
              "      <th>5</th>\n",
              "      <td>NaN</td>\n",
              "      <td>Antigua and Barbuda</td>\n",
              "      <td>17.0608</td>\n",
              "      <td>-61.7964</td>\n",
              "      <td>1/22/20</td>\n",
              "      <td>0.0</td>\n",
              "      <td>0</td>\n",
              "      <td>0</td>\n",
              "    </tr>\n",
              "    <tr>\n",
              "      <th>6</th>\n",
              "      <td>NaN</td>\n",
              "      <td>Argentina</td>\n",
              "      <td>-38.4161</td>\n",
              "      <td>-63.6167</td>\n",
              "      <td>1/22/20</td>\n",
              "      <td>0.0</td>\n",
              "      <td>0</td>\n",
              "      <td>0</td>\n",
              "    </tr>\n",
              "    <tr>\n",
              "      <th>7</th>\n",
              "      <td>NaN</td>\n",
              "      <td>Armenia</td>\n",
              "      <td>40.0691</td>\n",
              "      <td>45.0382</td>\n",
              "      <td>1/22/20</td>\n",
              "      <td>0.0</td>\n",
              "      <td>0</td>\n",
              "      <td>0</td>\n",
              "    </tr>\n",
              "    <tr>\n",
              "      <th>8</th>\n",
              "      <td>Australian Capital Territory</td>\n",
              "      <td>Australia</td>\n",
              "      <td>-35.4735</td>\n",
              "      <td>149.0124</td>\n",
              "      <td>1/22/20</td>\n",
              "      <td>0.0</td>\n",
              "      <td>0</td>\n",
              "      <td>0</td>\n",
              "    </tr>\n",
              "    <tr>\n",
              "      <th>9</th>\n",
              "      <td>New South Wales</td>\n",
              "      <td>Australia</td>\n",
              "      <td>-33.8688</td>\n",
              "      <td>151.2093</td>\n",
              "      <td>1/22/20</td>\n",
              "      <td>0.0</td>\n",
              "      <td>0</td>\n",
              "      <td>0</td>\n",
              "    </tr>\n",
              "  </tbody>\n",
              "</table>\n",
              "</div>"
            ],
            "text/plain": [
              "                 Province/State       Country/Region  ...  Deaths  Recovered\n",
              "5                           NaN  Antigua and Barbuda  ...       0          0\n",
              "6                           NaN            Argentina  ...       0          0\n",
              "7                           NaN              Armenia  ...       0          0\n",
              "8  Australian Capital Territory            Australia  ...       0          0\n",
              "9               New South Wales            Australia  ...       0          0\n",
              "\n",
              "[5 rows x 8 columns]"
            ]
          },
          "metadata": {},
          "execution_count": 28
        }
      ]
    },
    {
      "cell_type": "code",
      "metadata": {
        "colab": {
          "base_uri": "https://localhost:8080/",
          "height": 423
        },
        "id": "xwjH0xr4S-nT",
        "outputId": "a99784ec-f181-482f-8a82-22df286557c2"
      },
      "source": [
        "confirmed = data2.groupby('Date')['Confirmed'].sum().reset_index()\n",
        "confirmed"
      ],
      "execution_count": null,
      "outputs": [
        {
          "output_type": "execute_result",
          "data": {
            "text/html": [
              "<div>\n",
              "<style scoped>\n",
              "    .dataframe tbody tr th:only-of-type {\n",
              "        vertical-align: middle;\n",
              "    }\n",
              "\n",
              "    .dataframe tbody tr th {\n",
              "        vertical-align: top;\n",
              "    }\n",
              "\n",
              "    .dataframe thead th {\n",
              "        text-align: right;\n",
              "    }\n",
              "</style>\n",
              "<table border=\"1\" class=\"dataframe\">\n",
              "  <thead>\n",
              "    <tr style=\"text-align: right;\">\n",
              "      <th></th>\n",
              "      <th>Date</th>\n",
              "      <th>Confirmed</th>\n",
              "    </tr>\n",
              "  </thead>\n",
              "  <tbody>\n",
              "    <tr>\n",
              "      <th>0</th>\n",
              "      <td>1/22/20</td>\n",
              "      <td>555.0</td>\n",
              "    </tr>\n",
              "    <tr>\n",
              "      <th>1</th>\n",
              "      <td>1/23/20</td>\n",
              "      <td>654.0</td>\n",
              "    </tr>\n",
              "    <tr>\n",
              "      <th>2</th>\n",
              "      <td>1/24/20</td>\n",
              "      <td>941.0</td>\n",
              "    </tr>\n",
              "    <tr>\n",
              "      <th>3</th>\n",
              "      <td>1/25/20</td>\n",
              "      <td>1434.0</td>\n",
              "    </tr>\n",
              "    <tr>\n",
              "      <th>4</th>\n",
              "      <td>1/26/20</td>\n",
              "      <td>2118.0</td>\n",
              "    </tr>\n",
              "    <tr>\n",
              "      <th>...</th>\n",
              "      <td>...</td>\n",
              "      <td>...</td>\n",
              "    </tr>\n",
              "    <tr>\n",
              "      <th>88</th>\n",
              "      <td>4/5/20</td>\n",
              "      <td>1249482.0</td>\n",
              "    </tr>\n",
              "    <tr>\n",
              "      <th>89</th>\n",
              "      <td>4/6/20</td>\n",
              "      <td>1321129.0</td>\n",
              "    </tr>\n",
              "    <tr>\n",
              "      <th>90</th>\n",
              "      <td>4/7/20</td>\n",
              "      <td>1396090.0</td>\n",
              "    </tr>\n",
              "    <tr>\n",
              "      <th>91</th>\n",
              "      <td>4/8/20</td>\n",
              "      <td>1479802.0</td>\n",
              "    </tr>\n",
              "    <tr>\n",
              "      <th>92</th>\n",
              "      <td>4/9/20</td>\n",
              "      <td>1565276.0</td>\n",
              "    </tr>\n",
              "  </tbody>\n",
              "</table>\n",
              "<p>93 rows × 2 columns</p>\n",
              "</div>"
            ],
            "text/plain": [
              "       Date  Confirmed\n",
              "0   1/22/20      555.0\n",
              "1   1/23/20      654.0\n",
              "2   1/24/20      941.0\n",
              "3   1/25/20     1434.0\n",
              "4   1/26/20     2118.0\n",
              "..      ...        ...\n",
              "88   4/5/20  1249482.0\n",
              "89   4/6/20  1321129.0\n",
              "90   4/7/20  1396090.0\n",
              "91   4/8/20  1479802.0\n",
              "92   4/9/20  1565276.0\n",
              "\n",
              "[93 rows x 2 columns]"
            ]
          },
          "metadata": {},
          "execution_count": 29
        }
      ]
    },
    {
      "cell_type": "code",
      "metadata": {
        "colab": {
          "base_uri": "https://localhost:8080/",
          "height": 423
        },
        "id": "YbhXaCKzTHvS",
        "outputId": "ceb5bf07-982d-4426-9355-aa14a9645344"
      },
      "source": [
        "confirmed.rename(columns={'Date':'ds', 'Confirmed': 'y'}, inplace=True)\n",
        "confirmed"
      ],
      "execution_count": null,
      "outputs": [
        {
          "output_type": "execute_result",
          "data": {
            "text/html": [
              "<div>\n",
              "<style scoped>\n",
              "    .dataframe tbody tr th:only-of-type {\n",
              "        vertical-align: middle;\n",
              "    }\n",
              "\n",
              "    .dataframe tbody tr th {\n",
              "        vertical-align: top;\n",
              "    }\n",
              "\n",
              "    .dataframe thead th {\n",
              "        text-align: right;\n",
              "    }\n",
              "</style>\n",
              "<table border=\"1\" class=\"dataframe\">\n",
              "  <thead>\n",
              "    <tr style=\"text-align: right;\">\n",
              "      <th></th>\n",
              "      <th>ds</th>\n",
              "      <th>y</th>\n",
              "    </tr>\n",
              "  </thead>\n",
              "  <tbody>\n",
              "    <tr>\n",
              "      <th>0</th>\n",
              "      <td>1/22/20</td>\n",
              "      <td>555.0</td>\n",
              "    </tr>\n",
              "    <tr>\n",
              "      <th>1</th>\n",
              "      <td>1/23/20</td>\n",
              "      <td>654.0</td>\n",
              "    </tr>\n",
              "    <tr>\n",
              "      <th>2</th>\n",
              "      <td>1/24/20</td>\n",
              "      <td>941.0</td>\n",
              "    </tr>\n",
              "    <tr>\n",
              "      <th>3</th>\n",
              "      <td>1/25/20</td>\n",
              "      <td>1434.0</td>\n",
              "    </tr>\n",
              "    <tr>\n",
              "      <th>4</th>\n",
              "      <td>1/26/20</td>\n",
              "      <td>2118.0</td>\n",
              "    </tr>\n",
              "    <tr>\n",
              "      <th>...</th>\n",
              "      <td>...</td>\n",
              "      <td>...</td>\n",
              "    </tr>\n",
              "    <tr>\n",
              "      <th>88</th>\n",
              "      <td>4/5/20</td>\n",
              "      <td>1249482.0</td>\n",
              "    </tr>\n",
              "    <tr>\n",
              "      <th>89</th>\n",
              "      <td>4/6/20</td>\n",
              "      <td>1321129.0</td>\n",
              "    </tr>\n",
              "    <tr>\n",
              "      <th>90</th>\n",
              "      <td>4/7/20</td>\n",
              "      <td>1396090.0</td>\n",
              "    </tr>\n",
              "    <tr>\n",
              "      <th>91</th>\n",
              "      <td>4/8/20</td>\n",
              "      <td>1479802.0</td>\n",
              "    </tr>\n",
              "    <tr>\n",
              "      <th>92</th>\n",
              "      <td>4/9/20</td>\n",
              "      <td>1565276.0</td>\n",
              "    </tr>\n",
              "  </tbody>\n",
              "</table>\n",
              "<p>93 rows × 2 columns</p>\n",
              "</div>"
            ],
            "text/plain": [
              "         ds          y\n",
              "0   1/22/20      555.0\n",
              "1   1/23/20      654.0\n",
              "2   1/24/20      941.0\n",
              "3   1/25/20     1434.0\n",
              "4   1/26/20     2118.0\n",
              "..      ...        ...\n",
              "88   4/5/20  1249482.0\n",
              "89   4/6/20  1321129.0\n",
              "90   4/7/20  1396090.0\n",
              "91   4/8/20  1479802.0\n",
              "92   4/9/20  1565276.0\n",
              "\n",
              "[93 rows x 2 columns]"
            ]
          },
          "metadata": {},
          "execution_count": 30
        }
      ]
    },
    {
      "cell_type": "code",
      "metadata": {
        "colab": {
          "base_uri": "https://localhost:8080/",
          "height": 423
        },
        "id": "CHActN5_TRu7",
        "outputId": "c9a2c39b-d8d4-43f4-ebf1-5b0770ed3c2e"
      },
      "source": [
        "data2['Active'] = data2['Confirmed'] - data2['Deaths'] - data2['Recovered']\n",
        "data2"
      ],
      "execution_count": null,
      "outputs": [
        {
          "output_type": "execute_result",
          "data": {
            "text/html": [
              "<div>\n",
              "<style scoped>\n",
              "    .dataframe tbody tr th:only-of-type {\n",
              "        vertical-align: middle;\n",
              "    }\n",
              "\n",
              "    .dataframe tbody tr th {\n",
              "        vertical-align: top;\n",
              "    }\n",
              "\n",
              "    .dataframe thead th {\n",
              "        text-align: right;\n",
              "    }\n",
              "</style>\n",
              "<table border=\"1\" class=\"dataframe\">\n",
              "  <thead>\n",
              "    <tr style=\"text-align: right;\">\n",
              "      <th></th>\n",
              "      <th>Province/State</th>\n",
              "      <th>Country/Region</th>\n",
              "      <th>Lat</th>\n",
              "      <th>Long</th>\n",
              "      <th>Date</th>\n",
              "      <th>Confirmed</th>\n",
              "      <th>Deaths</th>\n",
              "      <th>Recovered</th>\n",
              "      <th>Active</th>\n",
              "    </tr>\n",
              "  </thead>\n",
              "  <tbody>\n",
              "    <tr>\n",
              "      <th>0</th>\n",
              "      <td>NaN</td>\n",
              "      <td>Afghanistan</td>\n",
              "      <td>33.000000</td>\n",
              "      <td>65.000000</td>\n",
              "      <td>1/22/20</td>\n",
              "      <td>0.0</td>\n",
              "      <td>0</td>\n",
              "      <td>0</td>\n",
              "      <td>0.0</td>\n",
              "    </tr>\n",
              "    <tr>\n",
              "      <th>1</th>\n",
              "      <td>NaN</td>\n",
              "      <td>Albania</td>\n",
              "      <td>41.153300</td>\n",
              "      <td>20.168300</td>\n",
              "      <td>1/22/20</td>\n",
              "      <td>0.0</td>\n",
              "      <td>0</td>\n",
              "      <td>0</td>\n",
              "      <td>0.0</td>\n",
              "    </tr>\n",
              "    <tr>\n",
              "      <th>2</th>\n",
              "      <td>NaN</td>\n",
              "      <td>Algeria</td>\n",
              "      <td>28.033900</td>\n",
              "      <td>1.659600</td>\n",
              "      <td>1/22/20</td>\n",
              "      <td>0.0</td>\n",
              "      <td>0</td>\n",
              "      <td>0</td>\n",
              "      <td>0.0</td>\n",
              "    </tr>\n",
              "    <tr>\n",
              "      <th>3</th>\n",
              "      <td>NaN</td>\n",
              "      <td>Andorra</td>\n",
              "      <td>42.506300</td>\n",
              "      <td>1.521800</td>\n",
              "      <td>1/22/20</td>\n",
              "      <td>0.0</td>\n",
              "      <td>0</td>\n",
              "      <td>0</td>\n",
              "      <td>0.0</td>\n",
              "    </tr>\n",
              "    <tr>\n",
              "      <th>4</th>\n",
              "      <td>NaN</td>\n",
              "      <td>Angola</td>\n",
              "      <td>-11.202700</td>\n",
              "      <td>17.873900</td>\n",
              "      <td>1/22/20</td>\n",
              "      <td>0.0</td>\n",
              "      <td>0</td>\n",
              "      <td>0</td>\n",
              "      <td>0.0</td>\n",
              "    </tr>\n",
              "    <tr>\n",
              "      <th>...</th>\n",
              "      <td>...</td>\n",
              "      <td>...</td>\n",
              "      <td>...</td>\n",
              "      <td>...</td>\n",
              "      <td>...</td>\n",
              "      <td>...</td>\n",
              "      <td>...</td>\n",
              "      <td>...</td>\n",
              "      <td>...</td>\n",
              "    </tr>\n",
              "    <tr>\n",
              "      <th>24361</th>\n",
              "      <td>Saint Pierre and Miquelon</td>\n",
              "      <td>France</td>\n",
              "      <td>46.885200</td>\n",
              "      <td>-56.315900</td>\n",
              "      <td>4/23/20</td>\n",
              "      <td>1.0</td>\n",
              "      <td>0</td>\n",
              "      <td>0</td>\n",
              "      <td>1.0</td>\n",
              "    </tr>\n",
              "    <tr>\n",
              "      <th>24362</th>\n",
              "      <td>NaN</td>\n",
              "      <td>South Sudan</td>\n",
              "      <td>6.877000</td>\n",
              "      <td>31.307000</td>\n",
              "      <td>4/23/20</td>\n",
              "      <td>5.0</td>\n",
              "      <td>0</td>\n",
              "      <td>0</td>\n",
              "      <td>5.0</td>\n",
              "    </tr>\n",
              "    <tr>\n",
              "      <th>24363</th>\n",
              "      <td>NaN</td>\n",
              "      <td>Western Sahara</td>\n",
              "      <td>24.215500</td>\n",
              "      <td>-12.885800</td>\n",
              "      <td>4/23/20</td>\n",
              "      <td>6.0</td>\n",
              "      <td>0</td>\n",
              "      <td>5</td>\n",
              "      <td>1.0</td>\n",
              "    </tr>\n",
              "    <tr>\n",
              "      <th>24364</th>\n",
              "      <td>NaN</td>\n",
              "      <td>Sao Tome and Principe</td>\n",
              "      <td>0.186360</td>\n",
              "      <td>6.613081</td>\n",
              "      <td>4/23/20</td>\n",
              "      <td>4.0</td>\n",
              "      <td>0</td>\n",
              "      <td>0</td>\n",
              "      <td>4.0</td>\n",
              "    </tr>\n",
              "    <tr>\n",
              "      <th>24365</th>\n",
              "      <td>NaN</td>\n",
              "      <td>Yemen</td>\n",
              "      <td>15.552727</td>\n",
              "      <td>48.516388</td>\n",
              "      <td>4/23/20</td>\n",
              "      <td>1.0</td>\n",
              "      <td>0</td>\n",
              "      <td>0</td>\n",
              "      <td>1.0</td>\n",
              "    </tr>\n",
              "  </tbody>\n",
              "</table>\n",
              "<p>24366 rows × 9 columns</p>\n",
              "</div>"
            ],
            "text/plain": [
              "                  Province/State         Country/Region  ...  Recovered  Active\n",
              "0                            NaN            Afghanistan  ...          0     0.0\n",
              "1                            NaN                Albania  ...          0     0.0\n",
              "2                            NaN                Algeria  ...          0     0.0\n",
              "3                            NaN                Andorra  ...          0     0.0\n",
              "4                            NaN                 Angola  ...          0     0.0\n",
              "...                          ...                    ...  ...        ...     ...\n",
              "24361  Saint Pierre and Miquelon                 France  ...          0     1.0\n",
              "24362                        NaN            South Sudan  ...          0     5.0\n",
              "24363                        NaN         Western Sahara  ...          5     1.0\n",
              "24364                        NaN  Sao Tome and Principe  ...          0     4.0\n",
              "24365                        NaN                  Yemen  ...          0     1.0\n",
              "\n",
              "[24366 rows x 9 columns]"
            ]
          },
          "metadata": {},
          "execution_count": 31
        }
      ]
    },
    {
      "cell_type": "markdown",
      "metadata": {
        "id": "ADUyKoXWgTVx"
      },
      "source": [
        ">**Class Assignment**\n",
        "\n",
        "**Object-4 Multiprocessing library**"
      ]
    },
    {
      "cell_type": "markdown",
      "metadata": {
        "id": "xZzTNNPJbDcM"
      },
      "source": [
        "**Q1: What is the library function in multiprocessing system? Explain.**\n",
        "\n",
        "Ans: In Python, the multiprocessing module includes a very simple and intuitive API for dividing work between multiple processes.\n",
        "\n",
        "To import the multiprocessing module, we do:\n",
        "\n",
        "```\n",
        "import multiprocessing\n",
        "```\n",
        "\n",
        "To create a process, we create an object of Process class. It takes following arguments:\n",
        "\n",
        ">target: the function to be executed by process\n",
        "\n",
        ">args: the arguments to be passed to the target function\n",
        "\n",
        "```\n",
        "p1 = multiprocessing.Process(target=print_square, args=(10, ))\n",
        "p2 = multiprocessing.Process(target=print_cube, args=(10, ))\n",
        "```\n",
        "\n",
        "\n",
        "To start a process, we use start method of Process class.\n",
        "```\n",
        "p1.start()\n",
        "p2.start()\n",
        "```\n",
        "Once the processes start, the current program also keeps on executing. In order to stop execution of current program until a process is complete, we use join method.\n",
        "```\n",
        "p1.join()\n",
        "p2.join()\n",
        "```\n",
        "\n",
        "As a result, the current program will first wait for the completion of p1 and then p2. Once, they are completed, the next statements of current program are executed.\n",
        "\n",
        "The main python script has a different process ID and multiprocessing module spawns new processes with different process IDs as we create Process objects p1 and p2, use os.getpid() function to get ID of process running the current target function.\n"
      ]
    },
    {
      "cell_type": "markdown",
      "metadata": {
        "id": "nPAu5_4qckRs"
      },
      "source": [
        "**Q2: What is the difference between multiprocessing, multithreading and concurrent systems?**\n",
        "\n",
        "Ans:\n",
        "\n",
        "**Multiprocessing:**\n",
        " Multiprocessing is a system that has more than one or two processors. In Multiprocessing, CPUs are added for increasing computing speed of the system. Because of Multiprocessing, There are many processes are executed simultaneously. Process creation is a time-consuming process. Every process owned a separate address space.\n",
        "\n",
        "**Multithreading:**\n",
        " Multithreading is a system in which multiple threads are created of a process for increasing the computing speed of the system. In multithreading, many threads of a process are executed simultaneously and process creation in multithreading is done according to economical. A common address space is shared by all the threads.\n",
        "\n",
        "**Concurrent System:** \n",
        "Concurrency relates to an application that is processing more than one task at the same time. Concurrency is an approach that is used for decreasing the response time of the system by using the single processing unit. Concurrency is creates the misunderstanding of parallelism, however actually the chunks of a task aren’t parallelly processed, but inside the application, there are more than one task is being processed at a time. It doesn’t fully end one task before it begins next."
      ]
    },
    {
      "cell_type": "markdown",
      "metadata": {
        "id": "gfPvwBFudJ-w"
      },
      "source": [
        "**Q3: Write a program to print the number of cores of Multiprocessor CPU?**"
      ]
    },
    {
      "cell_type": "code",
      "metadata": {
        "colab": {
          "base_uri": "https://localhost:8080/"
        },
        "id": "KTK-2DyEdXH7",
        "outputId": "cc171782-0bc4-457f-b9cf-4204a0174af6"
      },
      "source": [
        "import multiprocessing\n",
        "print(\"Number of cpu : \", multiprocessing.cpu_count())\n"
      ],
      "execution_count": null,
      "outputs": [
        {
          "output_type": "stream",
          "name": "stdout",
          "text": [
            "Number of cpu :  2\n"
          ]
        }
      ]
    },
    {
      "cell_type": "markdown",
      "metadata": {
        "id": "IF_IKfTAJQk9"
      },
      "source": [
        "**Lab-3 (08/09/2021)**"
      ]
    },
    {
      "cell_type": "markdown",
      "metadata": {
        "id": "Da1z9-cZkkQs"
      },
      "source": [
        "**Object-5 Sequential Time**"
      ]
    },
    {
      "cell_type": "code",
      "metadata": {
        "colab": {
          "base_uri": "https://localhost:8080/"
        },
        "id": "TQwXGCiuJUAf",
        "outputId": "d0ae75a0-a03e-4ff0-c037-1dac2895a46b"
      },
      "source": [
        "import time \n",
        "from timeit import default_timer as timer\n",
        "import multiprocessing as mp\n",
        "import numpy as np\n",
        "\n",
        "x = [1, 2, 3, 4]\n",
        "start = timer()\n",
        "y = 0 # Initialize output\n",
        "\n",
        "for i in range(len(x)):\n",
        "  y += x[i] # Add each element to the output variable\n",
        "\n",
        "print(y) # Print output\n",
        "end1=timer()-start\n",
        "print(\"sequential time : \",end1)"
      ],
      "execution_count": null,
      "outputs": [
        {
          "output_type": "stream",
          "name": "stdout",
          "text": [
            "10\n",
            "sequential time :  0.0011514089999309363\n"
          ]
        }
      ]
    },
    {
      "cell_type": "code",
      "metadata": {
        "colab": {
          "base_uri": "https://localhost:8080/"
        },
        "id": "y5iJ62c4LSXF",
        "outputId": "9a8de0b1-ae9b-49f4-e60e-11cb6f5fe860"
      },
      "source": [
        "import time \n",
        "from timeit import default_timer as timer \n",
        "import multiprocessing as mp\n",
        "import numpy as np\n",
        "x = [1, 2, 4, 4]\n",
        "start=timer()\n",
        "chunk1 = x[:2]\n",
        "chunk2 = x[2:]\n",
        "\n",
        "sum_1 = sum(chunk1)\n",
        "sum_2 = sum(chunk2)\n",
        "\n",
        "result = sum_1 + sum_2\n",
        "\n",
        "print(result)\n",
        "end1=timer()-start\n",
        "print(\"time : \",end1)"
      ],
      "execution_count": null,
      "outputs": [
        {
          "output_type": "stream",
          "name": "stdout",
          "text": [
            "11\n",
            "time :  0.0028916480000589218\n"
          ]
        }
      ]
    },
    {
      "cell_type": "markdown",
      "metadata": {
        "id": "pio4ugIwk4hP"
      },
      "source": [
        "**Object6: List Physical devices**"
      ]
    },
    {
      "cell_type": "code",
      "metadata": {
        "colab": {
          "base_uri": "https://localhost:8080/"
        },
        "id": "QS2_lS-iMVsx",
        "outputId": "c45ce4bc-4b0c-4bdc-dd00-0f819d1c00a4"
      },
      "source": [
        "from tensorflow.python.client import device_lib\n",
        "device_lib.list_local_devices()"
      ],
      "execution_count": null,
      "outputs": [
        {
          "output_type": "execute_result",
          "data": {
            "text/plain": [
              "[name: \"/device:CPU:0\"\n",
              " device_type: \"CPU\"\n",
              " memory_limit: 268435456\n",
              " locality {\n",
              " }\n",
              " incarnation: 883002959169415523]"
            ]
          },
          "metadata": {},
          "execution_count": 10
        }
      ]
    },
    {
      "cell_type": "code",
      "metadata": {
        "colab": {
          "base_uri": "https://localhost:8080/"
        },
        "id": "HOSAl0fYMl0l",
        "outputId": "e8e072ff-8959-402b-c07c-9907d26c3289"
      },
      "source": [
        "from tensorflow.python.client import device_lib\n",
        "\n",
        "def get_available_gpus():\n",
        "    local_device_protos = device_lib.list_local_devices()\n",
        "    return [x.name for x in local_device_protos if x.device_type == 'GPU']\n",
        "\n",
        "get_available_gpus()"
      ],
      "execution_count": null,
      "outputs": [
        {
          "output_type": "execute_result",
          "data": {
            "text/plain": [
              "['/device:GPU:0']"
            ]
          },
          "metadata": {},
          "execution_count": 1
        }
      ]
    },
    {
      "cell_type": "code",
      "metadata": {
        "colab": {
          "base_uri": "https://localhost:8080/"
        },
        "id": "GFgEYD6kNEwF",
        "outputId": "c1c801ce-3fdd-4616-df78-ab989acc0fab"
      },
      "source": [
        "import tensorflow as tf\n",
        "print(\"Num GPUs Available: \", len(tf.config.experimental.list_physical_devices('GPU')))"
      ],
      "execution_count": null,
      "outputs": [
        {
          "output_type": "stream",
          "name": "stdout",
          "text": [
            "Num GPUs Available:  1\n"
          ]
        }
      ]
    },
    {
      "cell_type": "markdown",
      "metadata": {
        "id": "oV-rERrIlFc7"
      },
      "source": [
        "**Obect-6 GPU utilisation**"
      ]
    },
    {
      "cell_type": "code",
      "metadata": {
        "colab": {
          "base_uri": "https://localhost:8080/"
        },
        "id": "OKoFWi-MN_4s",
        "outputId": "766c82cb-b116-4e00-ba6f-0df31255c36a"
      },
      "source": [
        "!pip install GPUtil"
      ],
      "execution_count": null,
      "outputs": [
        {
          "output_type": "stream",
          "name": "stdout",
          "text": [
            "Collecting GPUtil\n",
            "  Downloading GPUtil-1.4.0.tar.gz (5.5 kB)\n",
            "Building wheels for collected packages: GPUtil\n",
            "  Building wheel for GPUtil (setup.py) ... \u001b[?25l\u001b[?25hdone\n",
            "  Created wheel for GPUtil: filename=GPUtil-1.4.0-py3-none-any.whl size=7411 sha256=8f9ba152759332b9e6ce47b5ad10cb50e72f61e811a3f7613721e30c02151e33\n",
            "  Stored in directory: /root/.cache/pip/wheels/6e/f8/83/534c52482d6da64622ddbf72cd93c35d2ef2881b78fd08ff0c\n",
            "Successfully built GPUtil\n",
            "Installing collected packages: GPUtil\n",
            "Successfully installed GPUtil-1.4.0\n"
          ]
        }
      ]
    },
    {
      "cell_type": "code",
      "metadata": {
        "colab": {
          "base_uri": "https://localhost:8080/"
        },
        "id": "PJNkAMrmPTw2",
        "outputId": "12abcefb-51a5-4935-eb49-9fbebb8a0061"
      },
      "source": [
        "import GPUtil\n",
        "GPUtil.showUtilization()\n",
        "GPUs = GPUtil.getGPUs()"
      ],
      "execution_count": null,
      "outputs": [
        {
          "output_type": "stream",
          "name": "stdout",
          "text": [
            "| ID | GPU | MEM |\n",
            "------------------\n",
            "|  0 |  0% |  1% |\n"
          ]
        }
      ]
    },
    {
      "cell_type": "markdown",
      "metadata": {
        "id": "rOYVR_4QlQRe"
      },
      "source": [
        "**Object8: Memory Information**"
      ]
    },
    {
      "cell_type": "code",
      "metadata": {
        "colab": {
          "base_uri": "https://localhost:8080/"
        },
        "id": "8hCN6QVrQJcc",
        "outputId": "c6802bf0-708c-4202-f496-49eb3ca2008d"
      },
      "source": [
        "!cat /proc/meminfo"
      ],
      "execution_count": null,
      "outputs": [
        {
          "output_type": "stream",
          "name": "stdout",
          "text": [
            "MemTotal:       13302916 kB\n",
            "MemFree:         9408964 kB\n",
            "MemAvailable:   12128472 kB\n",
            "Buffers:          134440 kB\n",
            "Cached:          2617824 kB\n",
            "SwapCached:            0 kB\n",
            "Active:          1299696 kB\n",
            "Inactive:        2233964 kB\n",
            "Active(anon):     643852 kB\n",
            "Inactive(anon):     2492 kB\n",
            "Active(file):     655844 kB\n",
            "Inactive(file):  2231472 kB\n",
            "Unevictable:           0 kB\n",
            "Mlocked:               0 kB\n",
            "SwapTotal:             0 kB\n",
            "SwapFree:              0 kB\n",
            "Dirty:               180 kB\n",
            "Writeback:             0 kB\n",
            "AnonPages:        781348 kB\n",
            "Mapped:           562532 kB\n",
            "Shmem:              3224 kB\n",
            "KReclaimable:     147544 kB\n",
            "Slab:             203580 kB\n",
            "SReclaimable:     147544 kB\n",
            "SUnreclaim:        56036 kB\n",
            "KernelStack:        4884 kB\n",
            "PageTables:         8392 kB\n",
            "NFS_Unstable:          0 kB\n",
            "Bounce:                0 kB\n",
            "WritebackTmp:          0 kB\n",
            "CommitLimit:     6651456 kB\n",
            "Committed_AS:    3601672 kB\n",
            "VmallocTotal:   34359738367 kB\n",
            "VmallocUsed:       46624 kB\n",
            "VmallocChunk:          0 kB\n",
            "Percpu:             1424 kB\n",
            "AnonHugePages:      2048 kB\n",
            "ShmemHugePages:        0 kB\n",
            "ShmemPmdMapped:        0 kB\n",
            "FileHugePages:         0 kB\n",
            "FilePmdMapped:         0 kB\n",
            "CmaTotal:              0 kB\n",
            "CmaFree:               0 kB\n",
            "HugePages_Total:       0\n",
            "HugePages_Free:        0\n",
            "HugePages_Rsvd:        0\n",
            "HugePages_Surp:        0\n",
            "Hugepagesize:       2048 kB\n",
            "Hugetlb:               0 kB\n",
            "DirectMap4k:      195392 kB\n",
            "DirectMap2M:     5044224 kB\n",
            "DirectMap1G:    10485760 kB\n"
          ]
        }
      ]
    },
    {
      "cell_type": "markdown",
      "metadata": {
        "id": "yOj8TScTgaMf"
      },
      "source": [
        "Class Assignment"
      ]
    },
    {
      "cell_type": "markdown",
      "metadata": {
        "id": "_f1O1h0cghXV"
      },
      "source": [
        "Q1: Explain numpy and tensorflow and what are the significance of numpy and tensorflow packages in python?\n",
        "\n",
        "Ans: **Numpy** is one of the most commonly used pen-source numerical library for scientific computing in Python. It provides a multidimensional array object, as well as variations such as masks and matrices, which can be used for various math operations. Numpy is compatible with, and used by many other popular Python packages, including pandas and matplotlib.\n",
        "\n",
        "It’s faster than regular Python arrays, which lack numpy’s optimized and pre-compiled C code that does all the heavy lifting. Another reason is that numpy arrays and operations are vectorized, which means they lack explicit looping or indexing in the code. This makes the code not only more readable, but also more similar to standard mathematical notation.\n",
        "\n",
        "**Tensorflow** is a low-level library which provides more flexibility. Thus you can define your own functionalities or services for your models. This is a very important parameter for researchers because it allows them to change the model based on changing user requirements.\n",
        "\n",
        "TensorFlow provides more network control. Thus allowing developers and researchers to understand how operations are implemented across the network. They can always keep track of new changes done over time"
      ]
    },
    {
      "cell_type": "markdown",
      "metadata": {
        "id": "56rEjuStg26p"
      },
      "source": [
        "Q2: Write a python program to perform an addition of an array element in seqential manner and multiprocessing(module). Also compare the time between sequential and multiprocessing."
      ]
    },
    {
      "cell_type": "code",
      "metadata": {
        "colab": {
          "base_uri": "https://localhost:8080/"
        },
        "id": "vfD0A-Y2onfQ",
        "outputId": "3a8bbacc-9062-4a84-fa26-80bf00c54f89"
      },
      "source": [
        "import time\n",
        "import multiprocessing as mp\n",
        "import numpy as np\n",
        "\n",
        "num = range(1, 1000001)\n",
        "chunk1 = num[: len(num)//2]\n",
        "chunk2 = num[len(num)//2 :]\n",
        "\n",
        "def sequential_sum(num):\n",
        "    start = time.time()\n",
        "    result = 0\n",
        "    for i in num:\n",
        "        result = result + i\n",
        "    print(\"sequential_time: \",time.time() - start)\n",
        "    return result\n",
        "\n",
        "\n",
        "def parallel_sum(chunk1, chunk2):\n",
        "    start = time.time()\n",
        "    p1 = mp.Process(target=sum, args=(chunk1, ))\n",
        "    p2 = mp.Process(target=sum, args=(chunk2, ))\n",
        "  \n",
        "    p1.start()\n",
        "    p2.start()   \n",
        "\n",
        "    p1.join()   \n",
        "    p2.join()\n",
        "    print(\"parallel_time: \",time.time() - start)\n",
        "\n",
        "print(sequential_sum(num))\n",
        "parallel_sum(chunk1, chunk2)"
      ],
      "execution_count": null,
      "outputs": [
        {
          "output_type": "stream",
          "name": "stdout",
          "text": [
            "sequential_time:  0.181182861328125\n",
            "500000500000\n",
            "parallel_time:  0.04874229431152344\n"
          ]
        }
      ]
    },
    {
      "cell_type": "markdown",
      "metadata": {
        "id": "uhD6NLK4zKui"
      },
      "source": [
        "**Lab-4 (22/09/2021)**\n"
      ]
    },
    {
      "cell_type": "markdown",
      "metadata": {
        "id": "1S5ABg8ve9XC"
      },
      "source": [
        "**Object-9 pool function**"
      ]
    },
    {
      "cell_type": "markdown",
      "metadata": {
        "id": "-6WJH1uvfJJb"
      },
      "source": [
        "Program:Square of an element by using Pool class of multiprocessing"
      ]
    },
    {
      "cell_type": "code",
      "metadata": {
        "colab": {
          "base_uri": "https://localhost:8080/",
          "height": 399
        },
        "id": "5BgbgWYEJGna",
        "outputId": "e22be91b-345f-4cae-f533-fd224dd88b57"
      },
      "source": [
        "import multiprocessing as mp \n",
        "import os \n",
        "import time\n",
        "from timeit import default_timer as timer\n",
        "import matplotlib.pyplot as plt\n",
        "\n",
        "\n",
        "def square(n):\n",
        "  time.sleep(0.04)\n",
        "  #print(\"Worker process id for {0}: {1}\".format(n, os.getpid())) \n",
        "  return (n*n) \n",
        "  \n",
        "if __name__ == \"__main__\": \n",
        "    # input list \n",
        "    mylist = [5,123456]\n",
        "    start=timer()\n",
        "    for i in mylist:\n",
        "      time.sleep(0.04)\n",
        "      print(i*i)\n",
        "    end1=timer()-start\n",
        "    print(\"sequential time is \" ,end1)\n",
        "\n",
        "    start=timer()\n",
        "    # creating a pool\n",
        "    p = mp.Pool() \n",
        "    result = p.map(square, mylist) \n",
        "    end2=timer()-start\n",
        "    print(\"parallel processing time is \" ,end2)\n",
        "    print(result)\n",
        "    print(\"length of list : \",len(mylist))\n",
        "\n",
        "    fig = plt.figure()\n",
        "    t = ['sequential', 'parallel(pool)']\n",
        "    exe_time = [end1,end2]\n",
        "    plt.bar(t,exe_time, color ='green') \n",
        "    plt.xlabel(\"different functins\") \n",
        "    plt.ylabel(\"time taken\") \n",
        "    plt.title(\"time taken by sequential and pool process\")\n",
        "    plt.show()"
      ],
      "execution_count": null,
      "outputs": [
        {
          "output_type": "stream",
          "name": "stdout",
          "text": [
            "25\n",
            "15241383936\n",
            "sequential time is  0.08044675499999698\n",
            "parallel processing time is  0.0684198669999887\n",
            "[25, 15241383936]\n",
            "length of list :  2\n"
          ]
        },
        {
          "output_type": "display_data",
          "data": {
            "image/png": "[encoded data removed]",
            "text/plain": [
              "<Figure size 432x288 with 1 Axes>"
            ]
          },
          "metadata": {
            "needs_background": "light"
          }
        }
      ]
    },
    {
      "cell_type": "markdown",
      "metadata": {
        "id": "zBgevNb_hZV-"
      },
      "source": [
        "What is the JIT in python?"
      ]
    },
    {
      "cell_type": "code",
      "metadata": {
        "colab": {
          "base_uri": "https://localhost:8080/",
          "height": 382
        },
        "id": "JJNCTRZcQMCq",
        "outputId": "bb85bd36-a9a8-4043-9126-2b41cb63ef56"
      },
      "source": [
        "from numba import jit \n",
        "import numpy as np \n",
        "# to measure exec time \n",
        "from timeit import default_timer as timer \n",
        "import time\n",
        "\n",
        "# normal function to run on cpu \n",
        "def func(a):\t\t\t\t\t\t\t\t \n",
        "\tfor i in range(5000000): \n",
        "\t\ta[i]+= 1\t\n",
        "\n",
        "# function optimized to run on gpu \n",
        "@jit\n",
        "#(target =\"cuda\")\t\t\t\t\t\t \n",
        "def func2(a): \n",
        "\tfor i in range(5000000): \n",
        "\t\ta[i]+= 1\n",
        "if __name__==\"__main__\": \n",
        "\tn = 5000000\t\t\t\t\t\t\t\n",
        "\ta = np.ones(n, dtype = np.float64) \n",
        "\tb = np.ones(n, dtype = np.float32) \n",
        "\t\n",
        "\tstart = timer() \n",
        " \n",
        "\tfunc(a) \n",
        "  \n",
        "\tprint(\"without GPU:\", timer()-start)\t \n",
        "\t\n",
        "\tstart = timer() \n",
        "func2(a)\n",
        "print(\"with GPU:\", timer()-start) \n",
        "import matplotlib.pyplot as plt\n",
        "import numpy as np\n",
        "plt.title(\"CPU Vs GPU TIME\")\n",
        "plt.xlabel('Time in second')\n",
        "plt.ylabel('number')\n",
        "plt.plot([2.282669633000296,4.837626839000222],[5000000,10000000],label='CPU time')\n",
        "plt.plot([0.05965698399995745,0.0645296880002206],[5000000,10000000],label='GPU time')\n",
        "plt.legend() \n",
        "func(a) \n",
        "  \n",
        "print(\"without GPU:\", timer()-start)\t \n",
        "\t\n",
        "start = timer() \n",
        "func2(a) \n",
        "print(\"with GPU:\", timer()-start) \n",
        "import matplotlib.pyplot as plt\n",
        "import numpy as np\n",
        "plt.title(\"CPU Vs GPU TIME\")\n",
        "plt.xlabel('Time in second')\n",
        "plt.ylabel('number')\n",
        "plt.plot([2.282669633000296,4.837626839000222],[5000000,10000000],label='CPU time')\n",
        "plt.plot([0.05965698399995745,0.0645296880002206],[5000000,10000000],label='GPU time')\n",
        "plt.legend() "
      ],
      "execution_count": null,
      "outputs": [
        {
          "output_type": "stream",
          "name": "stdout",
          "text": [
            "without GPU: 2.8034026930000095\n",
            "with GPU: 0.3190155799999843\n",
            "without GPU: 3.1511120789999723\n",
            "with GPU: 0.005924020999998447\n"
          ]
        },
        {
          "output_type": "execute_result",
          "data": {
            "text/plain": [
              "<matplotlib.legend.Legend at 0x7f9c72ed3b50>"
            ]
          },
          "metadata": {},
          "execution_count": 3
        },
        {
          "output_type": "display_data",
          "data": {
            "image/png": "[encoded data removed]",
            "text/plain": [
              "<Figure size 432x288 with 1 Axes>"
            ]
          },
          "metadata": {
            "needs_background": "light"
          }
        }
      ]
    },
    {
      "cell_type": "code",
      "metadata": {
        "colab": {
          "base_uri": "https://localhost:8080/"
        },
        "id": "cI7nqIhuQ4gh",
        "outputId": "85a13e7b-13be-4da0-915d-5a07b314cb8c"
      },
      "source": [
        "import multiprocessing as mp \n",
        "import os \n",
        "  \n",
        "def square(n): \n",
        "    print(\"Worker process id for {0}: {1}\".format(n, os.getpid())) \n",
        "    return (n*n) \n",
        "  \n",
        "if __name__ == \"__main__\": \n",
        "    # input list \n",
        "    mylist = [1,2,3,4,5] \n",
        "  \n",
        "    # creating a pool object \n",
        "    p = mp.Pool() \n",
        "  \n",
        "    # map list to target function \n",
        "    result = p.map(square, mylist) \n",
        "  \n",
        "    print(result)"
      ],
      "execution_count": null,
      "outputs": [
        {
          "output_type": "stream",
          "name": "stdout",
          "text": [
            "Worker process id for 2: 146\n",
            "Worker process id for 1: 145\n",
            "Worker process id for 3: 146\n",
            "Worker process id for 4: 146\n",
            "Worker process id for 5: 146\n",
            "[1, 4, 9, 16, 25]\n"
          ]
        }
      ]
    },
    {
      "cell_type": "markdown",
      "metadata": {
        "id": "RodvgYO1R6fy"
      },
      "source": [
        "**Program**:Write a python program using pool class to find square of the list (GPU runtime)"
      ]
    },
    {
      "cell_type": "code",
      "metadata": {
        "colab": {
          "base_uri": "https://localhost:8080/"
        },
        "id": "4OEJwdOgZ-DG",
        "outputId": "3bc280b2-dde4-4cf1-a71d-89e7270067d7"
      },
      "source": [
        "import multiprocessing as mp\n",
        "import time\n",
        "import os\n",
        "\n",
        "def square(n):\n",
        "    return (n * n)\n",
        "\n",
        "if __name__ == \"__main__\":\n",
        "    # input list\n",
        "    mylist = [1, 2, 3, 4, 5]\n",
        "\n",
        "    # creating a pool object\n",
        "    p = mp.Pool()\n",
        "\n",
        "    start = time.time()\n",
        "    # map list to target function\n",
        "    result = p.map(square, mylist)\n",
        "\n",
        "    print(result)\n",
        "    print('time:', time.time() - start)"
      ],
      "execution_count": null,
      "outputs": [
        {
          "output_type": "stream",
          "name": "stdout",
          "text": [
            "[1, 4, 9, 16, 25]\n",
            "time: 0.0029687881469726562\n"
          ]
        }
      ]
    },
    {
      "cell_type": "markdown",
      "metadata": {
        "id": "18HenBHfgP-m"
      },
      "source": [
        "**Program**:Write a python program using pool class to find square of the list (CPU runtime)"
      ]
    },
    {
      "cell_type": "code",
      "metadata": {
        "colab": {
          "base_uri": "https://localhost:8080/"
        },
        "id": "6WgDTsDCgXsJ",
        "outputId": "de53b2db-de1a-4d0a-b717-dc2165c9d1b9"
      },
      "source": [
        "import multiprocessing as mp\n",
        "import time\n",
        "import os\n",
        "\n",
        "def square(n):\n",
        "    return (n * n)\n",
        "\n",
        "if __name__ == \"__main__\":\n",
        "    # input list\n",
        "    mylist = [1, 2, 3, 4, 5]\n",
        "\n",
        "    start = time.time()\n",
        "    \n",
        "    # creating a pool object\n",
        "    p = mp.Pool()\n",
        "\n",
        "    # map list to target function\n",
        "    result = p.map(square, mylist)\n",
        "\n",
        "    print(result)\n",
        "    print('time:', time.time() - start)"
      ],
      "execution_count": null,
      "outputs": [
        {
          "output_type": "stream",
          "name": "stdout",
          "text": [
            "[1, 4, 9, 16, 25]\n",
            "time: 0.030152559280395508\n"
          ]
        }
      ]
    },
    {
      "cell_type": "markdown",
      "metadata": {
        "id": "8zG5fgUIB3WB"
      },
      "source": [
        "**Lab-5 (29/09/2021)**"
      ]
    },
    {
      "cell_type": "code",
      "metadata": {
        "colab": {
          "base_uri": "https://localhost:8080/"
        },
        "id": "fiTuzKUGJugC",
        "outputId": "4d722d64-96d5-4207-9faf-fbd005a6a90f"
      },
      "source": [
        "import time\n",
        "from timeit import default_timer as timer\n",
        "from multiprocessing import Pool, cpu_count\n",
        "\n",
        "\n",
        "def power(x, n):\n",
        "\n",
        "    time.sleep(1)\n",
        "\n",
        "    return x ** n\n",
        "\n",
        "\n",
        "def main():\n",
        "\n",
        "    start = timer()\n",
        "\n",
        "    print(f'starting computations on {cpu_count()} cores')\n",
        "\n",
        "    values = [2, 4,5]\n",
        "    values1=[2,3,5]\n",
        "    res = list(map(power,values,values1))\n",
        "    print(res)\n",
        "    end = timer()\n",
        "    print(f'elapsed time: {end - start}')\n",
        "\n",
        "\n",
        "if __name__ == '__main__':\n",
        "    main()"
      ],
      "execution_count": null,
      "outputs": [
        {
          "output_type": "stream",
          "name": "stdout",
          "text": [
            "starting computations on 2 cores\n",
            "[4, 64, 3125]\n",
            "elapsed time: 3.0035871670000063\n"
          ]
        }
      ]
    },
    {
      "cell_type": "code",
      "metadata": {
        "colab": {
          "base_uri": "https://localhost:8080/"
        },
        "id": "9fzSP2K5J-gW",
        "outputId": "5288f6bb-7332-4e58-a022-4b6852526fe0"
      },
      "source": [
        "import time\n",
        "import os\n",
        "from timeit import default_timer as timer\n",
        "from multiprocessing import Pool, cpu_count\n",
        "\n",
        "\n",
        "def power(x, n):\n",
        "\n",
        "    time.sleep(1)\n",
        "\n",
        "    return x ** n\n",
        "\n",
        "\n",
        "def main():\n",
        "\n",
        "    start = timer()\n",
        "\n",
        "    print(f'starting computations on {cpu_count()} cores')\n",
        "\n",
        "    values = ((2, 2), (4, 3), (5, 5))\n",
        "\n",
        "    with Pool() as pool:\n",
        "        res = pool.starmap(power, values)\n",
        "        print(res)\n",
        "\n",
        "    end = timer()\n",
        "    print(f'elapsed time: {end - start}')\n",
        "if __name__ == '__main__':\n",
        "    main()"
      ],
      "execution_count": null,
      "outputs": [
        {
          "output_type": "stream",
          "name": "stdout",
          "text": [
            "starting computations on 2 cores\n",
            "[4, 64, 3125]\n",
            "elapsed time: 2.0298455500001182\n"
          ]
        }
      ]
    },
    {
      "cell_type": "markdown",
      "metadata": {
        "id": "8nYLBZNLLB3I"
      },
      "source": [
        "Plotting of Graph\n",
        "\n",
        "Line graph"
      ]
    },
    {
      "cell_type": "code",
      "metadata": {
        "colab": {
          "base_uri": "https://localhost:8080/",
          "height": 265
        },
        "id": "7-9rRk-yLEe8",
        "outputId": "4ba6f1b1-efad-42ee-c153-3122690ef630"
      },
      "source": [
        "import matplotlib.pyplot as plt\n",
        "x = [5, 2, 9, 4, 7] \n",
        "  \n",
        "# Y-axis values \n",
        "y = [10, 5, 8, 4, 2] \n",
        "  \n",
        "# Function to plot \n",
        "plt.plot(x,y) \n",
        "  \n",
        "# function to show the plot \n",
        "plt.show() "
      ],
      "execution_count": null,
      "outputs": [
        {
          "output_type": "display_data",
          "data": {
            "image/png": "[encoded data removed]",
            "text/plain": [
              "<Figure size 432x288 with 1 Axes>"
            ]
          },
          "metadata": {
            "needs_background": "light"
          }
        }
      ]
    },
    {
      "cell_type": "markdown",
      "metadata": {
        "id": "i4tveUq9L1mR"
      },
      "source": [
        "Bar graph plot"
      ]
    },
    {
      "cell_type": "code",
      "metadata": {
        "colab": {
          "base_uri": "https://localhost:8080/",
          "height": 265
        },
        "id": "IrfspfIrLy_s",
        "outputId": "f5136d4b-8fc9-49b1-97e6-ebb1906cd8a7"
      },
      "source": [
        "x = [5, 2, 9, 4, 7] \n",
        "  \n",
        "# Y-axis values \n",
        "y = [10, 5, 8, 4, 2] \n",
        "  \n",
        "# Function to plot the bar \n",
        "plt.bar(x,y) \n",
        "plt.ylabel('some numbers')\n",
        "# function to show the plot \n",
        "plt.show() \n"
      ],
      "execution_count": null,
      "outputs": [
        {
          "output_type": "display_data",
          "data": {
            "image/png": "[encoded data removed]",
            "text/plain": [
              "<Figure size 432x288 with 1 Axes>"
            ]
          },
          "metadata": {
            "needs_background": "light"
          }
        }
      ]
    },
    {
      "cell_type": "code",
      "metadata": {
        "colab": {
          "base_uri": "https://localhost:8080/"
        },
        "id": "3NqfohvlQt0l",
        "outputId": "d794b658-1358-49d8-df9e-dc49dbdf8536"
      },
      "source": [
        "import time\n",
        "from timeit import default_timer as timer\n",
        "from multiprocessing import Pool, cpu_count\n",
        "\n",
        "\n",
        "def power(x, n):\n",
        "\n",
        "    time.sleep(1)\n",
        "\n",
        "    return x ** n\n",
        "\n",
        "\n",
        "def main():\n",
        "\n",
        "    start = timer()\n",
        "\n",
        "    print(f'starting computations on {cpu_count()} cores')\n",
        "\n",
        "    values = [2, 4, 5, 5, 6, 7]\n",
        "    values1= [2, 3, 5, 6, 7, 8]\n",
        "    res = list(map(power,values,values1))\n",
        "    print(res)\n",
        "    end = timer()\n",
        "    print(f'elapsed time: {end - start}')\n",
        "\n",
        "\n",
        "if __name__ == '__main__':\n",
        "    main()"
      ],
      "execution_count": null,
      "outputs": [
        {
          "output_type": "stream",
          "name": "stdout",
          "text": [
            "starting computations on 2 cores\n",
            "[4, 64, 3125, 15625, 279936, 5764801]\n",
            "elapsed time: 6.007838087999971\n"
          ]
        }
      ]
    },
    {
      "cell_type": "code",
      "metadata": {
        "colab": {
          "base_uri": "https://localhost:8080/"
        },
        "id": "DnUFAPK-QzJ9",
        "outputId": "b6dfd288-9d30-4d44-c4c2-b00a84f31963"
      },
      "source": [
        "import time\n",
        "import os\n",
        "from timeit import default_timer as timer\n",
        "from multiprocessing import Pool, cpu_count\n",
        "\n",
        "\n",
        "def power(x, n):\n",
        "\n",
        "    time.sleep(1)\n",
        "    print(\"child process id:\", os.getpid())\n",
        "    return x ** n\n",
        "\n",
        "\n",
        "def main():\n",
        "\n",
        "    start = timer()\n",
        "\n",
        "    print(f'starting computations on {cpu_count()} cores')\n",
        "    print(\"parent process id:\", os.getpid())\n",
        "\n",
        "    values = ((2, 2), (4, 3), (5, 5), (6, 5), (7, 6), (8, 7))\n",
        "\n",
        "    with Pool() as pool:\n",
        "        res = pool.starmap(power, values)\n",
        "        print(res)\n",
        "\n",
        "    end = timer()\n",
        "    print(f'elapsed time: {end - start}')\n",
        "if __name__ == '__main__':\n",
        "    main()"
      ],
      "execution_count": null,
      "outputs": [
        {
          "output_type": "stream",
          "name": "stdout",
          "text": [
            "starting computations on 2 cores\n",
            "parent process id: 67\n",
            "child process id: 374\n",
            "child process id: 375\n",
            "child process id: 374\n",
            "child process id: 375\n",
            "child process id: 374\n",
            "child process id: 375\n",
            "[4, 64, 3125, 7776, 117649, 2097152]\n",
            "elapsed time: 3.130483226000024\n"
          ]
        }
      ]
    },
    {
      "cell_type": "code",
      "metadata": {
        "colab": {
          "base_uri": "https://localhost:8080/"
        },
        "id": "XVBxwV8hQ9xu",
        "outputId": "2b3ff7e3-819b-4a9b-b6ab-45c3e3ad056f"
      },
      "source": [
        "import time\n",
        "from timeit import default_timer as timer\n",
        "from multiprocessing import Pool, cpu_count\n",
        "\n",
        "\n",
        "def power(x, n):\n",
        "\n",
        "    time.sleep(1)\n",
        "\n",
        "    return x ** n\n",
        "\n",
        "\n",
        "def main():\n",
        "\n",
        "    start = timer()\n",
        "\n",
        "    print(f'starting computations on {cpu_count()} cores')\n",
        "\n",
        "    values = [2, 4, 5, 5, 6, 7, 2, 4, 5]\n",
        "    values1= [2, 3, 5, 6, 7, 8, 2, 3, 5]\n",
        "    res = list(map(power,values,values1))\n",
        "    print(res)\n",
        "    end = timer()\n",
        "    print(f'elapsed time: {end - start}')\n",
        "\n",
        "\n",
        "if __name__ == '__main__':\n",
        "    main()"
      ],
      "execution_count": null,
      "outputs": [
        {
          "output_type": "stream",
          "name": "stdout",
          "text": [
            "starting computations on 2 cores\n",
            "[4, 64, 3125, 15625, 279936, 5764801, 4, 64, 3125]\n",
            "elapsed time: 9.009721973000069\n"
          ]
        }
      ]
    },
    {
      "cell_type": "code",
      "metadata": {
        "colab": {
          "base_uri": "https://localhost:8080/"
        },
        "id": "UbsBi_1DREgd",
        "outputId": "3bb99f16-0f47-4bd8-a467-7dc0ad78b44f"
      },
      "source": [
        "import time\n",
        "import os\n",
        "from timeit import default_timer as timer\n",
        "from multiprocessing import Pool, cpu_count\n",
        "\n",
        "\n",
        "def power(x, n):\n",
        "\n",
        "    time.sleep(1)\n",
        "    print(\"child process id:\", os.getpid())\n",
        "    return x ** n\n",
        "\n",
        "\n",
        "def main():\n",
        "\n",
        "    start = timer()\n",
        "\n",
        "    print(f'starting computations on {cpu_count()} cores')\n",
        "    print(\"parent process id:\", os.getpid())\n",
        "\n",
        "    values = ((2, 2), (4, 3), (5, 5), (6, 5), (7, 6), (8, 7), (2, 2), (4, 3), (5, 5))\n",
        "\n",
        "    with Pool() as pool:\n",
        "        res = pool.starmap(power, values)\n",
        "        print(res)\n",
        "\n",
        "    end = timer()\n",
        "    print(f'elapsed time: {end - start}')\n",
        "if __name__ == '__main__':\n",
        "    main()"
      ],
      "execution_count": null,
      "outputs": [
        {
          "output_type": "stream",
          "name": "stdout",
          "text": [
            "starting computations on 2 cores\n",
            "parent process id: 67\n",
            "child process id: 398\n",
            "child process id: 397\n",
            "child process id: 398\n",
            "child process id: 397\n",
            "child process id: 398\n",
            "child process id: 397\n",
            "child process id: 398\n",
            "child process id: 397\n",
            "child process id: 397\n",
            "[4, 64, 3125, 7776, 117649, 2097152, 4, 64, 3125]\n",
            "elapsed time: 5.142043812999873\n"
          ]
        }
      ]
    },
    {
      "cell_type": "markdown",
      "metadata": {
        "id": "xhA9DbTASTqV"
      },
      "source": [
        "Graph sequential time vs parallel time"
      ]
    },
    {
      "cell_type": "code",
      "metadata": {
        "colab": {
          "base_uri": "https://localhost:8080/",
          "height": 313
        },
        "id": "VLB7H5QNSNav",
        "outputId": "60802681-8678-4719-bf75-8435fb3dfb70"
      },
      "source": [
        "import matplotlib.pyplot as plt\n",
        "import numpy as np\n",
        "plt.title(\"Sequential time Vs Parallel time\")\n",
        "plt.xlabel('Time in second')\n",
        "plt.ylabel('Data length')\n",
        "plt.plot([3.00,6.006,9.007],[3,6,9],label='Sequential time')\n",
        "plt.plot([2.02,3.02,5.036],[3,6,9],label='Parallel time')\n",
        "plt.legend()"
      ],
      "execution_count": null,
      "outputs": [
        {
          "output_type": "execute_result",
          "data": {
            "text/plain": [
              "<matplotlib.legend.Legend at 0x7f6317985a90>"
            ]
          },
          "metadata": {},
          "execution_count": 12
        },
        {
          "output_type": "display_data",
          "data": {
            "image/png": "[encoded data removed]",
            "text/plain": [
              "<Figure size 432x288 with 1 Axes>"
            ]
          },
          "metadata": {
            "needs_background": "light"
          }
        }
      ]
    },
    {
      "cell_type": "markdown",
      "metadata": {
        "id": "Bv_Se0mKUYQs"
      },
      "source": [
        "Speed up graph"
      ]
    },
    {
      "cell_type": "code",
      "metadata": {
        "colab": {
          "base_uri": "https://localhost:8080/",
          "height": 299
        },
        "id": "Mb57KCaJVF8m",
        "outputId": "61c3cc44-75ec-4d66-c153-962f53829c5e"
      },
      "source": [
        "import matplotlib.pyplot as plt\n",
        "import numpy as np\n",
        "plt.title(\"Sequential time Vs Parallel time\")\n",
        "plt.plot([3.00/2.02, 6.006/3.02, 9.007/5.036], label='Speed up')\n",
        "plt.legend()"
      ],
      "execution_count": null,
      "outputs": [
        {
          "output_type": "execute_result",
          "data": {
            "text/plain": [
              "<matplotlib.legend.Legend at 0x7f63178e6990>"
            ]
          },
          "metadata": {},
          "execution_count": 14
        },
        {
          "output_type": "display_data",
          "data": {
            "image/png": "[encoded data removed]",
            "text/plain": [
              "<Figure size 432x288 with 1 Axes>"
            ]
          },
          "metadata": {
            "needs_background": "light"
          }
        }
      ]
    },
    {
      "cell_type": "markdown",
      "metadata": {
        "id": "9kSSZWGiYrHA"
      },
      "source": [
        "Q:-Write a python program to convert Celsius to Fahrenheit in sequential and parallel using Pool function of multiprocessing and draw a elaspe time graph and speed up graph."
      ]
    },
    {
      "cell_type": "markdown",
      "metadata": {
        "id": "x6JIVhyzhaQ2"
      },
      "source": [
        "Sequential"
      ]
    },
    {
      "cell_type": "code",
      "metadata": {
        "colab": {
          "base_uri": "https://localhost:8080/"
        },
        "id": "Wcd2vtqZhPLl",
        "outputId": "83d05f79-21ff-4b4c-9b36-3d27c2150b44"
      },
      "source": [
        "import time\n",
        "from timeit import default_timer as timer\n",
        "from multiprocessing import Pool, cpu_count\n",
        "import os\n",
        "\n",
        "def tofarenhight(x):\n",
        "\n",
        "    time.sleep(1)\n",
        "    #print(\"process id : \",os.getpid())\n",
        "    return (9*x+160)/5;\n",
        "\n",
        "\n",
        "def main():\n",
        "    start = timer()\n",
        "\n",
        "    print(f'starting computations on {cpu_count()} cores')\n",
        "\n",
        "    values = [0,37,100,150,200,50,110]\n",
        "    res = list(map(tofarenhight,values))\n",
        "    print(res)\n",
        "    end = timer()\n",
        "    print(f'elapsed time: {end - start}')\n",
        "\n",
        "\n",
        "if __name__ == '__main__':\n",
        "    main()"
      ],
      "execution_count": null,
      "outputs": [
        {
          "output_type": "stream",
          "name": "stdout",
          "text": [
            "starting computations on 2 cores\n",
            "[32.0, 98.6, 212.0, 302.0, 392.0, 122.0, 230.0]\n",
            "elapsed time: 7.006633625000006\n"
          ]
        }
      ]
    },
    {
      "cell_type": "markdown",
      "metadata": {
        "id": "csvQ8PZ7hgBx"
      },
      "source": [
        "Parallel"
      ]
    },
    {
      "cell_type": "code",
      "metadata": {
        "colab": {
          "base_uri": "https://localhost:8080/"
        },
        "id": "QuEEu_i8hjEl",
        "outputId": "7e115e6d-d792-4096-c476-f5abad857c5e"
      },
      "source": [
        "import time\n",
        "from timeit import default_timer as timer\n",
        "from multiprocessing import Pool, cpu_count\n",
        "import os\n",
        "\n",
        "def tofarenhight(x):\n",
        "\n",
        "    time.sleep(1)\n",
        "    #print(\"process id : \",os.getpid())\n",
        "    return (9*x+160)/5;\n",
        "\n",
        "\n",
        "def main():\n",
        "\n",
        "    start = timer()\n",
        "\n",
        "    print(f'starting computations on {cpu_count()} cores')\n",
        "\n",
        "    values = [0,37,100,150,200,50,110]\n",
        "    print(\"length of list : \",len(values))\n",
        "    with Pool() as pool:\n",
        "        res = list(pool.map(tofarenhight, values))\n",
        "        print(res)\n",
        "\n",
        "    end = timer()\n",
        "    print(f'elapsed time: {end - start}')\n",
        "  \n",
        "if __name__ == '__main__':\n",
        "    main()"
      ],
      "execution_count": null,
      "outputs": [
        {
          "output_type": "stream",
          "name": "stdout",
          "text": [
            "starting computations on 2 cores\n",
            "length of list :  7\n",
            "[32.0, 98.6, 212.0, 302.0, 392.0, 122.0, 230.0]\n",
            "elapsed time: 4.181006566999997\n"
          ]
        }
      ]
    },
    {
      "cell_type": "markdown",
      "metadata": {
        "id": "ufF7yU86hwNu"
      },
      "source": [
        "Graph Sequential and Parallel"
      ]
    },
    {
      "cell_type": "code",
      "metadata": {
        "colab": {
          "base_uri": "https://localhost:8080/",
          "height": 313
        },
        "id": "UYctd2PJh5Zj",
        "outputId": "dbeb9322-e855-4295-c20c-34246c976c5d"
      },
      "source": [
        "import matplotlib.pyplot as plt\n",
        "import numpy as np\n",
        "plt.title(\"Sequential time Vs Parallel time\")\n",
        "plt.xlabel('Time in Second')\n",
        "plt.ylabel('Data length')\n",
        "plt.plot([3.00,5.006,7.007],[3,5,7],label='Sequential time')\n",
        "plt.plot([2.12,3.13,4.135],[3,5,7],label='Parallel time')\n",
        "plt.legend()"
      ],
      "execution_count": null,
      "outputs": [
        {
          "output_type": "execute_result",
          "data": {
            "text/plain": [
              "<matplotlib.legend.Legend at 0x7f63493ff790>"
            ]
          },
          "metadata": {},
          "execution_count": 3
        },
        {
          "output_type": "display_data",
          "data": {
            "image/png": "[encoded data removed]",
            "text/plain": [
              "<Figure size 432x288 with 1 Axes>"
            ]
          },
          "metadata": {
            "needs_background": "light"
          }
        }
      ]
    },
    {
      "cell_type": "markdown",
      "metadata": {
        "id": "irwvKj23iAgl"
      },
      "source": [
        "Speed up graph"
      ]
    },
    {
      "cell_type": "code",
      "metadata": {
        "colab": {
          "base_uri": "https://localhost:8080/",
          "height": 313
        },
        "id": "_2nDXi4KiGv_",
        "outputId": "bca3c194-2e12-4d9c-c2dc-eea4fd7dd132"
      },
      "source": [
        "import matplotlib.pyplot as plt\n",
        "import numpy as np\n",
        "plt.title(\"Sequential time Vs Parallel time\")\n",
        "plt.xlabel('SpeedUp')\n",
        "plt.ylabel('Data length')\n",
        "plt.plot([1.41,1.511,1.69],[3,5,7],label='SpeedUp')\n",
        "plt.legend()"
      ],
      "execution_count": null,
      "outputs": [
        {
          "output_type": "execute_result",
          "data": {
            "text/plain": [
              "<matplotlib.legend.Legend at 0x7f6349eb3f10>"
            ]
          },
          "metadata": {},
          "execution_count": 4
        },
        {
          "output_type": "display_data",
          "data": {
            "image/png": "[encoded data removed]",
            "text/plain": [
              "<Figure size 432x288 with 1 Axes>"
            ]
          },
          "metadata": {
            "needs_background": "light"
          }
        }
      ]
    },
    {
      "cell_type": "markdown",
      "metadata": {
        "id": "3PuiYrJb4sOD"
      },
      "source": [
        "Assignment"
      ]
    },
    {
      "cell_type": "markdown",
      "metadata": {
        "id": "HfmDkECg3uPx"
      },
      "source": [
        " Q:-Write a difference between a process class and pool class\n",
        "\n",
        " ANSWER:-- ‘Process’ halts the process which is currently under execution and at the same time schedules another process. ‘Pool’ on the other hand waits till the current execution in complete and doesn’t schedule another process until the former is complete which in turn takes up more time for execution.\n",
        "\n",
        "‘Process’ allocates all the tasks in the memory whereas ‘Pool’ allocates the memory to only for the executing process. You would rather end up using Pool when there are relatively less number of tasks to be executed in parallel and each task has to be executed only once."
      ]
    },
    {
      "cell_type": "markdown",
      "metadata": {
        "id": "vgMPulBo39-S"
      },
      "source": [
        "Q:- What are the join class and start class\n",
        "\n",
        "ANSWER:-- There are two important functions that belongs to the Process class – start() and join() function.\n",
        "\n",
        "At first, we need to write a function, that will be run by the process. Then, we need to instantiate a process object.\n",
        "\n",
        "If we create a process object, nothing will happen until we tell it to start processing via start() function. Then, the process will run and return its result. After that we tell the process to complete via join() function.\n",
        "\n",
        "Without join() function call, process will remain idle and won’t terminate."
      ]
    },
    {
      "cell_type": "markdown",
      "metadata": {
        "id": "W_pXOnln4JzZ"
      },
      "source": [
        "Program:-Write a program to check weather the square of the number is odd or even by using process and pool class of multiprocessing module"
      ]
    },
    {
      "cell_type": "code",
      "metadata": {
        "colab": {
          "base_uri": "https://localhost:8080/"
        },
        "id": "Ic_aAxM25zqn",
        "outputId": "eb85ce64-7408-4a55-c331-37061315420a"
      },
      "source": [
        "import time\n",
        "from timeit import default_timer as timer\n",
        "from multiprocessing import Pool, cpu_count\n",
        "import os\n",
        "import math\n",
        "\n",
        "def checkSquare(x):\n",
        "  time.sleep(1)\n",
        "  sqrtx=math.sqrt(x)\n",
        "  return 0 if sqrtx-int(sqrtx)==0 else 1;\n",
        "print(os.getpid())\n",
        "\n",
        "\n",
        "def main():\n",
        "  start = timer()\n",
        "  print(f'starting computations on {cpu_count()} cores')\n",
        "  squareList=[4,16,33]\n",
        "  print(\"Length of items in squareList: \",len(squareList))\n",
        "  with Pool() as pool:\n",
        "    res=list(pool.map(checkSquare,squareList))\n",
        "    print(res)\n",
        "  end = timer()\n",
        "  print(f'elapsed time: {end - start}')\n",
        "    \n",
        "\n",
        "if __name__ == '__main__':\n",
        "    main()"
      ],
      "execution_count": null,
      "outputs": [
        {
          "output_type": "stream",
          "name": "stdout",
          "text": [
            "66\n",
            "starting computations on 2 cores\n",
            "Length of items in squareList:  3\n",
            "[0, 0, 1]\n",
            "elapsed time: 2.157404611999482\n"
          ]
        }
      ]
    },
    {
      "cell_type": "markdown",
      "metadata": {
        "id": "fTW8LukG6OBS"
      },
      "source": [
        "**Lab-6 (06/10/2021)**"
      ]
    },
    {
      "cell_type": "markdown",
      "metadata": {
        "id": "e5nAseosrI7I"
      },
      "source": [
        "Assignment"
      ]
    },
    {
      "cell_type": "markdown",
      "metadata": {
        "id": "d3sVt-vGr2-l"
      },
      "source": [
        "**Q1:** What are the differences between the classification and regression in machine learning?\n",
        "\n",
        "**Ans: Classification:**\n",
        "\n",
        "1) In Classification, the output variable must be a discrete value.\n",
        "\n",
        "2) The task of the classification algorithm is to map the input value(x) with the discrete output variable(y).\n",
        "\n",
        "3) The Classification algorithms can be divided into Binary Classifier and Multi-class Classifier.\n",
        "\n",
        "4) In Classification, we try to find the decision boundary, which can divide the dataset into different classes.\n",
        "\n",
        "5) Different Algorithms -- (i) Logistic Regression, (ii) K-Nearest Neighbours, (iii) Support Vector Machines, (iv) Kernel SVM, (v) Naïve Bayes, (vi) Decision Tree Classification, (vii) Random Forest Classification\n",
        "\n",
        "**Regression:**\n",
        "\n",
        "1) In Regression, the output variable must be of continuous nature or real value.\n",
        "\n",
        "2) The task of the regression algorithm is to map the input value (x) with the continuous output variable(y).\n",
        "\n",
        "3) The regression Algorithm can be further divided into Linear and Non-linear Regression.\n",
        "\n",
        "4) In Regression, we try to find the best fit line, which can predict the output more accurately.\n",
        "\n",
        "5) Different Algorithms -- (i) Simple Linear Regression, (ii) Multiple Linear Regression, (iii) Polynomial Regression, (iv) Support Vector Regression, (v) Decision Tree Regression, (vi) Random Forest Regression"
      ]
    },
    {
      "cell_type": "markdown",
      "metadata": {
        "id": "BB1yQ9PcsEQX"
      },
      "source": [
        "**Q2:** What are the modules used to implement the linear regression algorithm on multicore gpu in python?\n",
        "\n",
        "**Ans: scikit-learn(sklearn)** It is a widely used Python library for machine learning, built on top of NumPy and some other packages. It provides the means for preprocessing data, reducing dimensionality, implementing regression, classification, clustering, and more. Like NumPy, scikit-learn is also open source.\n",
        "\n",
        "**Statsmodels** It is a powerful Python package for the estimation of statistical models, performing tests, and more. It functionality beyond the scope of scikit-learn. It’s open source as well."
      ]
    },
    {
      "cell_type": "markdown",
      "metadata": {
        "id": "igawE468rlQE"
      },
      "source": [
        "**Q3:** How to simulate the linear regression supervised machine learning algorithm on the multicore cpu or gpu?\n",
        "\n"
      ]
    },
    {
      "cell_type": "code",
      "metadata": {
        "colab": {
          "base_uri": "https://localhost:8080/"
        },
        "id": "9NnfrFUqrr-W",
        "outputId": "3ae1d5b6-ac0c-4ba8-83fd-2cb9f1dca870"
      },
      "source": [
        "from pandas import DataFrame\n",
        "import statsmodels.api as sm\n",
        "\n",
        "Stock_Market = {'Year': [2017,2017,2017,2017,2017,2017,2017,2017,2017,2017,2017,2017,2016,2016,2016,2016,2016,2016,2016,2016,2016,2016,2016,2016],\n",
        "                'Month': [12, 11,10,9,8,7,6,5,4,3,2,1,12,11,10,9,8,7,6,5,4,3,2,1],\n",
        "                'Interest_Rate': [2.75,2.5,2.5,2.5,2.5,2.5,2.5,2.25,2.25,2.25,2,2,2,1.75,1.75,1.75,1.75,1.75,1.75,1.75,1.75,1.75,1.75,1.75],\n",
        "                'Unemployment_Rate': [5.3,5.3,5.3,5.3,5.4,5.6,5.5,5.5,5.5,5.6,5.7,5.9,6,5.9,5.8,6.1,6.2,6.1,6.1,6.1,5.9,6.2,6.2,6.1],\n",
        "                'Stock_Index_Price': [1464,1394,1357,1293,1256,1254,1234,1195,1159,1167,1130,1075,1047,965,943,958,971,949,884,866,876,822,704,719]        \n",
        "                }\n",
        "\n",
        "df = DataFrame(Stock_Market,columns=['Year','Month','Interest_Rate','Unemployment_Rate','Stock_Index_Price']) \n",
        "\n",
        "X = df[['Interest_Rate','Unemployment_Rate']]\n",
        "Y = df['Stock_Index_Price']\n",
        "\n",
        "X = sm.add_constant(X) # adding a constant\n",
        "\n",
        "model = sm.OLS(Y, X).fit()\n",
        "predictions = model.predict(X) \n",
        "\n",
        "print_model = model.summary()\n",
        "print(print_model)"
      ],
      "execution_count": null,
      "outputs": [
        {
          "output_type": "stream",
          "name": "stdout",
          "text": [
            "                            OLS Regression Results                            \n",
            "==============================================================================\n",
            "Dep. Variable:      Stock_Index_Price   R-squared:                       0.898\n",
            "Model:                            OLS   Adj. R-squared:                  0.888\n",
            "Method:                 Least Squares   F-statistic:                     92.07\n",
            "Date:                Wed, 13 Oct 2021   Prob (F-statistic):           4.04e-11\n",
            "Time:                        03:25:32   Log-Likelihood:                -134.61\n",
            "No. Observations:                  24   AIC:                             275.2\n",
            "Df Residuals:                      21   BIC:                             278.8\n",
            "Df Model:                           2                                         \n",
            "Covariance Type:            nonrobust                                         \n",
            "=====================================================================================\n",
            "                        coef    std err          t      P>|t|      [0.025      0.975]\n",
            "-------------------------------------------------------------------------------------\n",
            "const              1798.4040    899.248      2.000      0.059     -71.685    3668.493\n",
            "Interest_Rate       345.5401    111.367      3.103      0.005     113.940     577.140\n",
            "Unemployment_Rate  -250.1466    117.950     -2.121      0.046    -495.437      -4.856\n",
            "==============================================================================\n",
            "Omnibus:                        2.691   Durbin-Watson:                   0.530\n",
            "Prob(Omnibus):                  0.260   Jarque-Bera (JB):                1.551\n",
            "Skew:                          -0.612   Prob(JB):                        0.461\n",
            "Kurtosis:                       3.226   Cond. No.                         394.\n",
            "==============================================================================\n",
            "\n",
            "Warnings:\n",
            "[1] Standard Errors assume that the covariance matrix of the errors is correctly specified.\n"
          ]
        }
      ]
    },
    {
      "cell_type": "markdown",
      "metadata": {
        "id": "QvVDVj8isTz2"
      },
      "source": [
        "**Interpreting the Regression Results**\n",
        "\n",
        "**Adjusted R-squared** reflects the fit of the model. R-squared values range from 0 to 1, where a higher value generally indicates a better fit, assuming certain conditions are met.\n",
        "\n",
        "**const coefficient** is your Y-intercept. It means that if both the Interest_Rate and Unemployment_Rate coefficients are zero, then the expected output (i.e., the Y) would be equal to the const coefficient.\n",
        "\n",
        "**Interest_Rate coefficient** represents the change in the output Y due to a change of one unit in the interest rate (everything else held constant)\n",
        "\n",
        "**Unemployment_Rate coefficient** represents the change in the output Y due to a change of one unit in the unemployment rate (everything else held constant) std err reflects the level of accuracy of the coefficients. The lower it is, the higher is the level of accuracy\n",
        "\n",
        "**P >|t|** is your p-value. A p-value of less than 0.05 is considered to be statistically significant\n",
        "\n",
        "**Confidence Interval** represents the range in which our coefficients are likely to fall (with a likelihood of 95%)"
      ]
    },
    {
      "cell_type": "markdown",
      "metadata": {
        "id": "0E_5Y-W1rOuI"
      },
      "source": [
        "**Q4:** Simulate the logistics regression supervised machine learning algorithm on the multicore cpu or gpu?"
      ]
    },
    {
      "cell_type": "code",
      "metadata": {
        "colab": {
          "base_uri": "https://localhost:8080/"
        },
        "id": "yoDcnWvtrVaG",
        "outputId": "b94ec874-73e5-4e05-e4cb-04eed852f165"
      },
      "source": [
        "# Step 1: Import packages, functions, and classes\n",
        "import numpy as np\n",
        "from sklearn.linear_model import LogisticRegression\n",
        "from sklearn.metrics import classification_report, confusion_matrix\n",
        "\n",
        "print(\"USING SKLEARRN\")\n",
        "# Step 2: Get data\n",
        "x = np.arange(10).reshape(-1, 1)\n",
        "y = np.array([0, 1, 0, 0, 1, 1, 1, 1, 1, 1])\n",
        "\n",
        "# Step 3: Create a model and train it\n",
        "model = LogisticRegression(solver='liblinear', C=10.0, random_state=0)\n",
        "model.fit(x, y)\n",
        "\n",
        "# Step 4: Evaluate the model\n",
        "p_pred = model.predict_proba(x)\n",
        "y_pred = model.predict(x)\n",
        "score_ = model.score(x, y)\n",
        "conf_m = confusion_matrix(y, y_pred)\n",
        "report = classification_report(y, y_pred)\n",
        "\n",
        "print('Probability Prediction:')\n",
        "print(p_pred)\n",
        "print('\\n-----------')\n",
        "print('Prediction:', y_pred)\n",
        "print('\\n-----------')\n",
        "print('Score:', score_)\n",
        "print('\\n-----------')\n",
        "print('Confusion Metrix:')\n",
        "print(conf_m)\n",
        "print('\\n-----------')\n",
        "print('Report:')\n",
        "print(report)\n",
        "\n",
        "print(\"\\n\\nUSING STATSMODEL\\n\")\n",
        "import numpy as np\n",
        "import statsmodels.api as sm\n",
        "\n",
        "x = np.arange(10).reshape(-1, 1)\n",
        "y = np.array([0, 1, 0, 0, 1, 1, 1, 1, 1, 1])\n",
        "x = sm.add_constant(x)\n",
        "\n",
        "model = sm.Logit(y, x)\n",
        "result = model.fit(method='newton')\n",
        "pred = result.predict(x)\n",
        "(result.predict(x) >= 0.5).astype(int)\n",
        "conf_m_ = result.pred_table()\n",
        "summary_ = result.summary()\n",
        "\n",
        "print('Prediction:', pred)\n",
        "print('\\n-----------')\n",
        "print('Confusion Metrix:')\n",
        "print(conf_m_)\n",
        "print('\\n-----------')\n",
        "print('Summary:')\n",
        "print(summary_)"
      ],
      "execution_count": null,
      "outputs": [
        {
          "output_type": "stream",
          "name": "stdout",
          "text": [
            "USING SKLEARRN\n",
            "Probability Prediction:\n",
            "[[0.81999686 0.18000314]\n",
            " [0.69272057 0.30727943]\n",
            " [0.52732579 0.47267421]\n",
            " [0.35570732 0.64429268]\n",
            " [0.21458576 0.78541424]\n",
            " [0.11910229 0.88089771]\n",
            " [0.06271329 0.93728671]\n",
            " [0.03205032 0.96794968]\n",
            " [0.0161218  0.9838782 ]\n",
            " [0.00804372 0.99195628]]\n",
            "\n",
            "-----------\n",
            "Prediction: [0 0 0 1 1 1 1 1 1 1]\n",
            "\n",
            "-----------\n",
            "Score: 0.8\n",
            "\n",
            "-----------\n",
            "Confusion Metrix:\n",
            "[[2 1]\n",
            " [1 6]]\n",
            "\n",
            "-----------\n",
            "Report:\n",
            "              precision    recall  f1-score   support\n",
            "\n",
            "           0       0.67      0.67      0.67         3\n",
            "           1       0.86      0.86      0.86         7\n",
            "\n",
            "    accuracy                           0.80        10\n",
            "   macro avg       0.76      0.76      0.76        10\n",
            "weighted avg       0.80      0.80      0.80        10\n",
            "\n",
            "\n",
            "\n",
            "USING STATSMODEL\n",
            "\n",
            "Optimization terminated successfully.\n",
            "         Current function value: 0.350471\n",
            "         Iterations 7\n",
            "Prediction: [0.12208792 0.24041529 0.41872657 0.62114189 0.78864861 0.89465521\n",
            " 0.95080891 0.97777369 0.99011108 0.99563083]\n",
            "\n",
            "-----------\n",
            "Confusion Metrix:\n",
            "[[2. 1.]\n",
            " [1. 6.]]\n",
            "\n",
            "-----------\n",
            "Summary:\n",
            "                           Logit Regression Results                           \n",
            "==============================================================================\n",
            "Dep. Variable:                      y   No. Observations:                   10\n",
            "Model:                          Logit   Df Residuals:                        8\n",
            "Method:                           MLE   Df Model:                            1\n",
            "Date:                Wed, 13 Oct 2021   Pseudo R-squ.:                  0.4263\n",
            "Time:                        03:24:05   Log-Likelihood:                -3.5047\n",
            "converged:                       True   LL-Null:                       -6.1086\n",
            "Covariance Type:            nonrobust   LLR p-value:                   0.02248\n",
            "==============================================================================\n",
            "                 coef    std err          z      P>|z|      [0.025      0.975]\n",
            "------------------------------------------------------------------------------\n",
            "const         -1.9728      1.737     -1.136      0.256      -5.377       1.431\n",
            "x1             0.8224      0.528      1.557      0.119      -0.213       1.858\n",
            "==============================================================================\n"
          ]
        }
      ]
    },
    {
      "cell_type": "markdown",
      "metadata": {
        "id": "wODN4l7ROzMS"
      },
      "source": [
        "Ids of parent and child"
      ]
    },
    {
      "cell_type": "code",
      "metadata": {
        "colab": {
          "base_uri": "https://localhost:8080/"
        },
        "id": "EOS93xxqFtRV",
        "outputId": "08e46d6f-56de-4e0a-8e90-41ae63c01e8e"
      },
      "source": [
        "from multiprocessing import Process\n",
        "import os\n",
        "\n",
        "def fun():\n",
        "\n",
        "    print('--------------------------')\n",
        "\n",
        "    print('calling fun')\n",
        "    print('parent process id:', os.getppid())\n",
        "    print('process id:', os.getpid())\n",
        "\n",
        "def main():\n",
        "\n",
        "    print('main fun')\n",
        "    print('process id:', os.getpid())\n",
        "\n",
        "    p1 = Process(target=fun)\n",
        "    p1.start()\n",
        "    p1.join()\n",
        "\n",
        "    p2 = Process(target=fun)\n",
        "    p2.start()\n",
        "    p2.join()\n",
        "\n",
        "\n",
        "if __name__ == '__main__':\n",
        "    main()"
      ],
      "execution_count": null,
      "outputs": [
        {
          "output_type": "stream",
          "name": "stdout",
          "text": [
            "main fun\n",
            "process id: 66\n",
            "--------------------------\n",
            "calling fun\n",
            "parent process id: 66\n",
            "process id: 458\n",
            "--------------------------\n",
            "calling fun\n",
            "parent process id: 66\n",
            "process id: 467\n"
          ]
        }
      ]
    },
    {
      "cell_type": "markdown",
      "metadata": {
        "id": "xvjvbfJRRZ_s"
      },
      "source": [
        "**Object:** Write a program to square and cube of a list using Process class of multiprocessing module"
      ]
    },
    {
      "cell_type": "code",
      "metadata": {
        "colab": {
          "base_uri": "https://localhost:8080/",
          "height": 365
        },
        "id": "FOr41Vzwnc53",
        "outputId": "3df24bea-aa61-4dfb-ca56-63bd4bc2760f"
      },
      "source": [
        "import multiprocessing as mp \n",
        "import os \n",
        "import time\n",
        "from timeit import default_timer as timer\n",
        "import matplotlib.pyplot as plt\n",
        "\n",
        "def square(n): \n",
        "    #print(\"Worker process id for {0}: {1}\".format(n, os.getpid())) \n",
        "    print(n*n)\n",
        "    \n",
        "def cube(n):\n",
        "  print(n*n*n) \n",
        "  \n",
        "if __name__ == \"__main__\":  \n",
        "    start=timer()\n",
        "    #creating a process class\n",
        "    p1=mp.Process(target=square,args=(6,))\n",
        "    p2=mp.Process(target=cube,args=(4,))\n",
        "    p1.start()\n",
        "    p1.join()\n",
        "    end1=timer()-start\n",
        "    print(\"time taken by square  \" ,end1)\n",
        "    p2.start()\n",
        "    p2.join()\n",
        "    end2=timer()-start\n",
        "    print(\"time taken by cube  \" ,end2)\n",
        "    fig = plt.figure()\n",
        "    t = ['square', 'cube']\n",
        "    exe_time = [end1,end2]\n",
        "    plt.bar(t,exe_time, color ='green') \n",
        "    plt.xlabel(\"different functins\") \n",
        "    plt.ylabel(\"time taken\") \n",
        "    plt.title(\"time taken by square and cube function by process\")\n",
        "    plt.show()"
      ],
      "execution_count": null,
      "outputs": [
        {
          "output_type": "stream",
          "name": "stdout",
          "text": [
            "36\n",
            "time taken by square   0.015249089999997523\n",
            "64\n",
            "time taken by cube   0.03860750100011501\n"
          ]
        },
        {
          "output_type": "display_data",
          "data": {
            "image/png": "[encoded data removed]",
            "text/plain": [
              "<Figure size 432x288 with 1 Axes>"
            ]
          },
          "metadata": {
            "needs_background": "light"
          }
        }
      ]
    },
    {
      "cell_type": "code",
      "metadata": {
        "colab": {
          "base_uri": "https://localhost:8080/",
          "height": 503
        },
        "id": "UQOPF5Jk4ulB",
        "outputId": "9bdf8105-897a-475a-aa90-964bebc1653f"
      },
      "source": [
        "import multiprocessing as mp \n",
        "import os \n",
        "import time\n",
        "from timeit import default_timer as timer\n",
        "import matplotlib.pyplot as plt\n",
        "\n",
        "def square(n): \n",
        "    #print(\"Worker process id for {0}: {1}\".format(n, os.getpid())) \n",
        "    print(n*n)\n",
        "\n",
        "def cube(n):\n",
        "  print(n*n*n) \n",
        "  \n",
        "if __name__ == \"__main__\":  \n",
        "    start=timer()\n",
        "    #creating a process class\n",
        "    lst = [6,4,5,6,7]\n",
        "    p1 = []\n",
        "\n",
        "    # instantiating process with arguments\n",
        "    for num in lst:\n",
        "        proc = mp.Process(target=square, args=(num,))\n",
        "        p1.append(proc)\n",
        "        proc.start()\n",
        "\n",
        "    # complete the processes\n",
        "    for proc in p1:\n",
        "        proc.join()\n",
        "   \n",
        "    end1=timer()-start\n",
        "    print(\"time taken by square  \" ,end1)\n",
        "\n",
        "    p2 = []\n",
        "    # instantiating process with arguments\n",
        "    for num in lst:\n",
        "        proc = mp.Process(target=cube, args=(num,))\n",
        "        p2.append(proc)\n",
        "        proc.start()\n",
        "\n",
        "    # complete the processes\n",
        "    for proc in p2:\n",
        "        proc.join()\n",
        "    end2=timer()-start\n",
        "    print(\"time taken by cube  \" ,end2)\n",
        "\n",
        "    fig = plt.figure()\n",
        "    t = ['square', 'cube']\n",
        "    exe_time = [end1,end2]\n",
        "    plt.bar(t,exe_time, color ='green') \n",
        "    plt.xlabel(\"different functins\") \n",
        "    plt.ylabel(\"time taken\") \n",
        "    plt.title(\"time taken by square and cube function by process\")\n",
        "    plt.show()"
      ],
      "execution_count": null,
      "outputs": [
        {
          "output_type": "stream",
          "name": "stdout",
          "text": [
            "36\n",
            "16\n",
            "25\n",
            "49\n",
            "36\n",
            "time taken by square   0.09062611799981823\n",
            "216\n",
            "64\n",
            "125\n",
            "216\n",
            "343\n",
            "time taken by cube   0.17853459100024338\n"
          ]
        },
        {
          "output_type": "display_data",
          "data": {
            "image/png": "[encoded data removed]",
            "text/plain": [
              "<Figure size 432x288 with 1 Axes>"
            ]
          },
          "metadata": {
            "needs_background": "light"
          }
        }
      ]
    },
    {
      "cell_type": "markdown",
      "metadata": {
        "id": "Ka4Kmjt_Ubuy"
      },
      "source": [
        "Write a program to square and cube of a list using Pool class of multiprocessing module"
      ]
    },
    {
      "cell_type": "code",
      "metadata": {
        "colab": {
          "base_uri": "https://localhost:8080/",
          "height": 365
        },
        "id": "J_w9Pgqq5TQp",
        "outputId": "ab7951a9-fa1d-485f-901c-47fa86a00aaa"
      },
      "source": [
        "import multiprocessing as mp \n",
        "import os \n",
        "import time\n",
        "from timeit import default_timer as timer\n",
        "import matplotlib.pyplot as plt\n",
        "\n",
        "def square(n): \n",
        "    #print(\"Worker process id for {0}: {1}\".format(n, os.getpid())) \n",
        "    print(n*n)\n",
        "\n",
        "def cube(n):\n",
        "  print(n*n*n) \n",
        "  \n",
        "if __name__ == \"__main__\":  \n",
        "    start=timer()\n",
        "    #creating a pool class\n",
        "    p1 = mp.Pool().map(square, (6,))\n",
        "    end1=timer()-start\n",
        "    print(\"time taken by square  \" ,end1)\n",
        "\n",
        "    start=timer()\n",
        "    p2 = mp.Pool().map(cube, (6,))\n",
        "    end2=timer()-start\n",
        "    print(\"time taken by cube  \" ,end2)\n",
        "\n",
        "    fig = plt.figure()\n",
        "    t = ['square', 'cube']\n",
        "    exe_time = [end1,end2]\n",
        "    plt.bar(t,exe_time, color ='green') \n",
        "    plt.xlabel(\"different functins\") \n",
        "    plt.ylabel(\"time taken\") \n",
        "    plt.title(\"time taken by square and cube function by pool\")\n",
        "    plt.show()"
      ],
      "execution_count": null,
      "outputs": [
        {
          "output_type": "stream",
          "name": "stdout",
          "text": [
            "36\n",
            "time taken by square   0.03093362899926433\n",
            "216\n",
            "time taken by cube   0.03411216099993908\n"
          ]
        },
        {
          "output_type": "display_data",
          "data": {
            "image/png": "[encoded data removed]",
            "text/plain": [
              "<Figure size 432x288 with 1 Axes>"
            ]
          },
          "metadata": {
            "needs_background": "light"
          }
        }
      ]
    },
    {
      "cell_type": "code",
      "metadata": {
        "colab": {
          "base_uri": "https://localhost:8080/",
          "height": 347
        },
        "id": "L0rmZ6vn5bI5",
        "outputId": "cdfb3023-c804-434e-9401-ab1d1debf5b5"
      },
      "source": [
        "import time\n",
        "from timeit import default_timer as timer\n",
        "from multiprocessing import Pool, cpu_count\n",
        "\n",
        "def square(n):\n",
        "    return n * n\n",
        "\n",
        "def cube(n):\n",
        "    return n * n * n\n",
        "\n",
        "def main():\n",
        "\n",
        "    print(f'starting computations on {cpu_count()} cores')\n",
        "\n",
        "    values = [6,4,5,6,7]\n",
        "\n",
        "    start=timer()\n",
        "    #creating a pool class\n",
        "    p1 = mp.Pool().map(square, values)\n",
        "    end1=timer()-start\n",
        "    print(\"time taken by square  \" ,end1)\n",
        "\n",
        "    start=timer()\n",
        "    p2 = mp.Pool().map(cube, values)\n",
        "    end2=timer()-start\n",
        "    print(\"time taken by cube  \" ,end2)\n",
        "    \n",
        "    fig = plt.figure()\n",
        "    t = ['square', 'cube']\n",
        "    exe_time = [end1,end2]\n",
        "    plt.bar(t,exe_time, color ='green') \n",
        "    plt.xlabel(\"different functins\") \n",
        "    plt.ylabel(\"time taken\") \n",
        "    plt.title(\"time taken by square and cube function by pool\")\n",
        "    plt.show()\n",
        "\n",
        "if __name__ == '__main__':\n",
        "    main()"
      ],
      "execution_count": null,
      "outputs": [
        {
          "output_type": "stream",
          "name": "stdout",
          "text": [
            "starting computations on 2 cores\n",
            "time taken by square   0.021259356999507872\n",
            "time taken by cube   0.038406039000619785\n"
          ]
        },
        {
          "output_type": "display_data",
          "data": {
            "image/png": "[encoded data removed]",
            "text/plain": [
              "<Figure size 432x288 with 1 Axes>"
            ]
          },
          "metadata": {
            "needs_background": "light"
          }
        }
      ]
    },
    {
      "cell_type": "markdown",
      "metadata": {
        "id": "ozWrSclub42G"
      },
      "source": [
        "Line Graph pool vs process class"
      ]
    },
    {
      "cell_type": "code",
      "metadata": {
        "colab": {
          "base_uri": "https://localhost:8080/",
          "height": 313
        },
        "id": "GInKu2sR5qi9",
        "outputId": "e6f09245-c1b7-4665-c389-ac8ac31604d8"
      },
      "source": [
        "import matplotlib.pyplot as plt\n",
        "import numpy as np\n",
        "\n",
        "plt.title(\"Process Class Time Vs Pool Class Time of square\")\n",
        "plt.ylabel('Time in second')\n",
        "plt.xlabel('Data length')\n",
        "plt.plot([1, 5], [0.0152, 0.0906], label='Process Class Time')\n",
        "plt.plot([1, 5], [0.0309, 0.02125], label='Pool Class Time')\n",
        "plt.legend()"
      ],
      "execution_count": null,
      "outputs": [
        {
          "output_type": "execute_result",
          "data": {
            "text/plain": [
              "<matplotlib.legend.Legend at 0x7f52e6131cd0>"
            ]
          },
          "metadata": {},
          "execution_count": 24
        },
        {
          "output_type": "display_data",
          "data": {
            "image/png": "[encoded data removed]",
            "text/plain": [
              "<Figure size 432x288 with 1 Axes>"
            ]
          },
          "metadata": {
            "needs_background": "light"
          }
        }
      ]
    },
    {
      "cell_type": "code",
      "metadata": {
        "colab": {
          "base_uri": "https://localhost:8080/",
          "height": 313
        },
        "id": "2IQFmGyL5z74",
        "outputId": "ece075f4-95b0-4049-9607-3e7a5b4891ec"
      },
      "source": [
        "import matplotlib.pyplot as plt\n",
        "import numpy as np\n",
        "\n",
        "plt.title(\"Process Class Time Vs Pool Class Time of Cube\")\n",
        "plt.ylabel('Time in second')\n",
        "plt.xlabel('Data length')\n",
        "plt.plot([1, 5], [0.0386, 0.1785], label='Process Class Time')\n",
        "plt.plot([1, 5], [0.03411, 0.0384], label='Pool Class Time')\n",
        "plt.legend()"
      ],
      "execution_count": null,
      "outputs": [
        {
          "output_type": "execute_result",
          "data": {
            "text/plain": [
              "<matplotlib.legend.Legend at 0x7f52e6210690>"
            ]
          },
          "metadata": {},
          "execution_count": 25
        },
        {
          "output_type": "display_data",
          "data": {
            "image/png": "[encoded data removed]",
            "text/plain": [
              "<Figure size 432x288 with 1 Axes>"
            ]
          },
          "metadata": {
            "needs_background": "light"
          }
        }
      ]
    },
    {
      "cell_type": "markdown",
      "metadata": {
        "id": "YFMvjdqFfZkZ"
      },
      "source": [
        "**Object:**Whether a number is odd or even using process class, pool class, multiprocessing class and sequencial manner and also simulate the time."
      ]
    },
    {
      "cell_type": "markdown",
      "metadata": {
        "id": "KyEPHufBf56Q"
      },
      "source": [
        "Sequential"
      ]
    },
    {
      "cell_type": "code",
      "metadata": {
        "colab": {
          "base_uri": "https://localhost:8080/"
        },
        "id": "DPRG47uxZhyB",
        "outputId": "758194df-53d6-453d-bc1c-85fbb0555022"
      },
      "source": [
        "import multiprocessing as mp \n",
        "import os \n",
        "import time\n",
        "from timeit import default_timer as timer\n",
        "\n",
        "def res(n):\n",
        "  time.sleep(0.05)\n",
        "  m=n*n\n",
        "  if(m%2==0):\n",
        "    print(\"{} squared result is even\".format(n))\n",
        "  else:\n",
        "    print(\"{} squared result is odd\".format(n))\n",
        "\n",
        "if __name__ == \"__main__\": \n",
        "  mylist = [[5, 8, 11], [1, 4, 9, 15, 22, 30], [1, 4, 9, 15, 22, 30, 5, 8, 11]]\n",
        "  \n",
        "  #sequentially\n",
        "  print('sequentially')\n",
        "  seq_time = []\n",
        "  start=timer()\n",
        "\n",
        "  for lst in mylist:\n",
        "      time.sleep(0.05)\n",
        "      for i in lst:\n",
        "        p=i*i\n",
        "        if(p%2==0):\n",
        "          print(\"even\")\n",
        "        else:\n",
        "          print(\"odd\")\n",
        "      end1=timer() - start\n",
        "      seq_time.append(end1)\n",
        "  print('sequential time : ',seq_time)\n",
        "  print('\\n')"
      ],
      "execution_count": null,
      "outputs": [
        {
          "output_type": "stream",
          "name": "stdout",
          "text": [
            "sequentially\n",
            "odd\n",
            "even\n",
            "odd\n",
            "odd\n",
            "even\n",
            "odd\n",
            "odd\n",
            "even\n",
            "even\n",
            "odd\n",
            "even\n",
            "odd\n",
            "odd\n",
            "even\n",
            "even\n",
            "odd\n",
            "even\n",
            "odd\n",
            "sequential time :  [0.050393911999890406, 0.10161439700004848, 0.15278423099994143]\n",
            "\n",
            "\n"
          ]
        }
      ]
    },
    {
      "cell_type": "markdown",
      "metadata": {
        "id": "PhJGADwKiPYo"
      },
      "source": [
        "Process"
      ]
    },
    {
      "cell_type": "code",
      "metadata": {
        "colab": {
          "base_uri": "https://localhost:8080/"
        },
        "id": "cyB2H9aeZtiR",
        "outputId": "fd233b98-9e3c-4ac9-8da0-4e5bccabdea0"
      },
      "source": [
        "import multiprocessing as mp \n",
        "import os \n",
        "import time\n",
        "from timeit import default_timer as timer\n",
        "\n",
        "print(\"USING PROCESS \")\n",
        "process_time = []\n",
        "start=timer()\n",
        "  #USING PROCESS CLASS\n",
        "for lst in mylist:\n",
        "    p2 = []\n",
        "    # instantiating process with arguments\n",
        "    for num in lst:\n",
        "        proc = mp.Process(target=res, args=(num,))\n",
        "        p2.append(proc)\n",
        "        proc.start()\n",
        "\n",
        "    # complete the processes\n",
        "    for proc in p2:\n",
        "        proc.join()\n",
        "    end2=timer()-start\n",
        "    process_time.append(end2)\n",
        "print(\"execution time in process class\", process_time)\n",
        "print(\"\\n\")"
      ],
      "execution_count": null,
      "outputs": [
        {
          "output_type": "stream",
          "name": "stdout",
          "text": [
            "USING PROCESS \n",
            "5 squared result is odd\n",
            "8 squared result is even\n",
            "11 squared result is odd\n",
            "1 squared result is odd\n",
            "4 squared result is even\n",
            "9 squared result is odd\n",
            "15 squared result is odd\n",
            "22 squared result is even\n",
            "30 squared result is even\n",
            "1 squared result is odd\n",
            "4 squared result is even\n",
            "9 squared result is odd\n",
            "15 squared result is odd\n",
            "30 squared result is even\n",
            "22 squared result is even\n",
            "5 squared result is odd\n",
            "11 squared result is odd\n",
            "8 squared result is even\n",
            "execution time in process class [0.09354452399998081, 0.2012357730000076, 0.3161160550000659]\n",
            "\n",
            "\n"
          ]
        }
      ]
    },
    {
      "cell_type": "markdown",
      "metadata": {
        "id": "P0BsmvMsiY8x"
      },
      "source": [
        "Pool"
      ]
    },
    {
      "cell_type": "code",
      "metadata": {
        "colab": {
          "base_uri": "https://localhost:8080/"
        },
        "id": "V1Osh7MkZ5V8",
        "outputId": "957a35bb-11aa-40dd-a344-0a3abd28f106"
      },
      "source": [
        "import multiprocessing as mp \n",
        "import os \n",
        "import time\n",
        "from timeit import default_timer as timer\n",
        "\n",
        "print(\"USING POOL \")\n",
        "pool_time = []\n",
        "for lst in mylist:\n",
        "    start=timer()\n",
        "    #USING POOL CLASS\n",
        "    p1=mp.Pool().map(res, lst) \n",
        "    end3= timer() - start\n",
        "    pool_time.append(end3)\n",
        "print(\"execution time in pool class\", pool_time)\n",
        "print(\"\\n\")"
      ],
      "execution_count": null,
      "outputs": [
        {
          "output_type": "stream",
          "name": "stdout",
          "text": [
            "USING POOL \n",
            "5 squared result is odd\n",
            "8 squared result is even\n",
            "11 squared result is odd\n",
            "1 squared result is odd\n",
            "4 squared result is even\n",
            "9 squared result is odd\n",
            "15 squared result is odd\n",
            "22 squared result is even\n",
            "30 squared result is even\n",
            "1 squared result is odd\n",
            "9 squared result is odd\n",
            "4 squared result is even\n",
            "15 squared result is odd\n",
            "22 squared result is even\n",
            "5 squared result is odd\n",
            "30 squared result is even\n",
            "8 squared result is even\n",
            "11 squared result is odd\n",
            "execution time in pool class [0.1300992189999306, 0.19011476800005767, 0.2888947700000699]\n",
            "\n",
            "\n"
          ]
        }
      ]
    },
    {
      "cell_type": "markdown",
      "metadata": {
        "id": "fKK-vqFZhSM3"
      },
      "source": [
        "Multithreading"
      ]
    },
    {
      "cell_type": "code",
      "metadata": {
        "colab": {
          "base_uri": "https://localhost:8080/"
        },
        "id": "TGttpQZ5aBbD",
        "outputId": "1ab59052-c8fe-4af7-906d-1df2a1bbe66a"
      },
      "source": [
        "import multiprocessing as mp \n",
        "import os \n",
        "import time\n",
        "from timeit import default_timer as timer\n",
        "import threading\n",
        "\n",
        "thread_time = []\n",
        "print(\"USING MULTITHREADING \")\n",
        "for lst in mylist:\n",
        "    thread = []\n",
        "    start=timer()\n",
        "    # instantiating process with arguments\n",
        "    for num in lst:\n",
        "        proc = threading.Thread(target=res, args=(num,))\n",
        "        thread.append(proc)\n",
        "        proc.start()\n",
        "\n",
        "    # complete the processes\n",
        "    for proc in thread:\n",
        "        proc.join()\n",
        "    end4=timer()-start\n",
        "    thread_time.append(end4)\n",
        "print(\"execution time : \", thread_time)"
      ],
      "execution_count": null,
      "outputs": [
        {
          "output_type": "stream",
          "name": "stdout",
          "text": [
            "USING MULTITHREADING \n",
            "5 squared result is odd\n",
            "11 squared result is odd8 squared result is even\n",
            "\n",
            "1 squared result is odd\n",
            "9 squared result is odd\n",
            "30 squared result is even15 squared result is odd\n",
            "22 squared result is even\n",
            "4 squared result is even\n",
            "\n",
            "1 squared result is odd\n",
            "4 squared result is even9 squared result is odd\n",
            "\n",
            "22 squared result is even\n",
            "5 squared result is odd\n",
            "8 squared result is even\n",
            "11 squared result is odd30 squared result is even\n",
            "15 squared result is odd\n",
            "\n",
            "execution time :  [0.05486167200001546, 0.0538689909999448, 0.056467804000021715]\n"
          ]
        }
      ]
    },
    {
      "cell_type": "markdown",
      "metadata": {
        "id": "R7Zl8IIYbIy5"
      },
      "source": [
        "Line graph"
      ]
    },
    {
      "cell_type": "code",
      "metadata": {
        "colab": {
          "base_uri": "https://localhost:8080/",
          "height": 279
        },
        "id": "Jq5tErucaHHX",
        "outputId": "103fb161-c885-4e58-c24d-e519b23f3f3a"
      },
      "source": [
        "import matplotlib.pyplot as plt\n",
        "import numpy as np\n",
        "\n",
        "plt.xlabel('Time Taken in seconds')\n",
        "plt.ylabel('Data Length')\n",
        "plt.plot(seq_time, [3, 6, 9], label=\"Sequential Time\")\n",
        "plt.plot(pool_time, [3, 6, 9], label='Pool Time')\n",
        "plt.plot(thread_time, [3, 6, 9], label='Multithreading Time')\n",
        "plt.plot(process_time, [3, 6, 9], label='Process Time')\n",
        "plt.legend()\n",
        "plt.show()"
      ],
      "execution_count": null,
      "outputs": [
        {
          "output_type": "display_data",
          "data": {
            "image/png": "[encoded data removed]",
            "text/plain": [
              "<Figure size 432x288 with 1 Axes>"
            ]
          },
          "metadata": {
            "needs_background": "light"
          }
        }
      ]
    },
    {
      "cell_type": "markdown",
      "metadata": {
        "id": "qCWh8PvfeUJZ"
      },
      "source": [
        " "
      ]
    },
    {
      "cell_type": "markdown",
      "metadata": {
        "id": "FDCVioYKhn_k"
      },
      "source": [
        "Speed up"
      ]
    },
    {
      "cell_type": "code",
      "metadata": {
        "colab": {
          "base_uri": "https://localhost:8080/",
          "height": 295
        },
        "id": "1iJzQjRJaNK0",
        "outputId": "467a38c1-b867-4531-bd68-53cfbf074150"
      },
      "source": [
        "import matplotlib.pyplot as plt\n",
        "import numpy as np\n",
        "\n",
        "plt.title(\"Speed Up Graph between Sequential, Pool, Process and MultiThreading\")\n",
        "plt.xlabel(\"Speed Up\")\n",
        "plt.plot([seq_time[0]/pool_time[0], seq_time[1]/pool_time[1], seq_time[2]/pool_time[2]], [3, 6, 9], label='Seq vs Pool')\n",
        "plt.plot([seq_time[0]/process_time[0], seq_time[1]/process_time[1], seq_time[2]/process_time[2]], [3, 6, 9], label='Seq vs Process')\n",
        "plt.plot([seq_time[0]/thread_time[0], seq_time[1]/thread_time[1], seq_time[2]/thread_time[2]], [3, 6, 9], label='Seq vs Multithreading')\n",
        "plt.legend()\n",
        "plt.show()"
      ],
      "execution_count": null,
      "outputs": [
        {
          "output_type": "display_data",
          "data": {
            "image/png": "[encoded data removed]",
            "text/plain": [
              "<Figure size 432x288 with 1 Axes>"
            ]
          },
          "metadata": {
            "needs_background": "light"
          }
        }
      ]
    },
    {
      "cell_type": "code",
      "metadata": {
        "colab": {
          "base_uri": "https://localhost:8080/"
        },
        "id": "hkMnzOR1i05c",
        "outputId": "16176dbc-3b2f-4b7a-9457-55b9a873257f"
      },
      "source": [
        "import multiprocessing as mp \n",
        "import os \n",
        "import time\n",
        "from timeit import default_timer as timer\n",
        "import threading\n",
        "\n",
        "print(\"USING MULTITHREADING \")\n",
        "\n",
        "def res(n):\n",
        "  #time.sleep(0.05)\n",
        "  m=n*n\n",
        "  if(m%2==0):\n",
        "    print(\"{} squared result is even \".format(n))\n",
        "  else:\n",
        "    print(\"{} squared result is odd \".format(n))\n",
        "start=timer()\n",
        "p1=threading.Thread(target=res,args=(4,)) #p1 gives an id ,not execute the function\n",
        "p2=threading.Thread(target=res,args=(5,))\n",
        "p1.start()\n",
        "p2.start()\n",
        "p1.join()\n",
        "p2.join()\n",
        "end4=timer() - start\n",
        "print(\"execution time : \", end4)"
      ],
      "execution_count": null,
      "outputs": [
        {
          "output_type": "stream",
          "name": "stdout",
          "text": [
            "USING MULTITHREADING \n",
            "4 squared result is even 5 squared result is odd \n",
            "\n",
            "execution time :  0.0030226400012907106\n"
          ]
        }
      ]
    },
    {
      "cell_type": "markdown",
      "metadata": {
        "id": "v3brcMKBkueT"
      },
      "source": [
        "**Lab-7 (13/10/2021)**"
      ]
    },
    {
      "cell_type": "code",
      "metadata": {
        "colab": {
          "base_uri": "https://localhost:8080/"
        },
        "id": "y3u9SmsTlXys",
        "outputId": "231c8745-540c-4a48-bf8f-824890263f1a"
      },
      "source": [
        "import multiprocessing as mp \n",
        "import os \n",
        "import time\n",
        "from timeit import default_timer as timer\n",
        "import threading\n",
        "\n",
        "print(\"USING MULTITHREADING \")\n",
        "\n",
        "def res(n):\n",
        "  #time.sleep(0.05)\n",
        "  m=n*n\n",
        "  if(m%2==0):\n",
        "    print(\"{} squared result is even \".format(n))\n",
        "  else:\n",
        "    print(\"{} squared result is odd \".format(n))\n",
        "start=timer()\n",
        "p1=threading.Thread(target=res,args=(4,)) #p1 gives an id ,not execute the function\n",
        "p2=threading.Thread(target=res,args=(5,))\n",
        "p1.start()\n",
        "p2.start()\n",
        "p1.join()\n",
        "p2.join()\n",
        "end4=timer() - start\n",
        "print(\"execution time : \", end4)"
      ],
      "execution_count": null,
      "outputs": [
        {
          "output_type": "stream",
          "name": "stdout",
          "text": [
            "USING MULTITHREADING \n",
            "4 squared result is even 5 squared result is odd \n",
            "\n",
            "execution time :  0.007097723000015321\n"
          ]
        }
      ]
    },
    {
      "cell_type": "code",
      "metadata": {
        "colab": {
          "base_uri": "https://localhost:8080/",
          "height": 522
        },
        "id": "jQIRXmjxl4ds",
        "outputId": "09f236e5-a38e-4a11-e23e-86dbc938cc14"
      },
      "source": [
        "import multiprocessing as mp \n",
        "import os \n",
        "import time\n",
        "from timeit import default_timer as timer\n",
        "import threading\n",
        "\n",
        "print(\"USING MULTITHREADING \")\n",
        "mylist = [[4, 5], [1, 4, 9, 15], [1, 4, 9, 15, 22, 30]]\n",
        "\n",
        "def res(n):\n",
        "  time.sleep(0.05)\n",
        "  m=n*n\n",
        "  if(m%2==0):\n",
        "    print(\"{} squared result is even \".format(n))\n",
        "  else:\n",
        "    print(\"{} squared result is odd \".format(n))\n",
        "\n",
        "threads_time = []\n",
        "for lst in mylist:\n",
        "    thread = []\n",
        "    start=timer()\n",
        "    # instantiating process with arguments\n",
        "    for num in lst:\n",
        "        proc = threading.Thread(target=res, args=(num,))\n",
        "        thread.append(proc)\n",
        "        proc.start()\n",
        "\n",
        "    # complete the processes\n",
        "    for proc in thread:\n",
        "        proc.join()\n",
        "    end4=timer()-start\n",
        "    threads_time.append(end4)\n",
        "print(\"execution time : \", threads_time)\n",
        "\n",
        "import matplotlib.pyplot as plt\n",
        "import numpy as np\n",
        "\n",
        "plt.xlabel('Time Taken in seconds')\n",
        "plt.ylabel('Data Length')\n",
        "plt.plot(threads_time, [2, 4, 6], label='Multithreading Time')\n",
        "plt.legend()\n",
        "plt.show()"
      ],
      "execution_count": null,
      "outputs": [
        {
          "output_type": "stream",
          "name": "stdout",
          "text": [
            "USING MULTITHREADING \n",
            "4 squared result is even \n",
            "5 squared result is odd \n",
            "1 squared result is odd \n",
            "4 squared result is even \n",
            "9 squared result is odd \n",
            "15 squared result is odd \n",
            "1 squared result is odd \n",
            "15 squared result is odd 4 squared result is even \n",
            "22 squared result is even \n",
            "9 squared result is odd \n",
            "30 squared result is even \n",
            "\n",
            "execution time :  [0.055286076999948364, 0.05381690500001923, 0.053615197999988595]\n"
          ]
        },
        {
          "output_type": "display_data",
          "data": {
            "image/png": "[encoded data removed]",
            "text/plain": [
              "<Figure size 432x288 with 1 Axes>"
            ]
          },
          "metadata": {
            "needs_background": "light"
          }
        }
      ]
    },
    {
      "cell_type": "markdown",
      "metadata": {
        "id": "Ex1wpWlQUaxD"
      },
      "source": [
        "**Q:** What is the reason to use sleep function in python. Explain with example.\n",
        "\n",
        "Ans: The sleep() function suspends execution of the current thread for a given number of seconds. In case of single-threaded programs, sleep() suspends execution of the thread and process. However, the function suspends a thread rather than the whole process in multithreaded programs.\n",
        "\n",
        "Python sleep() The sleep() function suspends (waits) execution of the current thread for a given number of seconds. "
      ]
    },
    {
      "cell_type": "markdown",
      "metadata": {
        "id": "_J5ZvVtvidlY"
      },
      "source": [
        "**Date:20/10/2021**"
      ]
    },
    {
      "cell_type": "markdown",
      "metadata": {
        "id": "cC8Jx1vBiKJk"
      },
      "source": [
        "Q1: Write a python code to fetch the numerical data as a list data structure whch is store in google drive or github."
      ]
    },
    {
      "cell_type": "code",
      "metadata": {
        "colab": {
          "base_uri": "https://localhost:8080/"
        },
        "id": "3r6RxnbNq1YZ",
        "outputId": "a07e3927-66b0-4b40-f462-15963ab0dc1b"
      },
      "source": [
        "import numpy as np\n",
        "mylist1 = np.loadtxt('/content/drive/MyDrive/Colab Notebooks/mylist (3).txt', delimiter=\",\", dtype='i')\n",
        "mylist1"
      ],
      "execution_count": null,
      "outputs": [
        {
          "output_type": "execute_result",
          "data": {
            "text/plain": [
              "array([ 1,  2,  3,  1,  2,  3,  4,  5,  6,  1,  2,  3,  4,  5,  6,  7,  8,\n",
              "        9, 10], dtype=int32)"
            ]
          },
          "metadata": {},
          "execution_count": 52
        }
      ]
    },
    {
      "cell_type": "code",
      "metadata": {
        "colab": {
          "base_uri": "https://localhost:8080/"
        },
        "id": "MKpVyfqowiL6",
        "outputId": "6d652342-0081-4f32-afcc-00617b52fe44"
      },
      "source": [
        "import pandas as pd\n",
        "mylist2 = pd.read_csv('/content/drive/MyDrive/Colab Notebooks/mylist (3).txt', sep=\",\", header=None)\n",
        "mylist2.to_numpy()"
      ],
      "execution_count": null,
      "outputs": [
        {
          "output_type": "execute_result",
          "data": {
            "text/plain": [
              "array([[ 1,  2,  3,  1,  2,  3,  4,  5,  6,  1,  2,  3,  4,  5,  6,  7,\n",
              "         8,  9, 10]])"
            ]
          },
          "metadata": {},
          "execution_count": 53
        }
      ]
    },
    {
      "cell_type": "code",
      "metadata": {
        "colab": {
          "base_uri": "https://localhost:8080/"
        },
        "id": "xgGCnISBB4pY",
        "outputId": "4e594a01-5d60-4f20-e4c8-67420ee1ce3f"
      },
      "source": [
        "mylist4 = pd.read_table('/content/drive/MyDrive/Colab Notebooks/mylist (3).txt', sep=',', header=None)\n",
        "mylist4.to_numpy()"
      ],
      "execution_count": null,
      "outputs": [
        {
          "output_type": "execute_result",
          "data": {
            "text/plain": [
              "array([[ 1,  2,  3,  1,  2,  3,  4,  5,  6,  1,  2,  3,  4,  5,  6,  7,\n",
              "         8,  9, 10]])"
            ]
          },
          "metadata": {},
          "execution_count": 54
        }
      ]
    },
    {
      "cell_type": "code",
      "metadata": {
        "colab": {
          "base_uri": "https://localhost:8080/"
        },
        "id": "XhnTZRj5w9cL",
        "outputId": "055694ba-2f38-4fea-817b-bfc0a7520cc9"
      },
      "source": [
        "file = open('/content/drive/MyDrive/Colab Notebooks/mylist (3).txt', 'r')\n",
        "\n",
        "for each in file:\n",
        "  final_list = list(each.split(\",\"))\n",
        "\n",
        "final_list = [int(i) for i in final_list]\n",
        "final_list"
      ],
      "execution_count": null,
      "outputs": [
        {
          "output_type": "execute_result",
          "data": {
            "text/plain": [
              "[1, 2, 3, 1, 2, 3, 4, 5, 6, 1, 2, 3, 4, 5, 6, 7, 8, 9, 10]"
            ]
          },
          "metadata": {},
          "execution_count": 55
        }
      ]
    },
    {
      "cell_type": "markdown",
      "metadata": {
        "id": "acMBt-YE6YuM"
      },
      "source": [
        "**Assignment**"
      ]
    },
    {
      "cell_type": "markdown",
      "metadata": {
        "id": "uV64J2T46dQb"
      },
      "source": [
        "Write a python program to find out the factorail of n number in sequential, parallel and multiprocessing and data should be read from the google drive. Draw the comparision graph between them."
      ]
    },
    {
      "cell_type": "code",
      "metadata": {
        "colab": {
          "base_uri": "https://localhost:8080/"
        },
        "id": "XulDQa2YDub3",
        "outputId": "d1d06744-b69b-45dd-8a66-aec5edb70d57"
      },
      "source": [
        "mylist5 = []\n",
        "lst1 = []\n",
        "lst2 = []\n",
        "lst3 = []\n",
        "for i, v in enumerate(mylist4):\n",
        "  if i > 8:\n",
        "    lst3.append(v)\n",
        "  elif i > 2:\n",
        "    lst2.append(v)\n",
        "  else:\n",
        "    lst1.append(v)\n",
        "mylist5.append(lst1)\n",
        "mylist5.append(lst2)\n",
        "mylist5.append(lst3)\n",
        "mylist5"
      ],
      "execution_count": null,
      "outputs": [
        {
          "output_type": "execute_result",
          "data": {
            "text/plain": [
              "[[0, 1, 2], [3, 4, 5, 6, 7, 8], [9, 10, 11, 12, 13, 14, 15, 16, 17, 18]]"
            ]
          },
          "metadata": {},
          "execution_count": 56
        }
      ]
    },
    {
      "cell_type": "code",
      "metadata": {
        "id": "UEVo6IlcEClf"
      },
      "source": [
        "def factorial(n):\n",
        "    time.sleep(0.05)\n",
        "    fact = 1\n",
        "    for factor in range(1, n + 1):\n",
        "        fact *= factor\n",
        "    return fact\n",
        "\n",
        "my_facts = [factorial(x) for x in mylist4]"
      ],
      "execution_count": null,
      "outputs": []
    },
    {
      "cell_type": "code",
      "metadata": {
        "colab": {
          "base_uri": "https://localhost:8080/"
        },
        "id": "3BFpb4krEG4k",
        "outputId": "a7c72745-be57-49e9-cf01-b734ea83f501"
      },
      "source": [
        "import multiprocessing as mp \n",
        "import os \n",
        "import time\n",
        "from timeit import default_timer as timer\n",
        "\n",
        "if __name__ == \"__main__\": \n",
        "  #sequentially\n",
        "  print('Sequentially')\n",
        "  seq_time = []\n",
        "  start=timer()\n",
        "  facts1 = []\n",
        "\n",
        "  for lst in mylist5:\n",
        "      my_facts = [factorial(x) for x in lst]\n",
        "      facts1.append(my_facts)\n",
        "      end1=timer() - start\n",
        "      seq_time.append(end1)\n",
        "  print('sequential time : ',seq_time)\n",
        "  print('\\n')"
      ],
      "execution_count": null,
      "outputs": [
        {
          "output_type": "stream",
          "name": "stdout",
          "text": [
            "Sequentially\n",
            "sequential time :  [0.1503852209998513, 0.4520666649996201, 0.9543127540000569]\n",
            "\n",
            "\n"
          ]
        }
      ]
    },
    {
      "cell_type": "code",
      "metadata": {
        "colab": {
          "base_uri": "https://localhost:8080/"
        },
        "id": "KI-3fPT4ENwW",
        "outputId": "217c8f6e-dbb4-4544-e733-b3d6600ca0e4"
      },
      "source": [
        "import multiprocessing as mp \n",
        "import os \n",
        "import time\n",
        "from timeit import default_timer as timer\n",
        "\n",
        "print(\"USING PROCESS \")\n",
        "process_time = []\n",
        "start=timer()\n",
        "  #USING PROCESS CLASS\n",
        "for lst in mylist5:\n",
        "    p2 = []\n",
        "    # instantiating process with arguments\n",
        "    for num in lst:\n",
        "        proc = mp.Process(target=factorial, args=(num,))\n",
        "        p2.append(proc)\n",
        "        proc.start()\n",
        "\n",
        "    # complete the processes\n",
        "    for proc in p2:\n",
        "        proc.join()\n",
        "    end2=timer()-start\n",
        "    process_time.append(end2)\n",
        "print(\"execution time in process class\", process_time)\n",
        "print(\"\\n\")"
      ],
      "execution_count": null,
      "outputs": [
        {
          "output_type": "stream",
          "name": "stdout",
          "text": [
            "USING PROCESS \n",
            "execution time in process class [0.08583874099986133, 0.1786666409998361, 0.3016137570002684]\n",
            "\n",
            "\n"
          ]
        }
      ]
    },
    {
      "cell_type": "code",
      "metadata": {
        "colab": {
          "base_uri": "https://localhost:8080/"
        },
        "id": "Uej1i8dQES2d",
        "outputId": "3bd5094b-f204-4f20-eaf1-32a260df3a40"
      },
      "source": [
        "import multiprocessing as mp \n",
        "import os \n",
        "import time\n",
        "from timeit import default_timer as timer\n",
        "\n",
        "print(\"USING POOL \")\n",
        "pool_time = []\n",
        "for lst in mylist5:\n",
        "    start=timer()\n",
        "    #USING POOL CLASS\n",
        "    p1=mp.Pool().map(factorial, lst) \n",
        "    end3= timer() - start\n",
        "    pool_time.append(end3)\n",
        "print(\"execution time in pool class\", pool_time)\n",
        "print(\"\\n\")"
      ],
      "execution_count": null,
      "outputs": [
        {
          "output_type": "stream",
          "name": "stdout",
          "text": [
            "USING POOL \n",
            "execution time in pool class [0.12548781399982545, 0.1705357789996924, 0.3224499400002969]\n",
            "\n",
            "\n"
          ]
        }
      ]
    },
    {
      "cell_type": "code",
      "metadata": {
        "colab": {
          "base_uri": "https://localhost:8080/"
        },
        "id": "eGXTKvnFEXkt",
        "outputId": "0e5036c7-6395-4bd3-811b-20f4b1203472"
      },
      "source": [
        "import multiprocessing as mp \n",
        "import os \n",
        "import time\n",
        "from timeit import default_timer as timer\n",
        "import threading\n",
        "\n",
        "thread_time = []\n",
        "print(\"USING MULTITHREADING \")\n",
        "for lst in mylist5:\n",
        "    thread = []\n",
        "    start=timer()\n",
        "    # instantiating process with arguments\n",
        "    for num in lst:\n",
        "        proc = threading.Thread(target=factorial, args=(num,))\n",
        "        thread.append(proc)\n",
        "        proc.start()\n",
        "\n",
        "    # complete the processes\n",
        "    for proc in thread:\n",
        "        proc.join()\n",
        "    end4=timer()-start\n",
        "    thread_time.append(end4)\n",
        "print(\"execution time : \", thread_time)"
      ],
      "execution_count": null,
      "outputs": [
        {
          "output_type": "stream",
          "name": "stdout",
          "text": [
            "USING MULTITHREADING \n",
            "execution time :  [0.050983038000595116, 0.05111766600020928, 0.051599135999822465]\n"
          ]
        }
      ]
    },
    {
      "cell_type": "code",
      "metadata": {
        "colab": {
          "base_uri": "https://localhost:8080/",
          "height": 279
        },
        "id": "CcRzmtQ-E1Vd",
        "outputId": "3e39699a-e3c0-46a4-feff-c44ffb5c7dea"
      },
      "source": [
        "import matplotlib.pyplot as plt\n",
        "import numpy as np\n",
        "\n",
        "plt.xlabel('Time Taken in seconds')\n",
        "plt.ylabel('Data Length')\n",
        "plt.plot(seq_time, [3, 6, 9], label=\"Sequential Time\")\n",
        "plt.plot(pool_time, [3, 6, 9], label='Pool Time')\n",
        "plt.plot(thread_time, [3, 6, 9], label='Multithreading Time')\n",
        "plt.plot(process_time, [3, 6, 9], label='Process Time')\n",
        "plt.legend()\n",
        "plt.show()"
      ],
      "execution_count": null,
      "outputs": [
        {
          "output_type": "display_data",
          "data": {
            "image/png": "[encoded data removed]",
            "text/plain": [
              "<Figure size 432x288 with 1 Axes>"
            ]
          },
          "metadata": {
            "needs_background": "light"
          }
        }
      ]
    },
    {
      "cell_type": "code",
      "metadata": {
        "colab": {
          "base_uri": "https://localhost:8080/",
          "height": 295
        },
        "id": "uEmdkAkUE6B1",
        "outputId": "504494c0-9286-4d84-edd6-2ab3b836eec4"
      },
      "source": [
        "import matplotlib.pyplot as plt\n",
        "import numpy as np\n",
        "\n",
        "plt.title(\"Speed Up Graph between Sequential, Pool, Process and MultiThreading\")\n",
        "plt.xlabel(\"Speed Up\")\n",
        "plt.plot([seq_time[0]/pool_time[0], seq_time[1]/pool_time[1], seq_time[2]/pool_time[2]], [3, 6, 9], label='Seq vs Pool')\n",
        "plt.plot([seq_time[0]/process_time[0], seq_time[1]/process_time[1], seq_time[2]/process_time[2]], [3, 6, 9], label='Seq vs Process')\n",
        "plt.plot([seq_time[0]/thread_time[0], seq_time[1]/thread_time[1], seq_time[2]/thread_time[2]], [3, 6, 9], label='Seq vs Multithreading')\n",
        "plt.legend()\n",
        "plt.show()"
      ],
      "execution_count": null,
      "outputs": [
        {
          "output_type": "display_data",
          "data": {
            "image/png": "[encoded data removed]",
            "text/plain": [
              "<Figure size 432x288 with 1 Axes>"
            ]
          },
          "metadata": {
            "needs_background": "light"
          }
        }
      ]
    },
    {
      "cell_type": "markdown",
      "metadata": {
        "id": "Ws8XRaCWJ2A2"
      },
      "source": [
        "**Date:27/10/2021**"
      ]
    },
    {
      "cell_type": "markdown",
      "metadata": {
        "id": "vAYKsve7J-dM"
      },
      "source": [
        "Q: Write a program to Print the elements of 2D array in python"
      ]
    },
    {
      "cell_type": "code",
      "metadata": {
        "colab": {
          "base_uri": "https://localhost:8080/"
        },
        "id": "_zsGKSVrR07b",
        "outputId": "5266ad26-a9cb-4e2f-bd63-c9753926c866"
      },
      "source": [
        "# 2D array\n",
        "rows, cols = (5, 5)\n",
        "arr = [[0]*cols]*rows\n",
        "print(arr)"
      ],
      "execution_count": null,
      "outputs": [
        {
          "output_type": "stream",
          "name": "stdout",
          "text": [
            "[[0, 0, 0, 0, 0], [0, 0, 0, 0, 0], [0, 0, 0, 0, 0], [0, 0, 0, 0, 0], [0, 0, 0, 0, 0]]\n"
          ]
        }
      ]
    },
    {
      "cell_type": "markdown",
      "metadata": {
        "id": "f7faM7oeR9sW"
      },
      "source": [
        "Q2: Write a python program to add matrix using the multiprocessing module by sequential, process, pool, multithreading and draw all the possible graph."
      ]
    },
    {
      "cell_type": "markdown",
      "metadata": {
        "id": "kAWRkiuWSXZJ"
      },
      "source": [
        "Sequential"
      ]
    },
    {
      "cell_type": "code",
      "metadata": {
        "colab": {
          "base_uri": "https://localhost:8080/"
        },
        "id": "A_Npu7AaSBs6",
        "outputId": "7e41bdb4-0a44-4d00-b583-d7d4915d5baf"
      },
      "source": [
        "import time \n",
        "from timeit import default_timer as timer \n",
        "import multiprocessing as mp\n",
        "import numpy as np\n",
        "import matplotlib.pyplot as plt\n",
        "import threading\n",
        "\n",
        "X = [[1,2,3],[4 ,5,6],[7 ,8,9]] \n",
        "  \n",
        "Y = [[9,8,7],[6,5,4],[3,2,1]] \n",
        "  \n",
        "result = [[0,0,0],[0,0,0],[0,0,0]] \n",
        "\n",
        "start=timer()\n",
        "for i in range(len(X)):\n",
        "    for j in range(len(X[0])):\n",
        "      time.sleep(0.025) \n",
        "      result[i][j] = X[i][j] + Y[i][j] \n",
        "  \n",
        "for r in result: \n",
        "    print(r) \n",
        "end1=timer()-start\n",
        "print(\"sequential time : \",end1)"
      ],
      "execution_count": null,
      "outputs": [
        {
          "output_type": "stream",
          "name": "stdout",
          "text": [
            "[10, 10, 10]\n",
            "[10, 10, 10]\n",
            "[10, 10, 10]\n",
            "sequential time :  0.22915677499986487\n"
          ]
        }
      ]
    },
    {
      "cell_type": "markdown",
      "metadata": {
        "id": "p88TG2PASpJd"
      },
      "source": [
        "Pool"
      ]
    },
    {
      "cell_type": "code",
      "metadata": {
        "colab": {
          "base_uri": "https://localhost:8080/"
        },
        "id": "_lOjW0ZrSrDL",
        "outputId": "9da49372-9d05-4050-dc81-40e893e040f4"
      },
      "source": [
        "start=timer()\n",
        "def sum(p,q):\n",
        "  time.sleep(0.025)\n",
        "  res=np.add(p,q)\n",
        "  return res\n",
        "\n",
        "p1=mp.Pool()\n",
        "p1=map(sum,X,Y)\n",
        "end2=timer()-start\n",
        "print(\"pool time : \",end2)"
      ],
      "execution_count": null,
      "outputs": [
        {
          "output_type": "stream",
          "name": "stdout",
          "text": [
            "pool time :  0.0317635089995747\n"
          ]
        }
      ]
    },
    {
      "cell_type": "markdown",
      "metadata": {
        "id": "y3MNfQhYTiAG"
      },
      "source": [
        "Process"
      ]
    },
    {
      "cell_type": "code",
      "metadata": {
        "colab": {
          "base_uri": "https://localhost:8080/"
        },
        "id": "UYSV-Y27TfWd",
        "outputId": "da22a38d-d6c3-4acb-8d0b-8d3f2dcceebe"
      },
      "source": [
        "start=timer()\n",
        "p2=mp.Process(target=sum,args=(X,Y,))\n",
        "p2.start()\n",
        "p2.join()\n",
        "end3=timer()-start\n",
        "print(\"process time : \",end3)"
      ],
      "execution_count": null,
      "outputs": [
        {
          "output_type": "stream",
          "name": "stdout",
          "text": [
            "process time :  0.04672028999993927\n"
          ]
        }
      ]
    },
    {
      "cell_type": "markdown",
      "metadata": {
        "id": "GetBeDhsTqOd"
      },
      "source": [
        "Multithreding"
      ]
    },
    {
      "cell_type": "code",
      "metadata": {
        "colab": {
          "base_uri": "https://localhost:8080/"
        },
        "id": "KQAOS8ZHTn9L",
        "outputId": "d6fb5230-34f8-4d10-fc08-91fd7550a139"
      },
      "source": [
        "start=timer()\n",
        "p3=threading.Thread(target=sum,args=(X,Y,))\n",
        "p3.start()\n",
        "end4=timer()-start\n",
        "print(\"process time : \",end4)"
      ],
      "execution_count": null,
      "outputs": [
        {
          "output_type": "stream",
          "name": "stdout",
          "text": [
            "process time :  0.0073691379993761075\n"
          ]
        }
      ]
    },
    {
      "cell_type": "markdown",
      "metadata": {
        "id": "DmflituFUH2T"
      },
      "source": [
        "Time Taken Graph"
      ]
    },
    {
      "cell_type": "code",
      "metadata": {
        "colab": {
          "base_uri": "https://localhost:8080/",
          "height": 295
        },
        "id": "cWhJUj5RT0qu",
        "outputId": "db8afbc5-eff3-4670-a577-aa7ecfe9ae65"
      },
      "source": [
        "fig = plt.figure()\n",
        "t = ['sequential', 'pool', 'process', 'multithreading']\n",
        "exe_time= [end1,end2,end3, end4]\n",
        "plt.bar(t,exe_time, color ='g') \n",
        "plt.xlabel(\"different functins\") \n",
        "plt.ylabel(\"time taken\") \n",
        "plt.title(\"analization of sequential,pool and process time\")\n",
        "plt.show()"
      ],
      "execution_count": null,
      "outputs": [
        {
          "output_type": "display_data",
          "data": {
            "image/png": "[encoded data removed]",
            "text/plain": [
              "<Figure size 432x288 with 1 Axes>"
            ]
          },
          "metadata": {
            "needs_background": "light"
          }
        }
      ]
    },
    {
      "cell_type": "markdown",
      "metadata": {
        "id": "F9lnnhapUFRr"
      },
      "source": [
        "SpeedUp"
      ]
    },
    {
      "cell_type": "code",
      "metadata": {
        "id": "f4Lpor9MT6a1",
        "colab": {
          "base_uri": "https://localhost:8080/",
          "height": 402
        },
        "outputId": "ad2eb3b6-1101-4e36-b433-10ec3f754e69"
      },
      "source": [
        "speed_up_pool=end1/end2\n",
        "speed_up_process=end1/end3\n",
        "speed_up_threading=end1/end4\n",
        "print('speed_up of pool : ',speed_up_pool)\n",
        "print('speed_up_process : ',speed_up_process)\n",
        "print('speed_up_threading : ',speed_up_threading)\n",
        "\n",
        "fig1 = plt.figure(figsize=(10,5))\n",
        "t = ['pool', 'process','threading']\n",
        "exe_time = [speed_up_pool,speed_up_process,speed_up_threading]\n",
        "plt.bar(t,exe_time, color ='green') \n",
        "plt.xlabel(\"different functins\") \n",
        "plt.ylabel(\"speed up\") \n",
        "plt.title(\"analization of pool and process and multithreading speed up\")\n",
        "plt.show()"
      ],
      "execution_count": null,
      "outputs": [
        {
          "output_type": "stream",
          "name": "stdout",
          "text": [
            "speed_up of pool :  7.214466607040588\n",
            "speed_up_process :  4.904866279729059\n",
            "speed_up_threading :  31.096822317517454\n"
          ]
        },
        {
          "output_type": "display_data",
          "data": {
            "image/png": "[encoded data removed]",
            "text/plain": [
              "<Figure size 720x360 with 1 Axes>"
            ]
          },
          "metadata": {
            "needs_background": "light"
          }
        }
      ]
    },
    {
      "cell_type": "markdown",
      "metadata": {
        "id": "Y083dD1dU2pv"
      },
      "source": [
        "Q3: Write a python program to multiply matrix using the multiprocessing module by sequential, process, pool, multithreading and draw all the possible graph."
      ]
    },
    {
      "cell_type": "markdown",
      "metadata": {
        "id": "G-e1hOJQVOUn"
      },
      "source": [
        "Sequential"
      ]
    },
    {
      "cell_type": "code",
      "metadata": {
        "colab": {
          "base_uri": "https://localhost:8080/"
        },
        "id": "1hBjE8FFY6Uq",
        "outputId": "4882b92d-ed9b-4bcd-f656-b6fe8c8fd268"
      },
      "source": [
        "import time \n",
        "from timeit import default_timer as timer \n",
        "import multiprocessing as mp\n",
        "import numpy as np\n",
        "import matplotlib.pyplot as plt\n",
        "import threading\n",
        "\n",
        "X = [[1,2,3],[4 ,5,6],[7 ,8,9]] \n",
        "  \n",
        "Y = [[9,8,7],[6,5,4],[3,2,1]] \n",
        "  \n",
        "result = [[0,0,0],[0,0,0],[0,0,0]] \n",
        "\n",
        "start=timer()\n",
        "for i in range(len(X)):\n",
        "    for j in range(len(X[0])):\n",
        "      time.sleep(0.025) \n",
        "      result[i][j] = X[i][j] * Y[i][j] \n",
        "  \n",
        "for r in result: \n",
        "    print(r) \n",
        "end1=timer()-start\n",
        "print(\"sequential time : \",end1)"
      ],
      "execution_count": null,
      "outputs": [
        {
          "output_type": "stream",
          "name": "stdout",
          "text": [
            "[9, 16, 21]\n",
            "[24, 25, 24]\n",
            "[21, 16, 9]\n",
            "sequential time :  0.22800731499955873\n"
          ]
        }
      ]
    },
    {
      "cell_type": "markdown",
      "metadata": {
        "id": "gvq2IfVHVTfS"
      },
      "source": [
        "Pool"
      ]
    },
    {
      "cell_type": "code",
      "metadata": {
        "colab": {
          "base_uri": "https://localhost:8080/"
        },
        "id": "yPracImmY_zO",
        "outputId": "4702317c-67fb-492c-80bb-c33b6d63d80e"
      },
      "source": [
        "start=timer()\n",
        "def multiplication(p,q):\n",
        "  time.sleep(0.025)\n",
        "  res=np.multiply(p,q)\n",
        "  return res\n",
        "\n",
        "p1=mp.Pool()\n",
        "p1=map(multiplication,X,Y)\n",
        "end2=timer()-start\n",
        "print(\"pool time : \",end2)"
      ],
      "execution_count": null,
      "outputs": [
        {
          "output_type": "stream",
          "name": "stdout",
          "text": [
            "pool time :  0.018650756000170077\n"
          ]
        }
      ]
    },
    {
      "cell_type": "markdown",
      "metadata": {
        "id": "gcD1o0JMVrYN"
      },
      "source": [
        "Process"
      ]
    },
    {
      "cell_type": "code",
      "metadata": {
        "colab": {
          "base_uri": "https://localhost:8080/"
        },
        "id": "iCHtLrQtZEce",
        "outputId": "62995ac0-1d30-4f4e-87e4-0b1615bf09c3"
      },
      "source": [
        "start=timer()\n",
        "p2=mp.Process(target=multiplication, args=(X,Y,))\n",
        "p2.start()\n",
        "p2.join()\n",
        "end3=timer()-start\n",
        "print(\"process time : \",end3)"
      ],
      "execution_count": null,
      "outputs": [
        {
          "output_type": "stream",
          "name": "stdout",
          "text": [
            "process time :  0.045840691000194056\n"
          ]
        }
      ]
    },
    {
      "cell_type": "markdown",
      "metadata": {
        "id": "0HPRQ2SmWa0V"
      },
      "source": [
        "Multithreading"
      ]
    },
    {
      "cell_type": "code",
      "metadata": {
        "colab": {
          "base_uri": "https://localhost:8080/"
        },
        "id": "fQe6l_5wZIm9",
        "outputId": "cfee25aa-96bc-4497-ceeb-ea9b66c2664c"
      },
      "source": [
        "start=timer()\n",
        "p3=threading.Thread(target=multiplication,args=(X,Y,))\n",
        "p3.start()\n",
        "end4=timer()-start\n",
        "print(\"process time : \",end4)"
      ],
      "execution_count": null,
      "outputs": [
        {
          "output_type": "stream",
          "name": "stdout",
          "text": [
            "process time :  0.0013769610004601418\n"
          ]
        }
      ]
    },
    {
      "cell_type": "markdown",
      "metadata": {
        "id": "0LMMQx-BXGAm"
      },
      "source": [
        "Time taken"
      ]
    },
    {
      "cell_type": "code",
      "metadata": {
        "colab": {
          "base_uri": "https://localhost:8080/",
          "height": 295
        },
        "id": "ehNrddkSZOWQ",
        "outputId": "350e8f13-5330-490e-e2a7-9763bdb1c602"
      },
      "source": [
        "fig = plt.figure()\n",
        "t = ['sequential', 'pool', 'process', 'multithreading']\n",
        "exe_time= [end1,end2,end3, end4]\n",
        "plt.bar(t,exe_time, color ='grey') \n",
        "plt.xlabel(\"different functins\") \n",
        "plt.ylabel(\"time taken\") \n",
        "plt.title(\"analization of sequential,pool and process time\")\n",
        "plt.show()"
      ],
      "execution_count": null,
      "outputs": [
        {
          "output_type": "display_data",
          "data": {
            "image/png": "[encoded data removed]",
            "text/plain": [
              "<Figure size 432x288 with 1 Axes>"
            ]
          },
          "metadata": {
            "needs_background": "light"
          }
        }
      ]
    },
    {
      "cell_type": "markdown",
      "metadata": {
        "id": "4DN4XK4YXCXk"
      },
      "source": [
        "SpeedUp"
      ]
    },
    {
      "cell_type": "code",
      "metadata": {
        "colab": {
          "base_uri": "https://localhost:8080/",
          "height": 347
        },
        "id": "u97598b0Zga2",
        "outputId": "9d33f2fa-5673-4eb7-88bf-f6ceb3e074e1"
      },
      "source": [
        "speed_up_pool=end1/end2\n",
        "speed_up_process=end1/end3\n",
        "speed_up_threading=end1/end4\n",
        "print('speed_up of pool : ',speed_up_pool)\n",
        "print('speed_up_process : ',speed_up_process)\n",
        "print('speed_up_threading : ',speed_up_threading)\n",
        "\n",
        "fig1 = plt.figure()\n",
        "t = ['pool', 'process','multithreading']\n",
        "exe_time = [speed_up_pool,speed_up_process,speed_up_threading]\n",
        "plt.bar(t,exe_time, color ='grey') \n",
        "plt.xlabel(\"different functins\") \n",
        "plt.ylabel(\"speed up\") \n",
        "plt.title(\"analization of pool and process and multithreading speed up\")\n",
        "plt.show()"
      ],
      "execution_count": null,
      "outputs": [
        {
          "output_type": "stream",
          "name": "stdout",
          "text": [
            "speed_up of pool :  12.225097738530252\n",
            "speed_up_process :  4.973906588768339\n",
            "speed_up_threading :  165.58734410296665\n"
          ]
        },
        {
          "output_type": "display_data",
          "data": {
            "image/png": "[encoded data removed]",
            "text/plain": [
              "<Figure size 432x288 with 1 Axes>"
            ]
          },
          "metadata": {
            "needs_background": "light"
          }
        }
      ]
    },
    {
      "cell_type": "markdown",
      "metadata": {
        "id": "5EfYv8dmP9l9"
      },
      "source": [
        "**Date:10/11/2021**"
      ]
    },
    {
      "cell_type": "markdown",
      "metadata": {
        "id": "iy24sLqBQFaa"
      },
      "source": [
        "**Object:**-write a parallel processing and multi threading program to generate the nth fibonacci number also draw the time taken and speed up graph."
      ]
    },
    {
      "cell_type": "code",
      "metadata": {
        "id": "-wuk7mgAXEfZ"
      },
      "source": [
        "import time\n",
        "\n",
        "mylist = [[1, 2, 3], [1, 2, 3, 4, 5, 6], [1, 2, 3, 4, 5, 6, 7, 8, 9]]\n",
        "cache = {0: 0, 1: 1}\n",
        "\n",
        "def fibonacci_of(n):\n",
        "    time.sleep(0.01)\n",
        "    if n in cache:  # Base case\n",
        "        return cache[n]\n",
        "    # Compute and cache the Fibonacci number\n",
        "    cache[n] = fibonacci_of(n - 1) + fibonacci_of(n - 2)  # Recursive case\n",
        "    return cache[n]\n",
        "\n",
        "def fibonacci_of_(n):\n",
        "    if n in cache:  # Base case\n",
        "        return cache[n]\n",
        "    # Compute and cache the Fibonacci number\n",
        "    cache[n] = fibonacci_of(n - 1) + fibonacci_of(n - 2)  # Recursive case\n",
        "    return cache[n]"
      ],
      "execution_count": null,
      "outputs": []
    },
    {
      "cell_type": "markdown",
      "metadata": {
        "id": "7EmTq4fFWA4-"
      },
      "source": [
        "Sequential"
      ]
    },
    {
      "cell_type": "code",
      "metadata": {
        "id": "hUYFWkRYVvZz",
        "colab": {
          "base_uri": "https://localhost:8080/"
        },
        "outputId": "3bdf24c5-e3fb-4f2c-d752-0b1ffbdfcf4e"
      },
      "source": [
        "import multiprocessing as mp \n",
        "import os \n",
        "import time\n",
        "from timeit import default_timer as timer\n",
        "\n",
        "if __name__ == \"__main__\": \n",
        "  #sequentially\n",
        "  print('Sequentially')\n",
        "  seq_time = []\n",
        "  start=timer()\n",
        "  facts1 = []\n",
        "\n",
        "  for lst in mylist:\n",
        "      my_facts = [fibonacci_of(x) for x in lst]\n",
        "      facts1.append(my_facts)\n",
        "      end1=timer() - start\n",
        "      seq_time.append(end1)\n",
        "      print(my_facts)\n",
        " \n",
        "  print('sequential time : ',seq_time)\n",
        "  print('\\n')"
      ],
      "execution_count": null,
      "outputs": [
        {
          "output_type": "stream",
          "name": "stdout",
          "text": [
            "Sequentially\n",
            "[1, 1, 2]\n",
            "[1, 1, 2, 3, 5, 8]\n",
            "[1, 1, 2, 3, 5, 8, 13, 21, 34]\n",
            "sequential time :  [0.030429902000037146, 0.09192677100003266, 0.1837001500000497]\n",
            "\n",
            "\n"
          ]
        }
      ]
    },
    {
      "cell_type": "markdown",
      "metadata": {
        "id": "2Q7Pwm53WDsN"
      },
      "source": [
        "Pool"
      ]
    },
    {
      "cell_type": "code",
      "metadata": {
        "id": "CUgLP0tDWF8l",
        "colab": {
          "base_uri": "https://localhost:8080/"
        },
        "outputId": "bf6b3cad-5b57-48df-9621-0f920820d530"
      },
      "source": [
        "import multiprocessing as mp \n",
        "import os \n",
        "import time\n",
        "from timeit import default_timer as timer\n",
        "\n",
        "print(\"USING POOL \")\n",
        "pool_time = []\n",
        "for lst in mylist:\n",
        "    start=timer()\n",
        "    #USING POOL CLASS\n",
        "    p1=mp.Pool().map(fibonacci_of, lst) \n",
        "    end3= timer() - start\n",
        "    pool_time.append(end3)\n",
        "print(\"execution time in pool class\", pool_time)\n",
        "print(\"\\n\")"
      ],
      "execution_count": null,
      "outputs": [
        {
          "output_type": "stream",
          "name": "stdout",
          "text": [
            "USING POOL \n",
            "execution time in pool class [0.060536582000054295, 0.04549661300001162, 0.0723148889999834]\n",
            "\n",
            "\n"
          ]
        }
      ]
    },
    {
      "cell_type": "markdown",
      "metadata": {
        "id": "LYWMUrUKWML9"
      },
      "source": [
        "Process"
      ]
    },
    {
      "cell_type": "code",
      "metadata": {
        "id": "b4QdtrWcWOrF",
        "colab": {
          "base_uri": "https://localhost:8080/"
        },
        "outputId": "00b4262b-b693-47b4-f092-dcb7028cdd98"
      },
      "source": [
        "import multiprocessing as mp \n",
        "import os \n",
        "import time\n",
        "from timeit import default_timer as timer\n",
        "\n",
        "print(\"USING PROCESS \")\n",
        "process_time = []\n",
        "start=timer()\n",
        "  #USING PROCESS CLASS\n",
        "for lst in mylist:\n",
        "    p2 = []\n",
        "    # instantiating process with arguments\n",
        "    for num in lst:\n",
        "        proc = mp.Process(target=fibonacci_of_, args=(num,))\n",
        "        p2.append(proc)\n",
        "        proc.start()\n",
        "\n",
        "    for proc in p2:\n",
        "    # complete the processes\n",
        "        proc.join()\n",
        "    end2=timer()-start\n",
        "    process_time.append(end2)\n",
        "print(\"execution time in process class\", process_time)\n",
        "print(\"\\n\")"
      ],
      "execution_count": null,
      "outputs": [
        {
          "output_type": "stream",
          "name": "stdout",
          "text": [
            "USING PROCESS \n",
            "execution time in process class [0.02911805200000117, 0.07479373000001033, 0.13592874199997595]\n",
            "\n",
            "\n"
          ]
        }
      ]
    },
    {
      "cell_type": "markdown",
      "metadata": {
        "id": "03B1wf_GWUww"
      },
      "source": [
        "Multithreading"
      ]
    },
    {
      "cell_type": "code",
      "metadata": {
        "id": "ZMlLgXLyWZpA",
        "colab": {
          "base_uri": "https://localhost:8080/"
        },
        "outputId": "14e896f6-8be0-46ea-85e0-cad139c62860"
      },
      "source": [
        "import multiprocessing as mp \n",
        "import os \n",
        "import time\n",
        "from timeit import default_timer as timer\n",
        "import threading\n",
        "\n",
        "thread_time = []\n",
        "print(\"USING MULTITHREADING \")\n",
        "for lst in mylist:\n",
        "    thread = []\n",
        "    start=timer()\n",
        "    # instantiating process with arguments\n",
        "    for num in lst:\n",
        "        proc = threading.Thread(target=fibonacci_of_, args=(num,))\n",
        "        thread.append(proc)\n",
        "        proc.start()\n",
        "\n",
        "    # complete the processes\n",
        "    for proc in thread:\n",
        "        proc.join()\n",
        "    end4=timer()-start\n",
        "    thread_time.append(end4)\n",
        "print(\"execution time : \", thread_time)"
      ],
      "execution_count": null,
      "outputs": [
        {
          "output_type": "stream",
          "name": "stdout",
          "text": [
            "USING MULTITHREADING \n",
            "execution time :  [0.003145591999782482, 0.0008451799994872999, 0.0007587129994135466]\n"
          ]
        }
      ]
    },
    {
      "cell_type": "markdown",
      "metadata": {
        "id": "2Kl1OLutXrKU"
      },
      "source": [
        "##### Time Taken"
      ]
    },
    {
      "cell_type": "code",
      "metadata": {
        "colab": {
          "base_uri": "https://localhost:8080/",
          "height": 279
        },
        "id": "8NObrk6NXtbd",
        "outputId": "702d8f39-a9be-464d-ebce-5b2e36cf2fa9"
      },
      "source": [
        "import matplotlib.pyplot as plt\n",
        "import numpy as np\n",
        "\n",
        "plt.xlabel('Time Taken in seconds')\n",
        "plt.ylabel('Data Length')\n",
        "plt.plot(seq_time, [3, 6, 9], label=\"Sequential Time\")\n",
        "plt.plot(pool_time, [3, 6, 9], label='Pool Time')\n",
        "plt.plot(thread_time, [3, 6, 9], label='Multithreading Time')\n",
        "plt.plot(process_time, [3, 6, 9], label='Process Time')\n",
        "plt.legend()\n",
        "plt.show()"
      ],
      "execution_count": null,
      "outputs": [
        {
          "output_type": "display_data",
          "data": {
            "image/png": "[encoded data removed]",
            "text/plain": [
              "<Figure size 432x288 with 1 Axes>"
            ]
          },
          "metadata": {
            "needs_background": "light"
          }
        }
      ]
    },
    {
      "cell_type": "markdown",
      "metadata": {
        "id": "Y-Toui1GXlB0"
      },
      "source": [
        "##### Speed Up"
      ]
    },
    {
      "cell_type": "code",
      "metadata": {
        "colab": {
          "base_uri": "https://localhost:8080/",
          "height": 295
        },
        "id": "r9Ml-LnkXd1s",
        "outputId": "38433949-92c0-4464-aa79-25c3d8ebcca4"
      },
      "source": [
        "import matplotlib.pyplot as plt\n",
        "import numpy as np\n",
        "\n",
        "plt.title(\"Speed Up Graph between Sequential, Pool, Process and MultiThreading\")\n",
        "plt.xlabel(\"Speed Up\")\n",
        "plt.plot([seq_time[0]/pool_time[0], seq_time[1]/pool_time[1], seq_time[2]/pool_time[2]], [3, 6, 9], label='Seq vs Pool')\n",
        "plt.plot([seq_time[0]/process_time[0], seq_time[1]/process_time[1], seq_time[2]/process_time[2]], [3, 6, 9], label='Seq vs Process')\n",
        "plt.plot([seq_time[0]/thread_time[0], seq_time[1]/thread_time[1], seq_time[2]/thread_time[2]], [3, 6, 9], label='Seq vs Multithreading')\n",
        "plt.legend()\n",
        "plt.show()"
      ],
      "execution_count": null,
      "outputs": [
        {
          "output_type": "display_data",
          "data": {
            "image/png": "[encoded data removed]",
            "text/plain": [
              "<Figure size 432x288 with 1 Axes>"
            ]
          },
          "metadata": {
            "needs_background": "light"
          }
        }
      ]
    },
    {
      "cell_type": "markdown",
      "metadata": {
        "id": "eQ3b5uenVY6Z"
      },
      "source": [
        "**Date:17/11/2021**"
      ]
    },
    {
      "cell_type": "markdown",
      "metadata": {
        "id": "CZX937Q3Vbaj"
      },
      "source": [
        "**Q-1:** Write a program to calculate the transpose of given matrix using sequential and parallel technique and also comparison among time taken by graph."
      ]
    },
    {
      "cell_type": "code",
      "metadata": {
        "colab": {
          "base_uri": "https://localhost:8080/"
        },
        "id": "hdUmxPuzacxn",
        "outputId": "3de3049f-1e03-4433-9789-66900d3f283d"
      },
      "source": [
        "#sequential\n",
        "import time \n",
        "from timeit import default_timer as timer \n",
        "import multiprocessing as mp\n",
        "import numpy as np\n",
        "import matplotlib.pyplot as plt\n",
        "import threading\n",
        "\n",
        "\n",
        "def transpose1(A):\n",
        "    B = A[:][:] \n",
        "    for i in range(len(A)):\n",
        "        for j in range(len(A)):\n",
        "            time.sleep(0.05)\n",
        "            B[i][j] = A[j][i]\n",
        "    return B\n",
        "\n",
        "\n",
        "X = [[1,2,3],[4 ,5,6],[7 ,8,9]] \n",
        "  \n",
        "Y = [[9,8,7],[6,5,4],[3,2,1]] \n",
        "  \n",
        "result = [[0,0,0],[0,0,0],[0,0,0]] \n",
        "\n",
        "start=timer()\n",
        "X_trans = transpose1(X)\n",
        "end1=timer()-start\n",
        "print(\"sequential time : \",end1)"
      ],
      "execution_count": null,
      "outputs": [
        {
          "output_type": "stream",
          "name": "stdout",
          "text": [
            "sequential time :  0.4513182970000571\n"
          ]
        }
      ]
    },
    {
      "cell_type": "code",
      "metadata": {
        "colab": {
          "base_uri": "https://localhost:8080/"
        },
        "id": "3-tyP47ralWk",
        "outputId": "60db8100-b9ab-4807-83af-e3334d1b005f"
      },
      "source": [
        "#pool\n",
        "start=timer()\n",
        "\n",
        "def transpose(A):\n",
        "    B = A[:][:] \n",
        "    for i in range(len(A)):\n",
        "        for j in range(len(A)):\n",
        "            time.sleep(0.025)\n",
        "            B[i][j] = A[j][i]\n",
        "    return B\n",
        "\n",
        "p1=mp.Pool()\n",
        "p1=map(transpose,(X))\n",
        "end2=timer()-start\n",
        "print(\"pool time : \",end2)"
      ],
      "execution_count": null,
      "outputs": [
        {
          "output_type": "stream",
          "name": "stdout",
          "text": [
            "pool time :  0.01705803200002265\n"
          ]
        }
      ]
    },
    {
      "cell_type": "code",
      "metadata": {
        "colab": {
          "base_uri": "https://localhost:8080/"
        },
        "id": "af3jzT7Vaw8F",
        "outputId": "fdfab9ca-d3ca-4953-814c-33794cac272e"
      },
      "source": [
        "#process\n",
        "start=timer()\n",
        "p2=mp.Process(target=transpose,args=(X,))\n",
        "p2.start()\n",
        "p2.join()\n",
        "\n",
        "end3=timer()-start\n",
        "print(\"process time : \",end3)"
      ],
      "execution_count": null,
      "outputs": [
        {
          "output_type": "stream",
          "name": "stdout",
          "text": [
            "process time :  0.24030703300002187\n"
          ]
        }
      ]
    },
    {
      "cell_type": "code",
      "metadata": {
        "colab": {
          "base_uri": "https://localhost:8080/"
        },
        "id": "VuZsO1fUdqrI",
        "outputId": "2c1d2006-97f8-470d-a4ea-db04fdba0624"
      },
      "source": [
        "#multithreading\n",
        "start=timer()\n",
        "p3=threading.Thread(target=transpose,args=(X,))\n",
        "p3.start()\n",
        "end4=timer()-start\n",
        "print(\"multithreading time : \",end4)"
      ],
      "execution_count": null,
      "outputs": [
        {
          "output_type": "stream",
          "name": "stdout",
          "text": [
            "multithreading time :  0.0013360880000163888\n"
          ]
        }
      ]
    },
    {
      "cell_type": "code",
      "metadata": {
        "colab": {
          "base_uri": "https://localhost:8080/"
        },
        "id": "L7cOoKBna_yE",
        "outputId": "ca88dc8e-df2f-47d4-92e1-b730ae13b363"
      },
      "source": [
        "#speed up \n",
        "speed_up_pool=end1/end2\n",
        "speed_up_process=end1/end3\n",
        "speed_up_threading=end1/end4\n",
        "print('speed_up of pool : ',speed_up_pool)\n",
        "print('speed_up_process : ',speed_up_process)\n",
        "print('speed_up_threading : ',speed_up_threading)"
      ],
      "execution_count": null,
      "outputs": [
        {
          "output_type": "stream",
          "name": "stdout",
          "text": [
            "speed_up of pool :  26.457817466836612\n",
            "speed_up_process :  1.878090255477525\n",
            "speed_up_threading :  337.7908468562857\n"
          ]
        }
      ]
    },
    {
      "cell_type": "code",
      "metadata": {
        "colab": {
          "base_uri": "https://localhost:8080/",
          "height": 295
        },
        "id": "jT8csCrLbIz9",
        "outputId": "d8ce5b11-369c-4f29-806e-31d69c1c6ba8"
      },
      "source": [
        "fig = plt.figure()\n",
        "t = ['sequential', 'pool', 'process', 'thread']\n",
        "exe_time= [end1,end2,end3,end4]\n",
        "plt.bar(t,exe_time, color ='grey') \n",
        "plt.xlabel(\"different functins\") \n",
        "plt.ylabel(\"time taken\") \n",
        "plt.title(\"analization of sequential,pool and process time\")\n",
        "plt.show()"
      ],
      "execution_count": null,
      "outputs": [
        {
          "output_type": "display_data",
          "data": {
            "image/png": "[encoded data removed]",
            "text/plain": [
              "<Figure size 432x288 with 1 Axes>"
            ]
          },
          "metadata": {
            "needs_background": "light"
          }
        }
      ]
    },
    {
      "cell_type": "code",
      "metadata": {
        "colab": {
          "base_uri": "https://localhost:8080/",
          "height": 350
        },
        "id": "v03dCgn3bNxd",
        "outputId": "a9635e56-b740-4321-db0d-dc07cf773978"
      },
      "source": [
        "fig1 = plt.figure(figsize=(10,5))\n",
        "t = ['pool', 'process','threading']\n",
        "exe_time = [speed_up_pool,speed_up_process,speed_up_threading]\n",
        "plt.bar(t,exe_time, color ='grey') \n",
        "plt.xlabel(\"different functins\") \n",
        "plt.ylabel(\"speed up\") \n",
        "plt.title(\"analization of pool and process and multithreading speed up\")\n",
        "plt.show()"
      ],
      "execution_count": null,
      "outputs": [
        {
          "output_type": "display_data",
          "data": {
            "image/png": "[encoded data removed]",
            "text/plain": [
              "<Figure size 720x360 with 1 Axes>"
            ]
          },
          "metadata": {
            "needs_background": "light"
          }
        }
      ]
    },
    {
      "cell_type": "markdown",
      "metadata": {
        "id": "7hbr3FBgWiWU"
      },
      "source": [
        "**Q-2:** Write a program to calculate factorial of nth number and also draw the time taken and speed up graph"
      ]
    },
    {
      "cell_type": "code",
      "metadata": {
        "id": "mClHHky8p_DD"
      },
      "source": [
        "import time\n",
        "\n",
        "def factorial_of(n):\n",
        "    time.sleep(0.01)\n",
        "    if n < 0:\n",
        "        return 0\n",
        "    elif n == 0 or n == 1:\n",
        "        return 1\n",
        "    else:\n",
        "        fact = 1\n",
        "        while(n > 1):\n",
        "            fact *= n\n",
        "            n -= 1\n",
        "        return fact\n",
        "\n",
        "def factorial_of_(n):\n",
        "    if n < 0:\n",
        "        return 0\n",
        "    elif n == 0 or n == 1:\n",
        "        return 1\n",
        "    else:\n",
        "        fact = 1\n",
        "        while(n > 1):\n",
        "            fact *= n\n",
        "            n -= 1\n",
        "        return fact"
      ],
      "execution_count": null,
      "outputs": []
    },
    {
      "cell_type": "code",
      "metadata": {
        "id": "olXt9Fonqjt0",
        "colab": {
          "base_uri": "https://localhost:8080/"
        },
        "outputId": "f77295e8-744d-4214-8003-9cd5d4a02942"
      },
      "source": [
        "import multiprocessing as mp \n",
        "import os \n",
        "import time\n",
        "from timeit import default_timer as timer\n",
        "\n",
        "if __name__ == \"__main__\": \n",
        "  #sequentially\n",
        "  print('Sequentially')\n",
        "  seq_time = []\n",
        "  start=timer()\n",
        "  facts1 = []\n",
        "\n",
        "  for lst in mylist:\n",
        "      my_facts = [factorial_of(x) for x in lst]\n",
        "      facts1.append(my_facts)\n",
        "      end1=timer() - start\n",
        "      seq_time.append(end1)\n",
        "      print(my_facts)\n",
        " \n",
        "  print('sequential time : ',seq_time)\n",
        "  print('\\n')"
      ],
      "execution_count": null,
      "outputs": [
        {
          "output_type": "stream",
          "name": "stdout",
          "text": [
            "Sequentially\n",
            "[1, 2, 6]\n",
            "[1, 2, 6, 24, 120, 720]\n",
            "[1, 2, 6, 24, 120, 720, 5040, 40320, 362880]\n",
            "sequential time :  [0.030426797000473016, 0.09128526600034093, 0.18284045200016408]\n",
            "\n",
            "\n"
          ]
        }
      ]
    },
    {
      "cell_type": "code",
      "metadata": {
        "id": "-m8LJvh8qnR5",
        "colab": {
          "base_uri": "https://localhost:8080/"
        },
        "outputId": "838bf8e3-1fe8-4a9e-b872-4eb28e987831"
      },
      "source": [
        "import multiprocessing as mp \n",
        "import os \n",
        "import time\n",
        "from timeit import default_timer as timer\n",
        "\n",
        "print(\"USING POOL \")\n",
        "pool_time = []\n",
        "for lst in mylist:\n",
        "    start=timer()\n",
        "    #USING POOL CLASS\n",
        "    p1=mp.Pool().map(factorial_of, lst) \n",
        "    end3= timer() - start\n",
        "    pool_time.append(end3)\n",
        "print(\"execution time in pool class\", pool_time)\n",
        "print(\"\\n\")"
      ],
      "execution_count": null,
      "outputs": [
        {
          "output_type": "stream",
          "name": "stdout",
          "text": [
            "USING POOL \n",
            "execution time in pool class [0.04244606999964162, 0.05340343500029121, 0.07280191199970432]\n",
            "\n",
            "\n"
          ]
        }
      ]
    },
    {
      "cell_type": "code",
      "metadata": {
        "id": "6uB9o8s2qrHa",
        "colab": {
          "base_uri": "https://localhost:8080/"
        },
        "outputId": "09adfbe2-4bd5-4a04-be31-c8527c98eef5"
      },
      "source": [
        "import multiprocessing as mp \n",
        "import os \n",
        "import time\n",
        "from timeit import default_timer as timer\n",
        "\n",
        "print(\"USING PROCESS \")\n",
        "process_time = []\n",
        "start=timer()\n",
        "  #USING PROCESS CLASS\n",
        "for lst in mylist:\n",
        "    p2 = []\n",
        "    # instantiating process with arguments\n",
        "    for num in lst:\n",
        "        proc = mp.Process(target=factorial_of_, args=(num,))\n",
        "        p2.append(proc)\n",
        "        proc.start()\n",
        "\n",
        "    for proc in p2:\n",
        "    # complete the processes\n",
        "        proc.join()\n",
        "    end2=timer()-start\n",
        "    process_time.append(end2)\n",
        "print(\"execution time in process class\", process_time)\n",
        "print(\"\\n\")"
      ],
      "execution_count": null,
      "outputs": [
        {
          "output_type": "stream",
          "name": "stdout",
          "text": [
            "USING PROCESS \n",
            "execution time in process class [0.03404657999999472, 0.07926880699960748, 0.1515558589999273]\n",
            "\n",
            "\n"
          ]
        }
      ]
    },
    {
      "cell_type": "code",
      "metadata": {
        "id": "EDbl4nA2quuC",
        "colab": {
          "base_uri": "https://localhost:8080/"
        },
        "outputId": "f10f34e3-7b5b-4abc-868b-dcd7ad1a81cf"
      },
      "source": [
        "import multiprocessing as mp \n",
        "import os \n",
        "import time\n",
        "from timeit import default_timer as timer\n",
        "import threading\n",
        "\n",
        "thread_time = []\n",
        "print(\"USING MULTITHREADING \")\n",
        "for lst in mylist:\n",
        "    thread = []\n",
        "    start=timer()\n",
        "    # instantiating process with arguments\n",
        "    for num in lst:\n",
        "        proc = threading.Thread(target=factorial_of_, args=(num,))\n",
        "        thread.append(proc)\n",
        "        proc.start()\n",
        "\n",
        "    # complete the processes\n",
        "    for proc in thread:\n",
        "        proc.join()\n",
        "    end4=timer()-start\n",
        "    thread_time.append(end4)\n",
        "print(\"execution time : \", thread_time)"
      ],
      "execution_count": null,
      "outputs": [
        {
          "output_type": "stream",
          "name": "stdout",
          "text": [
            "USING MULTITHREADING \n",
            "execution time :  [0.0022451570002886, 0.0006769480005459627, 0.000950020001255325]\n"
          ]
        }
      ]
    },
    {
      "cell_type": "code",
      "metadata": {
        "colab": {
          "base_uri": "https://localhost:8080/",
          "height": 295
        },
        "id": "APLYSiixwKQS",
        "outputId": "41314860-c0b6-4e9f-a34d-2aee94ecbed6"
      },
      "source": [
        "import matplotlib.pyplot as plt\n",
        "import numpy as np\n",
        "\n",
        "t = ['sequential', 'pool', 'process', 'thread']\n",
        "exe_time= [sum(seq_time), sum(pool_time), sum(process_time) ,sum(thread_time)]\n",
        "plt.bar(t,exe_time,) \n",
        "plt.xlabel(\"different functins\") \n",
        "plt.ylabel(\"time taken\") \n",
        "plt.title(\"analization of sequential,pool and process time\")\n",
        "plt.show()"
      ],
      "execution_count": null,
      "outputs": [
        {
          "output_type": "display_data",
          "data": {
            "image/png": "[encoded data removed]",
            "text/plain": [
              "<Figure size 432x288 with 1 Axes>"
            ]
          },
          "metadata": {
            "needs_background": "light"
          }
        }
      ]
    },
    {
      "cell_type": "code",
      "metadata": {
        "colab": {
          "base_uri": "https://localhost:8080/",
          "height": 347
        },
        "id": "Rr75yRy7wKp6",
        "outputId": "5bd2e9b9-2b65-4c5a-c8de-59973baff96d"
      },
      "source": [
        "import matplotlib.pyplot as plt\n",
        "import numpy as np\n",
        "\n",
        "speed_up_pool= sum(seq_time) / sum(pool_time)\n",
        "speed_up_process= sum(seq_time) / sum(process_time)\n",
        "speed_up_threading= sum(seq_time) / sum(thread_time)\n",
        "print('speed_up of pool : ',speed_up_pool)\n",
        "print('speed_up_process : ',speed_up_process)\n",
        "print('speed_up_threading : ',speed_up_threading)\n",
        "t = ['pool', 'process','threading']\n",
        "exe_time = [speed_up_pool,speed_up_process,speed_up_threading]\n",
        "plt.bar(t,exe_time) \n",
        "plt.xlabel(\"different functins\") \n",
        "plt.ylabel(\"speed up\") \n",
        "plt.title(\"analization of pool and process and multithreading speed up\")\n",
        "plt.show()"
      ],
      "execution_count": null,
      "outputs": [
        {
          "output_type": "stream",
          "name": "stdout",
          "text": [
            "speed_up of pool :  1.805810590975546\n",
            "speed_up_process :  1.149813426714952\n",
            "speed_up_threading :  78.65255249678226\n"
          ]
        },
        {
          "output_type": "display_data",
          "data": {
            "image/png": "[encoded data removed]",
            "text/plain": [
              "<Figure size 432x288 with 1 Axes>"
            ]
          },
          "metadata": {
            "needs_background": "light"
          }
        }
      ]
    },
    {
      "cell_type": "markdown",
      "metadata": {
        "id": "7Tl34VQjW5vD"
      },
      "source": [
        "**Q-3 What is GPU? Draw an architecture diagram of NVIDIA and AMD GPU**\n",
        "\n",
        "**Ans:** Graphics processing unit, a specialized processor originally designed to accelerate graphics rendering. GPUs can process many pieces of data simultaneously, making them useful for machine learning, video editing, and gaming applications.\n",
        "\n",
        "**NVIDIA**\n",
        "<img src=\"https://www.researchgate.net/profile/Satish-Chikkagoudar/publication/51168475/figure/fig1/AS:214151432544256@1428069088250/NVIDIA-GPU-Architecture-Simplified-GPU-Architecture-The-grey-rectangles-of-thread.png\" style=\"display:block\" >\n",
        "\n",
        "\n",
        "**AMD**\n",
        "<img src=\"https://www.researchgate.net/profile/Aad-Van-Der-Steen/publication/2810620/figure/fig3/AS:651224055554051@1532275322581/Block-diagram-of-an-AMD-Phenom-processor-core.png\" style=\"display:block\">"
      ]
    },
    {
      "cell_type": "markdown",
      "metadata": {
        "id": "VNQ02mtoW6-Z"
      },
      "source": [
        "**Q-4 What is open CL and CUDA? Explain**\n",
        "\n",
        "**OpenCL (Open Computing Language)** is a framework for writing programs that execute across heterogeneous platforms consisting of central processing units (CPUs), graphics processing units (GPUs), digital signal processors (DSPs), field-programmable gate arrays (FPGAs) and other processors or hardware accelerators.\n",
        "\n",
        "OpenCL specifies programming languages (based on C99, C++14 and C++17) for programming these devices and application programming interfaces (APIs) to control the platform and execute programs on the compute devices. OpenCL provides a standard interface for parallel computing using task- and data-based parallelism.\n",
        "\n",
        "**CUDA (or Compute Unified Device Architecture)** is a parallel computing platform and application programming interface (API) that allows software to use certain types of graphics processing unit (GPU) for general purpose processing – an approach called general-purpose computing on GPUs (GPGPU). CUDA is a software layer that gives direct access to the GPU's virtual instruction set and parallel computational elements, for the execution of compute kernels.\n",
        "\n",
        "CUDA is designed to work with programming languages such as C, C++, and Fortran. This accessibility makes it easier for specialists in parallel programming to use GPU resources, in contrast to prior APIs like Direct3D and OpenGL, which required advanced skills in graphics programming.[2] CUDA-powered GPUs also support programming frameworks such as OpenMP, OpenACC and OpenCL;and HIP by compiling such code to CUDA."
      ]
    }
  ]
}