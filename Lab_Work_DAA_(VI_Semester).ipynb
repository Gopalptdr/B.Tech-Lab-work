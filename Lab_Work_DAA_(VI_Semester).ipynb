{
  "cells": [
    {
      "cell_type": "markdown",
      "metadata": {
        "id": "view-in-github",
        "colab_type": "text"
      },
      "source": [
        "<a href=\"https://colab.research.google.com/github/Gopalptdr/B.Tech-Lab-work/blob/main/Lab_Work_DAA_(VI_Semester).ipynb\" target=\"_parent\"><img src=\"https://colab.research.google.com/assets/colab-badge.svg\" alt=\"Open In Colab\"/></a>"
      ]
    },
    {
      "cell_type": "markdown",
      "id": "ca357dd7",
      "metadata": {
        "id": "ca357dd7"
      },
      "source": [
        "### Object-1  \n",
        "#### Pseudo code implementation"
      ]
    },
    {
      "cell_type": "code",
      "execution_count": null,
      "id": "03663fd1",
      "metadata": {
        "id": "03663fd1",
        "outputId": "37a5abbc-2744-4fce-f877-59312a238373"
      },
      "outputs": [
        {
          "data": {
            "text/plain": [
              "32"
            ]
          },
          "execution_count": 2,
          "metadata": {},
          "output_type": "execute_result"
        }
      ],
      "source": [
        "def power(x, n):\n",
        "    \n",
        "    i = 1\n",
        "    k = 0\n",
        "    while (i <= n):\n",
        "        k += 3\n",
        "        i += 1\n",
        "    \n",
        "    if (n == 0):\n",
        "        return 1\n",
        "    \n",
        "    if (n == 1):\n",
        "        return x;\n",
        "    \n",
        "    if (n % 2 == 0):\n",
        "        return (power(x, n//2) * power(x, n//2))\n",
        "    \n",
        "    else:\n",
        "        return (power(x, n//2) * power(x, n//2) * x)\n",
        "    \n",
        "power(2,5)"
      ]
    },
    {
      "cell_type": "code",
      "execution_count": null,
      "id": "1f4f7a0b",
      "metadata": {
        "id": "1f4f7a0b",
        "outputId": "2754160d-1d80-489d-afb2-8bee1d703934"
      },
      "outputs": [
        {
          "data": {
            "text/plain": [
              "30"
            ]
          },
          "execution_count": 3,
          "metadata": {},
          "output_type": "execute_result"
        }
      ],
      "source": [
        "def method(n, k):\n",
        "    \n",
        "    SUM = 0\n",
        "    for i in range(1, n*n + 1):\n",
        "        for j in range(i):\n",
        "            if (n <= 1):\n",
        "                return n\n",
        "        SUM += 1\n",
        "    \n",
        "    return (method(n - 1, k//2) + k + method(n - 1, k))\n",
        "    \n",
        "method(4, 5)"
      ]
    },
    {
      "cell_type": "code",
      "execution_count": null,
      "id": "fa15fe56",
      "metadata": {
        "id": "fa15fe56",
        "outputId": "28dc85d7-8120-42df-b2eb-12f6bcea2bd5"
      },
      "outputs": [
        {
          "data": {
            "text/plain": [
              "9"
            ]
          },
          "execution_count": 4,
          "metadata": {},
          "output_type": "execute_result"
        }
      ],
      "source": [
        "\n",
        "def root(n, k):\n",
        "    \n",
        "    i = n;\n",
        "    \n",
        "    while (i > 1) :\n",
        "        k = k + 3\n",
        "        i = i / 2\n",
        "    \n",
        "    while (i > 1) :\n",
        "        k = k + 3\n",
        "        i = i / 2\n",
        "  \n",
        "    if (n == 1):\n",
        "        return 1\n",
        "    else:\n",
        "        return (root(n//2, 2 * k) + root(n//2, k) + root(n//2, k//2))\n",
        "    \n",
        "root(4, 2)"
      ]
    },
    {
      "cell_type": "markdown",
      "id": "a5c4577c",
      "metadata": {
        "id": "a5c4577c"
      },
      "source": [
        "### Object-2 \n",
        "#### Write a program to implement Quick Sort "
      ]
    },
    {
      "cell_type": "code",
      "execution_count": null,
      "id": "b1924280",
      "metadata": {
        "id": "b1924280",
        "outputId": "11e3e5d0-0c57-4411-c06a-5bdb63eb0b8c"
      },
      "outputs": [
        {
          "name": "stdout",
          "output_type": "stream",
          "text": [
            "[0, 2, 7, 12, 45, 89]\n"
          ]
        }
      ],
      "source": [
        "def quickSort(arr, low, high):\n",
        "    if (low < high):\n",
        "        pivot_index = partition(arr, low, high)\n",
        "        \n",
        "        quickSort(arr, low, pivot_index-1)   # Before pivot_index\n",
        "        quickSort(arr, pivot_index+1, high)  # After pivot_index\n",
        "\n",
        "def partition(arr, low, high):\n",
        "    i = (low - 1)\n",
        "    pivot = arr[high]\n",
        "    \n",
        "    for j in range(low, high):\n",
        "        if arr[j] <= pivot:\n",
        "            i += 1\n",
        "            arr[i], arr[j] = arr[j], arr[i]\n",
        "    arr[i+1], arr[high] = arr[high], arr[i+1]\n",
        "    \n",
        "    return (i+1)\n",
        "\n",
        "arr = [45, 12, 89, 2, 7, 0]\n",
        "quickSort(arr, 0, len(arr)-1)\n",
        "print(arr)"
      ]
    },
    {
      "cell_type": "markdown",
      "id": "ea508782",
      "metadata": {
        "id": "ea508782"
      },
      "source": [
        "### Object-3\n",
        "#### Write a program to perform sorting operations by divide and conquer (Merge Sort Algo) Also estimate and stimulate the time taken on linear array data structure"
      ]
    },
    {
      "cell_type": "code",
      "execution_count": null,
      "id": "0cff7561",
      "metadata": {
        "id": "0cff7561",
        "outputId": "02755301-04e4-42f2-d1cc-ea36895a157f"
      },
      "outputs": [
        {
          "data": {
            "text/plain": [
              "[22, 44, 55, 66, 99]"
            ]
          },
          "execution_count": 4,
          "metadata": {},
          "output_type": "execute_result"
        }
      ],
      "source": [
        "def mergeSort(A):\n",
        "\n",
        "    n = len(A)\n",
        "    if n==1: \n",
        "        return A\n",
        "    mid = n//2     # floor division\n",
        "    L = mergeSort(A[:mid])\n",
        "    R = mergeSort(A[mid:])\n",
        "    return merge(L,R)\n",
        "\n",
        "# Merge Two Sequences\n",
        "def merge(L,R):\n",
        "    \n",
        "    i = 0\n",
        "    j = 0\n",
        "    answer = []\n",
        "    while i<len(L) and j<len(R):\n",
        "        if L[i]<R[j]:\n",
        "            answer.append(L[i])\n",
        "            i += 1\n",
        "        else:\n",
        "            answer.append(R[j])\n",
        "            j += 1\n",
        "    if i<len(L):\n",
        "        answer.extend(L[i:])\n",
        "    if j<len(R):\n",
        "        answer.extend(R[j:])\n",
        "    return answer\n",
        "mergeSort([22,44,99,66,55])"
      ]
    },
    {
      "cell_type": "markdown",
      "id": "56f66a90",
      "metadata": {
        "id": "56f66a90"
      },
      "source": [
        "### Object-4 \n",
        "#### Write a program to implement the Huffman code data compression technique. Also, stipulate the time taken by this programme on the given data set"
      ]
    },
    {
      "cell_type": "code",
      "execution_count": null,
      "id": "167f4834",
      "metadata": {
        "id": "167f4834",
        "outputId": "632ff514-9104-44ae-c92a-eb3ad3032778"
      },
      "outputs": [
        {
          "name": "stdout",
          "output_type": "stream",
          "text": [
            " Char | Huffman code \n",
            "----------------------\n",
            " 'Q'  |           0\n",
            " 'P'  |          10\n",
            " 'R'  |         111\n",
            " 'S'  |         110\n"
          ]
        },
        {
          "data": {
            "text/plain": [
              "0.0"
            ]
          },
          "execution_count": 7,
          "metadata": {},
          "output_type": "execute_result"
        }
      ],
      "source": [
        "\n",
        "# Creating tree nodes\n",
        "class NodeTree(object):\n",
        "\n",
        "    def __init__(self, left=None, right=None):\n",
        "        self.left = left\n",
        "        self.right = right\n",
        "\n",
        "    def chilDen(self):\n",
        "        return (self.left, self.right)\n",
        "\n",
        "    def nodes(self):\n",
        "        return (self.left, self.right)\n",
        "\n",
        "    def __str__(self):\n",
        "        return '%s_%s' % (self.left, self.right)\n",
        "\n",
        "string = 'PPQRRQQRQPS'\n",
        "\n",
        "# Main function implementing huffman coding\n",
        "def huffman_code_tree(node, left=True, binString=''):\n",
        "    if type(node) is str:\n",
        "        return {node: binString}\n",
        "    (l, r) = node.chilDen()\n",
        "    d = dict()\n",
        "    d.update(huffman_code_tree(l, True, binString + '0'))\n",
        "    d.update(huffman_code_tree(r, False, binString + '1'))\n",
        "    return d\n",
        "\n",
        "\n",
        "# Calculating frequency\n",
        "freq = {}\n",
        "for c in string:\n",
        "    if c in freq:\n",
        "        freq[c] += 1\n",
        "    else:\n",
        "        freq[c] = 1\n",
        "\n",
        "freq = sorted(freq.items(), key=lambda x: x[1], reverse=True)\n",
        "\n",
        "nodes = freq\n",
        "\n",
        "while len(nodes) > 1:\n",
        "    (key1, c1) = nodes[-1]\n",
        "    (key2, c2) = nodes[-2]\n",
        "    nodes = nodes[:-2]\n",
        "    node = NodeTree(key1, key2)\n",
        "    nodes.append((node, c1 + c2))\n",
        "\n",
        "    nodes = sorted(nodes, key=lambda x: x[1], reverse=True)\n",
        "\n",
        "huffmanCode = huffman_code_tree(nodes[0][0])\n",
        "\n",
        "print(' Char | Huffman code ')\n",
        "print('----------------------')\n",
        "for (char, frequency) in freq:\n",
        "    print(' %-4r |%12s' % (char, huffmanCode[char]))\n",
        "\n",
        "import time\n",
        "start = time.time()\n",
        "end = time.time()\n",
        "end-start"
      ]
    },
    {
      "cell_type": "markdown",
      "id": "79c9c8a9",
      "metadata": {
        "id": "79c9c8a9"
      },
      "source": [
        "### Object-5\n",
        "#### Write a program to implement fractional knapsack and also calculate time taken by the program"
      ]
    },
    {
      "cell_type": "code",
      "execution_count": null,
      "id": "54db7f11",
      "metadata": {
        "id": "54db7f11",
        "outputId": "94cee0ac-07db-4857-ec83-a9487fbfe8d1"
      },
      "outputs": [
        {
          "name": "stdout",
          "output_type": "stream",
          "text": [
            "Maximum value in Knapsack = 220.8\n"
          ]
        },
        {
          "data": {
            "text/plain": [
              "0.0"
            ]
          },
          "execution_count": 12,
          "metadata": {},
          "output_type": "execute_result"
        }
      ],
      "source": [
        "class Item:\n",
        "    def __init__(self, weight, value):\n",
        "        self.weight = weight\n",
        "        self.value = value\n",
        "\n",
        "    def __lt__(self, other):\n",
        "        return self.value//self.weight < other.value//other.weight\n",
        "\n",
        "def fractionalknapsack(weight, value, capacity):\n",
        "\n",
        "    iVal = [Item(weight[i], value[i]) for i in range(len(weight))]\n",
        "\n",
        "    # sorting items by value\n",
        "    iVal.sort(reverse=True)\n",
        "\n",
        "    totalValue = 0\n",
        "    for i in iVal:\n",
        "        curWt = int(i.weight)\n",
        "        curVal = int(i.value)\n",
        "        if capacity - curWt >= 0:\n",
        "            capacity -= curWt\n",
        "            totalValue += curVal\n",
        "        else:\n",
        "            fraction = capacity / curWt\n",
        "            totalValue += curVal * fraction\n",
        "            capacity = int(capacity - (curWt * fraction))\n",
        "            break\n",
        "    return totalValue\n",
        "\n",
        "wt = [5,10,15,22,25]\n",
        "val = [30,40,45,77,90]\n",
        "capacity = 60\n",
        "\n",
        "# Function call\n",
        "maxValue = fractionalknapsack(wt, val, capacity)\n",
        "print(\"Maximum value in Knapsack =\", maxValue)\n",
        "\n",
        "import time\n",
        "start = time.time()\n",
        "end = time.time()\n",
        "end-start"
      ]
    },
    {
      "cell_type": "markdown",
      "id": "820da933",
      "metadata": {
        "id": "820da933"
      },
      "source": [
        "### Object-6\n",
        "#### Write a program to find out minimum spanning tree and their weight by kruskal algorithm. Also calculate the time taken by the program on the graph dataset by using disjoint data structure"
      ]
    },
    {
      "cell_type": "code",
      "execution_count": null,
      "id": "39447dc3",
      "metadata": {
        "id": "39447dc3",
        "outputId": "44be1d7d-0679-4c1b-d892-d4fafbb3a2e6"
      },
      "outputs": [
        {
          "name": "stdout",
          "output_type": "stream",
          "text": [
            "Edge \tWeight\n",
            "0 - 2 \t 1\n",
            "3 - 4 \t 1\n",
            "1 - 3 \t 2\n",
            "2 - 3 \t 2\n",
            "1 - 5 \t 3\n",
            "\n",
            "Cost of minimum spanning tree : 9\n"
          ]
        },
        {
          "data": {
            "text/plain": [
              "0.0004973411560058594"
            ]
          },
          "execution_count": 13,
          "metadata": {},
          "output_type": "execute_result"
        }
      ],
      "source": [
        "class Edge :\n",
        "    def __init__(self, src, destination, weight) :\n",
        "        self.src = src\n",
        "        self.dst = destination\n",
        "        self.weight = weight\n",
        "        \n",
        "    def __lt__(self, other):\n",
        "        return self.weight < other.weight\n",
        "        \n",
        "class Graph :\n",
        "    def __init__(self, num_nodes, edgelist) :\n",
        "        self.num_nodes = num_nodes\n",
        "        self.edgelist = edgelist\n",
        "        self.parent = []\n",
        "        self.rank = []\n",
        "        self.mst = []\n",
        "        \n",
        "    def FindParent (self, node) :\n",
        "        if node == self.parent[node] :\n",
        "            return node\n",
        "        return self.FindParent(self.parent[node])\n",
        "    \n",
        "    def KruskalMST (self) :\n",
        "        self.edgelist.sort()\n",
        "        self.parent = [i for i in range(self.num_nodes)]  # Every node is the parent of itself at the beginning \n",
        "        self.rank = [0] * self.num_nodes\n",
        "            \n",
        "      # union find\n",
        "        for edge in self.edgelist :\n",
        "            root1 = self.FindParent(edge.src)\n",
        "            root2 = self.FindParent(edge.dst)\n",
        "            \n",
        "            if root1 != root2 :\n",
        "                self.mst.append(edge)\n",
        "                if self.rank[root1] < self.rank[root2] :\n",
        "                    self.parent[root1] = root2\n",
        "                    self.rank[root2] += 1\n",
        "                else :\n",
        "                    self.parent[root2] = root1\n",
        "                    self.rank[root1] += 1\n",
        "                \n",
        "        print (\"Edge \\tWeight\")\n",
        "        cost = 0\n",
        "        for edge in self.mst :\n",
        "            print(edge.src, \"-\", edge.dst, \"\\t\", edge.weight)\n",
        "            cost += edge.weight\n",
        "        print(\"\\nCost of minimum spanning tree : \" +str(cost))\n",
        "\n",
        "if __name__ == \"__main__\" :\n",
        "     num_nodes = 6\n",
        "     e1 = Edge(0, 1, 4)\n",
        "     e2 = Edge(0, 2, 1)\n",
        "     e3 = Edge(0, 3, 5)\n",
        "     e4 = Edge(1, 3, 2)\n",
        "     e5 = Edge(1, 4, 3)\n",
        "     e6 = Edge(1, 5, 3)\n",
        "     e7 = Edge(2, 3, 2)\n",
        "     e8 = Edge(2, 4, 8)\n",
        "     e9 = Edge(3, 4, 1)\n",
        "     e10 = Edge(4, 5, 3)\n",
        "\n",
        "     g1 = Graph(num_nodes, [e1, e2, e3, e4, e5, e6, e7, e8, e9, e10])\n",
        "     g1.KruskalMST()\n",
        "\n",
        "import time\n",
        "start = time.time()\n",
        "end = time.time()\n",
        "end-start"
      ]
    },
    {
      "cell_type": "markdown",
      "id": "76982ef6",
      "metadata": {
        "id": "76982ef6"
      },
      "source": [
        "\n",
        "### Question:-Write applications of disjoint data structure\n",
        "\n",
        "#### Ans:- Disjoint-set data structures play a key role in Kruskal's algorithm for finding the minimum spanning tree of a graph.\n",
        "#### It is used to detect cycles in the graph.\n",
        "#### It is used to keep track of connected component in an undirected graph."
      ]
    },
    {
      "cell_type": "markdown",
      "id": "fbe031d0",
      "metadata": {
        "id": "fbe031d0"
      },
      "source": [
        "### Object-7\n",
        "#### Write a program to implement Prim's algorithm and time taken by program"
      ]
    },
    {
      "cell_type": "code",
      "execution_count": null,
      "id": "8cf87123",
      "metadata": {
        "id": "8cf87123",
        "outputId": "c9df2f2c-3eac-4614-8994-30f8b6d281bb"
      },
      "outputs": [
        {
          "name": "stdout",
          "output_type": "stream",
          "text": [
            "Edge \tWeight\n",
            "0 - 1 \t 2\n",
            "1 - 2 \t 3\n",
            "0 - 3 \t 6\n",
            "1 - 4 \t 5\n",
            "Cost of minimum spanning tree : 16\n"
          ]
        },
        {
          "data": {
            "text/plain": [
              "0.0"
            ]
          },
          "execution_count": 1,
          "metadata": {},
          "output_type": "execute_result"
        }
      ],
      "source": [
        "class Graph():\n",
        "    \n",
        "    def __init__(self, vertices, adjacency_matrix=None):\n",
        "        self.V = vertices\n",
        "        self.graph = [[0 for column in range(vertices)] \n",
        "                      for row in range(vertices)] if adjacency_matrix == None else adjacency_matrix\n",
        "            \n",
        "    def minKey(self, key, mstSet):\n",
        "        min = None\n",
        "        for v in range(self.V):\n",
        "            if (min is None or key[v] < min) and mstSet[v] == False:\n",
        "                min = key[v]\n",
        "                min_index = v\n",
        "        return min_index\n",
        "    \n",
        "    def PrimMST(self):\n",
        "        key = [1000000] * self.V\n",
        "        parent = [None] * self.V\n",
        "        key[0] = 0 \n",
        "        mstSet = [False] * self.V\n",
        "        parent[0] = -1 \n",
        "        \n",
        "        for _ in range(self.V):\n",
        "            u = self.minKey(key, mstSet)\n",
        "            mstSet[u] = True\n",
        "            \n",
        "            for v in range(self.V):\n",
        "                weight = self.graph[u][v]\n",
        "                if weight > 0 and mstSet[v] == False and key[v] > weight:\n",
        "                        key[v] = weight\n",
        "                        parent[v] = u\n",
        "        \n",
        "        print (\"Edge \\tWeight\")\n",
        "        cost = 0\n",
        "        for i in range(1,self.V):\n",
        "            weight = self.graph[i][ parent[i]]\n",
        "            print (parent[i],\"-\",i,\"\\t\", weight)\n",
        "            cost += weight\n",
        "        print('Cost of minimum spanning tree :', cost)\n",
        "        \n",
        "if __name__ == \"__main__\" :\n",
        "    adjacency_matrix = [ [0, 2, 0, 6, 0],\n",
        "              [2, 0, 3, 8, 5],\n",
        "              [0, 3, 0, 0, 7],\n",
        "              [6, 8, 0, 0, 9],\n",
        "              [0, 5, 7, 9, 0],\n",
        "            ]\n",
        "\n",
        "    g  = Graph(5, adjacency_matrix)\n",
        "    g.PrimMST();\n",
        "\n",
        "import time\n",
        "start = time.time()\n",
        "end = time.time()\n",
        "end-start"
      ]
    },
    {
      "cell_type": "markdown",
      "id": "b58d08ab",
      "metadata": {
        "id": "b58d08ab"
      },
      "source": [
        "### Object-8\n",
        "#### Write a program to implement Single Source Shortest Path (Dijkstra Algorithm)and time taken by the program Single source shortest path(Dijkstra Algorithm)"
      ]
    },
    {
      "cell_type": "code",
      "execution_count": null,
      "id": "77639317",
      "metadata": {
        "id": "77639317",
        "outputId": "417ed2f5-0aa8-4ef0-eadc-445a7c754a2e"
      },
      "outputs": [
        {
          "name": "stdout",
          "output_type": "stream",
          "text": [
            "We found the following best path with a value of 89.\n",
            "A -> F -> G -> M -> L\n"
          ]
        }
      ],
      "source": [
        "import math\n",
        "\n",
        "class BinaryHeap:   \n",
        "    def __init__(self, arr=[]):\n",
        "        self.arr = []\n",
        "        \n",
        "    def __str__(self):\n",
        "        return f\"{self.arr}\"\n",
        "    \n",
        "    def __len__(self):\n",
        "        return len(self.arr)\n",
        "    \n",
        "    def __getitem__(self, index):\n",
        "        return self.arr[index]\n",
        "\n",
        "    def heapify(self, arr):\n",
        "        self.arr = arr\n",
        "        n = len(self.arr)\n",
        "        for i in range(n//2 - 1, -1, -1):\n",
        "            self.min_heapify(self.arr, n, i)\n",
        "        return self.arr\n",
        "\n",
        "    def min_heapify(self, A, n, i):\n",
        "        smallest = i\n",
        "        l = 2 * i + 1\n",
        "        r = 2 * i + 2\n",
        "        if l < n and A[smallest] > A[l]:\n",
        "            smallest = l\n",
        "        if r < n and A[smallest] > A[r]:\n",
        "            smallest = r\n",
        "        if smallest != i:\n",
        "            A[i], A[smallest] = A[smallest], A[i]\n",
        "            self.min_heapify(A, n, smallest)\n",
        "\n",
        "    def push(self, item):\n",
        "        self.arr.append(item)\n",
        "        pos = len(self.arr) - 1\n",
        "        while self.arr[pos] < self.arr[pos//2]:\n",
        "            self.arr[pos], self.arr[pos//2] = self.arr[pos//2], self.arr[pos]\n",
        "            pos = pos//2\n",
        "        return self.arr\n",
        "\n",
        "    def pop(self):\n",
        "        lastelt = self.arr.pop()\n",
        "        if self.arr:\n",
        "            returnitem = self.arr[0]\n",
        "            self.arr[0] = lastelt\n",
        "            self.min_heapify(self.arr, len(self.arr), 0)\n",
        "            return returnitem\n",
        "        return lastelt\n",
        "\n",
        "class Edge :\n",
        "    def __init__(self, src, destination, weight) :\n",
        "        self.src = src\n",
        "        self.dst = destination\n",
        "        self.weight = weight\n",
        "        \n",
        "    def __lt__(self, other):\n",
        "        return self.weight < other.weight\n",
        "    \n",
        "    def __repr__(self):\n",
        "        return f\"[{self.src}-{self.dst}]({self.weight})\"\n",
        "    \n",
        "    def __str__(self):\n",
        "        return f\"[{self.src}-{self.dst}]({self.weight})\"\n",
        "\n",
        "class Vertex:\n",
        "    def __init__(self, node):\n",
        "        self.id = node\n",
        "        self.adjacent = {}\n",
        "        self.distance = 100000000 \n",
        "        self.visited = False\n",
        "        \n",
        "    def __getitem__(self, key):\n",
        "        return self.adjacent[key]\n",
        "        \n",
        "    def __setitem__(self, key, value):\n",
        "        self.adjacent[key] = value\n",
        "        \n",
        "    def __lt__(self, other):\n",
        "        return self.distance < other.distance\n",
        "\n",
        "    def __str__(self):\n",
        "        return str({x.id for x in self.adjacent})\n",
        "    \n",
        "    def __repr__(self):\n",
        "        return str({x.id for x in self.adjacent})\n",
        "    \n",
        "class Graph:\n",
        "    def __init__(self):\n",
        "        self.graph = {}\n",
        "\n",
        "    def __iter__(self):\n",
        "        return iter(self.graph.values())\n",
        "    \n",
        "    def __getitem__(self, key):\n",
        "        return self.graph[key]\n",
        "    \n",
        "    def add_vertex(self, vertex):\n",
        "        if type(vertex) is list:\n",
        "            for n in vertex:\n",
        "                self.graph[n] = Vertex(n)\n",
        "        else:\n",
        "            self.graph[vertex] = Vertex(vertex)\n",
        "             \n",
        "    def add_edge(self, edges:list):\n",
        "        try:\n",
        "            for edge in edges:\n",
        "                if edge.src not in self.graph:\n",
        "                    self.add_vertex(edge.src)\n",
        "                if edge.dst not in self.graph:\n",
        "                    self.add_vertex(edge.dst)\n",
        "                    \n",
        "                self.graph[edge.src][self.graph[edge.dst]] = edge.weight\n",
        "                self.graph[edge.dst][self.graph[edge.src]] = edge.weight\n",
        "        except TypeError:\n",
        "            print(f'{edges} edges should be type of list')\n",
        "        \n",
        "    def get_vertex(self, n):\n",
        "        if n in self.graph:\n",
        "            return self.graph[n]\n",
        "        else:\n",
        "            return None\n",
        "        \n",
        "    def get_vertices(self):\n",
        "        return self.graph.keys()\n",
        "    \n",
        "    def value(self, vertex1, vertex2):\n",
        "        return self.graph[vertex1][vertex2]\n",
        "    \n",
        "    def erase(self):\n",
        "        for v in self:\n",
        "            v.visited = False\n",
        "            v.distance = math.inf\n",
        "        \n",
        "def dijkstra_algorithm(graph, start_vertex, target_vertex=None, erase=False):    \n",
        "    graph.get_vertex(start_vertex).distance = 0\n",
        "    \n",
        "    unvisited_queue = BinaryHeap()\n",
        "    unvisited_queue.heapify([(v, v.distance) for v in graph])\n",
        "    \n",
        "    shortest_path = {vertex[0].id:math.inf for vertex in unvisited_queue}\n",
        "    shortest_path[start_vertex] = 0\n",
        "    \n",
        "    previous_vertices = {}\n",
        "    \n",
        "    while len(unvisited_queue):\n",
        "        uv = unvisited_queue.pop()\n",
        "        current = uv[0]\n",
        "        current.visited = True\n",
        "\n",
        "        for next_ in current.adjacent:\n",
        "            if next_.visited:\n",
        "                continue\n",
        "            new_dist = current.distance + current[next_]\n",
        "            if new_dist < next_.distance:\n",
        "                next_.distance = new_dist\n",
        "                shortest_path[next_.id] = new_dist\n",
        "                previous_vertices[next_.id] = current.id\n",
        "\n",
        "        # Rebuild heap\n",
        "        # 1. Pop every item\n",
        "        while len(unvisited_queue):\n",
        "            unvisited_queue.pop()\n",
        "        # 2. Put all vertices not visited into the queue\n",
        "        unvisited_queue = BinaryHeap()\n",
        "        unvisited_queue.heapify([(v, v.distance) for v in graph if not v.visited])\n",
        "        \n",
        "    if erase:\n",
        "        graph.erase()\n",
        "     \n",
        "    if target_vertex:\n",
        "        path = []\n",
        "        \n",
        "        vertex = target_vertex\n",
        "        while vertex != start_vertex:\n",
        "            path.append(vertex)\n",
        "            vertex = previous_vertices[graph.get_vertex(vertex).id]\n",
        " \n",
        "        path.append(start_vertex)\n",
        "    \n",
        "        print(\"We found the following best path with a value of {}.\".format(shortest_path[target_vertex]))\n",
        "        print(\" -> \".join(reversed(path)))\n",
        "        \n",
        "    else:\n",
        "        return previous_vertices, shortest_path\n",
        "        \n",
        "g = Graph()\n",
        "g.add_vertex([\"A\", \"B\", \"C\", \"D\", \"E\", \"F\", \"G\", \n",
        "              \"H\", \"I\", \"J\", \"K\", \"L\", \"M\"])\n",
        "\n",
        "e1, e2 = Edge('D', 'F', 10), Edge('D', 'G', 11)\n",
        "e3, e4 = Edge('D', 'A', 16), Edge('D', 'C', 22)\n",
        "e5, e6 = Edge('D', 'B', 12), Edge('F', 'H', 33)\n",
        "e7, e8 = Edge('F', 'C', 17), Edge('F', 'M', 44)\n",
        "e9, e10 = Edge('F', 'A', 15), Edge('F', 'B', 55)\n",
        "e11, e12 = Edge('F', 'G', 6), Edge('F', 'E', 66)\n",
        "e13, e14 = Edge('I', 'A', 26), Edge('I', 'J', 77)\n",
        "e15, e16 = Edge(\"I\", 'H', 28), Edge('I', 'L', 88)\n",
        "e17, e18 = Edge('C', 'A', 9), Edge('C', 'B', 99)\n",
        "e19, e20 = Edge('E', 'C', 18), Edge('E', 'H', 29)\n",
        "e21, e22 = Edge('E', 'B', 27), Edge('M', 'K', 39),\n",
        "e23, e24 = Edge('M', 'H', 13), Edge('M', 'L', 49)\n",
        "e25, e26 = Edge('G', 'M', 19), Edge('G', 'H', 59)\n",
        "e27, e28 = Edge('G', 'K', 21), Edge('B', 'A', 69)\n",
        "e29, e30 = Edge('J', 'K', 23), Edge('J', 'L', 79)\n",
        "\n",
        "g.add_edge([e1, e2, e3, e4, e5, e6, e7, e8, e9, e10, e11, e12, e13, e14, e15, e16, e17, e18, e19, e20])\n",
        "g.add_edge([e21, e22, e23, e24, e25, e26, e27, e28, e29, e30])\n",
        "dijkstra_algorithm(g, start_vertex='A', target_vertex='L')"
      ]
    },
    {
      "cell_type": "markdown",
      "id": "ab58ee3e",
      "metadata": {
        "id": "ab58ee3e"
      },
      "source": [
        "### Object-9\n",
        "#### Program to implement Floyd Warshall Algorithm"
      ]
    },
    {
      "cell_type": "code",
      "execution_count": null,
      "id": "6d43775a",
      "metadata": {
        "id": "6d43775a",
        "outputId": "8b200f30-4f08-473e-d625-8652462067e7"
      },
      "outputs": [
        {
          "data": {
            "text/plain": [
              "[[0, 3, 7, 5], [2, 0, 6, 4], [3, 1, 0, 5], [5, 3, 2, 0]]"
            ]
          },
          "execution_count": 5,
          "metadata": {},
          "output_type": "execute_result"
        }
      ],
      "source": [
        "import math\n",
        "\n",
        "def flyod_warshall(G, nV):\n",
        "    for i in range(nV):\n",
        "        for j in range(nV):\n",
        "            for k in range(nV):\n",
        "                G[j][k] = min(G[j][k], G[j][i] + G[i][k])\n",
        "    return G\n",
        "\n",
        "G = [\n",
        "    [0, 3, math.inf, 5],\n",
        "    [2, 0, math.inf, 4],\n",
        "    [math.inf, 1, 0, math.inf],\n",
        "    [math.inf, math.inf, 2, 0]\n",
        "]\n",
        "flyod_warshall(G, len(G))"
      ]
    },
    {
      "cell_type": "markdown",
      "id": "b5eec529",
      "metadata": {
        "id": "b5eec529"
      },
      "source": [
        "### Object-10\n",
        "#### Program to implement 0/1 Knapsack problem"
      ]
    },
    {
      "cell_type": "code",
      "execution_count": null,
      "id": "fb1c0df9",
      "metadata": {
        "id": "fb1c0df9",
        "outputId": "6142433a-8d18-47b3-82cc-cad14ba882fc"
      },
      "outputs": [
        {
          "name": "stdout",
          "output_type": "stream",
          "text": [
            "6\n"
          ]
        }
      ],
      "source": [
        "# zero one knapsack problem\n",
        "def knapSack(W, wt, profit, n): \n",
        "#base case    \n",
        "    if n == 0 or W == 0: \n",
        "        return 0\n",
        "    if (wt[n-1] > W):     # optimal solution \n",
        "        return knapSack(W, wt, profit, n-1) \n",
        "    else: \n",
        "        return max( \n",
        "            profit[n-1] + knapSack(W-wt[n-1], wt, profit, n-1), \n",
        "            knapSack(W, wt, profit, n-1)) \n",
        "#end of knapsack function            \n",
        "\n",
        "profit = [1, 2,5] \n",
        "\n",
        "wt = [2,3,4] \n",
        "\n",
        "W = 6\n",
        "\n",
        "n = len(profit) \n",
        "\n",
        "print(knapSack(W, wt, profit, n))"
      ]
    },
    {
      "cell_type": "markdown",
      "id": "00386cca",
      "metadata": {
        "id": "00386cca"
      },
      "source": [
        "### Object-11\n",
        "#### Program to Implement DFS using recursive algorithm"
      ]
    },
    {
      "cell_type": "code",
      "execution_count": null,
      "id": "31026cbd",
      "metadata": {
        "id": "31026cbd",
        "outputId": "29b0efcc-547f-46f2-d0af-c579d3a60f14"
      },
      "outputs": [
        {
          "name": "stdout",
          "output_type": "stream",
          "text": [
            "DFS traversal from node vertex 2\n",
            "2 3 1 5 4 6 "
          ]
        }
      ],
      "source": [
        "# program of DFS traversal from a graph\n",
        "from collections import defaultdict\n",
        "\n",
        "\n",
        "# Represents a directed graph using adjacency list \n",
        "class Graph:\n",
        "\n",
        "    def __init__(self):\n",
        "        self.graph = defaultdict(list)              # default dictionary to store graph\n",
        "\n",
        "    \n",
        "    def addEdge(self, u, v):                       # function to add an edge to graph\n",
        "        self.graph[u].append(v)\n",
        "\n",
        "    \n",
        "    def DFSUtil(self, v, visited):                 # A function used by DFS\n",
        "\n",
        "        # Mark the current node as visited and print \n",
        "        visited.add(v)\n",
        "        print(v, end=' ')\n",
        "\n",
        "        # Recursive for all the vertices adjacent to this vertex\n",
        "        for neighbour in self.graph[v]:\n",
        "            if neighbour not in visited:\n",
        "                self.DFSUtil(neighbour, visited)\n",
        "\n",
        "    # The function to do DFS traversal. It uses recursive DFSUtil()\n",
        "    def DFS(self, v):\n",
        "\n",
        "        # Create a set to store visited vertices\n",
        "        visited = set()\n",
        "\n",
        "        # recursive call\n",
        "        self.DFSUtil(v, visited)\n",
        "\n",
        "\n",
        "# Create a graph\n",
        "g = Graph()\n",
        "g.addEdge(1,2)\n",
        "g.addEdge(1,3)\n",
        "g.addEdge(2,3)\n",
        "g.addEdge(3,1)\n",
        "g.addEdge(3,4)\n",
        "g.addEdge(4,1)\n",
        "g.addEdge(1,5)\n",
        "g.addEdge(3,6)\n",
        "\n",
        "print(\"DFS traversal from node vertex 2\")\n",
        "g.DFS(2)"
      ]
    },
    {
      "cell_type": "markdown",
      "id": "ad95da32",
      "metadata": {
        "id": "ad95da32"
      },
      "source": [
        "### Object-12\n",
        "#### Program to find strongly connected components (Kosaraju's algorithm)"
      ]
    },
    {
      "cell_type": "code",
      "execution_count": null,
      "id": "28595b18",
      "metadata": {
        "id": "28595b18",
        "outputId": "8ec2a853-b662-4d60-c582-3968bfcc49d8"
      },
      "outputs": [
        {
          "name": "stdout",
          "output_type": "stream",
          "text": [
            "Strongly Connected Components:\n",
            "0321\n",
            "465\n",
            "7\n"
          ]
        }
      ],
      "source": [
        "from collections import defaultdict\n",
        "\n",
        "class Graph:\n",
        "\n",
        "    def __init__(self, vertex):\n",
        "        self.V = vertex\n",
        "        self.graph = defaultdict(list)\n",
        "\n",
        "    # Add edge into the graph\n",
        "    def add_edge(self, s, d):\n",
        "        self.graph[s].append(d)\n",
        "\n",
        "    # dfs\n",
        "    def dfs(self, d, visited_vertex):\n",
        "        visited_vertex[d] = True\n",
        "        print(d, end='')\n",
        "        for i in self.graph[d]:\n",
        "            if not visited_vertex[i]:\n",
        "                self.dfs(i, visited_vertex)\n",
        "\n",
        "    def fill_order(self, d, visited_vertex, stack):\n",
        "        visited_vertex[d] = True\n",
        "        for i in self.graph[d]:\n",
        "            if not visited_vertex[i]:\n",
        "                self.fill_order(i, visited_vertex, stack)\n",
        "        stack = stack.append(d)\n",
        "\n",
        "    # transpose the matrix\n",
        "    def transpose(self):\n",
        "        g = Graph(self.V)\n",
        "\n",
        "        for i in self.graph:\n",
        "            for j in self.graph[i]:\n",
        "                g.add_edge(j, i)\n",
        "        return g\n",
        "\n",
        "    # Print stongly connected components\n",
        "    def print_scc(self):\n",
        "        stack = []\n",
        "        visited_vertex = [False] * (self.V)\n",
        "\n",
        "        for i in range(self.V):\n",
        "            if not visited_vertex[i]:\n",
        "                self.fill_order(i, visited_vertex, stack)\n",
        "\n",
        "        gr = self.transpose()\n",
        "\n",
        "        visited_vertex = [False] * (self.V)\n",
        "\n",
        "        while stack:\n",
        "            i = stack.pop()\n",
        "            if not visited_vertex[i]:\n",
        "                gr.dfs(i, visited_vertex)\n",
        "                print(\"\")\n",
        "\n",
        "\n",
        "g = Graph(8)\n",
        "g.add_edge(0, 1)\n",
        "g.add_edge(1, 2)\n",
        "g.add_edge(2, 3)\n",
        "g.add_edge(2, 4)\n",
        "g.add_edge(3, 0)\n",
        "g.add_edge(4, 5)\n",
        "g.add_edge(5, 6)\n",
        "g.add_edge(6, 4)\n",
        "g.add_edge(6, 7)\n",
        "\n",
        "print(\"Strongly Connected Components:\")\n",
        "g.print_scc()"
      ]
    },
    {
      "cell_type": "code",
      "execution_count": null,
      "id": "50af5a8d",
      "metadata": {
        "id": "50af5a8d"
      },
      "outputs": [],
      "source": [
        ""
      ]
    }
  ],
  "metadata": {
    "kernelspec": {
      "display_name": "Python 3 (ipykernel)",
      "language": "python",
      "name": "python3"
    },
    "language_info": {
      "codemirror_mode": {
        "name": "ipython",
        "version": 3
      },
      "file_extension": ".py",
      "mimetype": "text/x-python",
      "name": "python",
      "nbconvert_exporter": "python",
      "pygments_lexer": "ipython3",
      "version": "3.8.8"
    },
    "colab": {
      "name": "Lab Work DAA (VI Semester)",
      "provenance": [],
      "include_colab_link": true
    }
  },
  "nbformat": 4,
  "nbformat_minor": 5
}